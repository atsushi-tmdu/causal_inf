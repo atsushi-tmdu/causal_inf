{
 "cells": [
  {
   "cell_type": "code",
   "execution_count": 372,
   "metadata": {},
   "outputs": [],
   "source": [
    "import torch\n",
    "import torch.nn as nn\n",
    "import torch.nn.functional as F\n",
    "import torchvision.transforms as transforms\n",
    "from torch.autograd import Variable\n",
    "from torch import optim\n",
    "import pyro\n",
    "import pyro.distributions as dist\n",
    "\n",
    "from tensorboardX import SummaryWriter\n",
    "\n",
    "from tqdm import tqdm\n",
    "import time\n",
    "\n",
    "\n",
    "import numpy as np\n",
    "import random\n",
    "from numpy.random import *\n",
    "import matplotlib.pyplot as plt \n",
    "#np.random.seed(100)\n",
    "from mpl_toolkits.mplot3d import Axes3D\n",
    "%matplotlib inline\n",
    "\n",
    "import csv\n",
    "\n",
    "from sklearn.utils import shuffle\n",
    "from sklearn.model_selection import train_test_split\n",
    "\n",
    "seed = 1234\n",
    "rng = np.random.RandomState(seed)\n",
    "torch.manual_seed(seed)\n",
    "\n",
    "if torch.cuda.is_available():\n",
    "    device='cuda'\n",
    "else:\n",
    "    device='cpu'"
   ]
  },
  {
   "cell_type": "code",
   "execution_count": 373,
   "metadata": {},
   "outputs": [],
   "source": [
    "x1 = np.random.binomial(1,0.5,size=70000)\n",
    "x2 = np.random.normal(0.4*x1+0.5,0.2)\n",
    "effect = 1.5\n",
    "beta2 = 0.8\n",
    "eps = 1e-10\n",
    "b = np.random.normal(0,0.2)\n",
    "\n",
    "\n",
    "def kaiki(x1=x1,x2=x2,effect=effect,beta2=beta2,b=b):\n",
    "    return effect*x1+beta2*x2+b\n",
    "\n",
    "yogo = kaiki(x1,x2)\n",
    "data = np.array((x1,x2,yogo)).T"
   ]
  },
  {
   "cell_type": "code",
   "execution_count": 374,
   "metadata": {},
   "outputs": [],
   "source": [
    "train_data = np.array(data[:60000])#train[:,0]:conditional, train[:,1]:feature, train[:,2]:outcome\n",
    "test_data  = np.array(data[60000:])"
   ]
  },
  {
   "cell_type": "code",
   "execution_count": null,
   "metadata": {},
   "outputs": [],
   "source": []
  },
  {
   "cell_type": "code",
   "execution_count": 375,
   "metadata": {},
   "outputs": [
    {
     "name": "stdout",
     "output_type": "stream",
     "text": [
      "0.3999336440742442\n",
      "2.219005934227186\n",
      "1.8190722901529417\n"
     ]
    },
    {
     "data": {
      "image/png": "[encoded data removed]",
      "text/plain": [
       "<Figure size 432x288 with 1 Axes>"
      ]
     },
     "metadata": {
      "needs_background": "light"
     },
     "output_type": "display_data"
    }
   ],
   "source": [
    "plt.hist(yogo, bins=100)\n",
    "#x1=0のとき\n",
    "untreat_group = beta2*np.random.normal(0.5,0.2,size=50000)+np.random.normal(0,0.2,size=50000)\n",
    "print(untreat_group.mean())\n",
    "#x1=1のとき\n",
    "treat_group = (effect+beta2*np.random.normal(0.9,0.2, size=50000)+np.random.normal(0,0.2,size=50000))\n",
    "print(treat_group.mean())\n",
    "print(treat_group.mean()-untreat_group.mean())"
   ]
  },
  {
   "cell_type": "code",
   "execution_count": 376,
   "metadata": {},
   "outputs": [
    {
     "data": {
      "text/plain": [
       "(array([1.000e+00, 2.000e+00, 0.000e+00, 1.000e+00, 1.000e+00, 1.000e+00,\n",
       "        2.000e+00, 2.000e+00, 6.000e+00, 7.000e+00, 1.600e+01, 5.000e+00,\n",
       "        1.200e+01, 1.400e+01, 2.300e+01, 3.400e+01, 3.600e+01, 5.000e+01,\n",
       "        4.300e+01, 5.100e+01, 8.100e+01, 9.900e+01, 1.070e+02, 1.480e+02,\n",
       "        1.580e+02, 1.690e+02, 2.390e+02, 2.710e+02, 3.300e+02, 4.160e+02,\n",
       "        4.180e+02, 4.850e+02, 5.320e+02, 6.230e+02, 7.120e+02, 7.120e+02,\n",
       "        8.040e+02, 8.920e+02, 9.880e+02, 1.104e+03, 1.077e+03, 1.251e+03,\n",
       "        1.298e+03, 1.259e+03, 1.412e+03, 1.497e+03, 1.541e+03, 1.500e+03,\n",
       "        1.503e+03, 1.576e+03, 1.582e+03, 1.607e+03, 1.546e+03, 1.572e+03,\n",
       "        1.478e+03, 1.540e+03, 1.395e+03, 1.364e+03, 1.350e+03, 1.232e+03,\n",
       "        1.166e+03, 1.112e+03, 1.038e+03, 9.740e+02, 9.090e+02, 8.440e+02,\n",
       "        7.430e+02, 6.760e+02, 6.050e+02, 5.380e+02, 4.890e+02, 4.160e+02,\n",
       "        3.340e+02, 3.070e+02, 2.810e+02, 2.730e+02, 1.940e+02, 1.700e+02,\n",
       "        1.240e+02, 1.070e+02, 8.600e+01, 9.200e+01, 6.000e+01, 6.600e+01,\n",
       "        4.600e+01, 3.400e+01, 2.800e+01, 2.400e+01, 2.500e+01, 1.100e+01,\n",
       "        1.600e+01, 8.000e+00, 6.000e+00, 8.000e+00, 3.000e+00, 3.000e+00,\n",
       "        2.000e+00, 2.000e+00, 1.000e+00, 4.000e+00]),\n",
       " array([0.34624213, 0.37513382, 0.40402552, 0.43291722, 0.46180892,\n",
       "        0.49070062, 0.51959231, 0.54848401, 0.57737571, 0.60626741,\n",
       "        0.63515911, 0.6640508 , 0.6929425 , 0.7218342 , 0.7507259 ,\n",
       "        0.7796176 , 0.80850929, 0.83740099, 0.86629269, 0.89518439,\n",
       "        0.92407609, 0.95296778, 0.98185948, 1.01075118, 1.03964288,\n",
       "        1.06853458, 1.09742627, 1.12631797, 1.15520967, 1.18410137,\n",
       "        1.21299307, 1.24188477, 1.27077646, 1.29966816, 1.32855986,\n",
       "        1.35745156, 1.38634326, 1.41523495, 1.44412665, 1.47301835,\n",
       "        1.50191005, 1.53080175, 1.55969344, 1.58858514, 1.61747684,\n",
       "        1.64636854, 1.67526024, 1.70415193, 1.73304363, 1.76193533,\n",
       "        1.79082703, 1.81971873, 1.84861042, 1.87750212, 1.90639382,\n",
       "        1.93528552, 1.96417722, 1.99306891, 2.02196061, 2.05085231,\n",
       "        2.07974401, 2.10863571, 2.13752741, 2.1664191 , 2.1953108 ,\n",
       "        2.2242025 , 2.2530942 , 2.2819859 , 2.31087759, 2.33976929,\n",
       "        2.36866099, 2.39755269, 2.42644439, 2.45533608, 2.48422778,\n",
       "        2.51311948, 2.54201118, 2.57090288, 2.59979457, 2.62868627,\n",
       "        2.65757797, 2.68646967, 2.71536137, 2.74425306, 2.77314476,\n",
       "        2.80203646, 2.83092816, 2.85981986, 2.88871155, 2.91760325,\n",
       "        2.94649495, 2.97538665, 3.00427835, 3.03317005, 3.06206174,\n",
       "        3.09095344, 3.11984514, 3.14873684, 3.17762854, 3.20652023,\n",
       "        3.23541193]),\n",
       " <a list of 100 Patch objects>)"
      ]
     },
     "execution_count": 376,
     "metadata": {},
     "output_type": "execute_result"
    },
    {
     "data": {
      "image/png": "[encoded data removed]",
      "text/plain": [
       "<Figure size 432x288 with 1 Axes>"
      ]
     },
     "metadata": {
      "needs_background": "light"
     },
     "output_type": "display_data"
    }
   ],
   "source": [
    "plt.hist(treat_group-untreat_group, bins=100)"
   ]
  },
  {
   "cell_type": "code",
   "execution_count": 377,
   "metadata": {},
   "outputs": [],
   "source": [
    "batch_size = 100\n",
    "num_iters = 6000\n",
    "num_epochs = int(batch_size* num_iters/len(train_data))"
   ]
  },
  {
   "cell_type": "code",
   "execution_count": 378,
   "metadata": {},
   "outputs": [],
   "source": [
    "train_loader = torch.utils.data.DataLoader(dataset=train_data, batch_size = batch_size, shuffle=True)\n",
    "test_loader = torch.utils.data.DataLoader(dataset = test_data, batch_size = batch_size, shuffle = False)"
   ]
  },
  {
   "cell_type": "code",
   "execution_count": 379,
   "metadata": {},
   "outputs": [
    {
     "data": {
      "text/plain": [
       "10"
      ]
     },
     "execution_count": 379,
     "metadata": {},
     "output_type": "execute_result"
    }
   ],
   "source": [
    "num_epochs"
   ]
  },
  {
   "cell_type": "code",
   "execution_count": 380,
   "metadata": {},
   "outputs": [],
   "source": [
    "from pixyz.distributions import Bernoulli, Normal\n",
    "from pixyz.losses import KullbackLeibler\n",
    "from pixyz.models import VAE"
   ]
  },
  {
   "cell_type": "code",
   "execution_count": 381,
   "metadata": {},
   "outputs": [],
   "source": [
    "class Inference(Normal):\n",
    "    def __init__(self, input_dim,cond_dim, hidden_dim, latent_dim):\n",
    "        super(Inference, self).__init__(cond_var=[\"x\",\"y\"], var=[\"z\"], name=\"q\")\n",
    "        \n",
    "        self.fc1 = nn.Linear(input_dim+cond_dim, hidden_dim)\n",
    "        self.fc2 = nn.Linear(hidden_dim, hidden_dim)\n",
    "        self.fc31 = nn.Linear(hidden_dim, latent_dim)\n",
    "        self.fc32 = nn.Linear(hidden_dim, latent_dim)\n",
    "    def forward(self,x,y):\n",
    "        h = F.relu(self.fc1(torch.cat([x,y],1)))\n",
    "        h = F.relu(self.fc2(h))\n",
    "        return {\"loc\": self.fc31(h), \"scale\": F.softplus(self.fc32(h))}\n",
    "\n",
    "class Generator(Normal):\n",
    "    def __init__(self, latent_dim,cond_dim, hidden_dim, output_dim):\n",
    "        super(Generator, self).__init__(cond_var=[\"z\",\"y\"], var=[\"x\"], name=\"p\")\n",
    "        \n",
    "        self.fc1 = nn.Linear(latent_dim+cond_dim, hidden_dim)\n",
    "        self.fc2 = nn.Linear(hidden_dim, hidden_dim)\n",
    "        self.fc31 = nn.Linear(hidden_dim, output_dim)\n",
    "        self.fc32 = nn.Linear(hidden_dim, output_dim)\n",
    "        \n",
    "    def forward(self,z,y):\n",
    "        h = F.relu(self.fc1(torch.cat([z,y],1)))\n",
    "        h = F.relu(self.fc2(h))\n",
    "        return {\"loc\": self.fc31(h), \"scale\": F.softplus(self.fc32(h))}\n"
   ]
  },
  {
   "cell_type": "code",
   "execution_count": 382,
   "metadata": {},
   "outputs": [],
   "source": [
    "input_dim = 1\n",
    "hidden_dim = 100\n",
    "latent_dim = 70\n",
    "output_dim = 1\n",
    "cond_dim = 2\n",
    "estimate_dim =1"
   ]
  },
  {
   "cell_type": "code",
   "execution_count": 383,
   "metadata": {},
   "outputs": [
    {
     "data": {
      "text/plain": [
       "Inference(\n",
       "  (fc1): Linear(in_features=3, out_features=100, bias=True)\n",
       "  (fc2): Linear(in_features=100, out_features=100, bias=True)\n",
       "  (fc31): Linear(in_features=100, out_features=70, bias=True)\n",
       "  (fc32): Linear(in_features=100, out_features=70, bias=True)\n",
       ")"
      ]
     },
     "execution_count": 383,
     "metadata": {},
     "output_type": "execute_result"
    }
   ],
   "source": [
    "p = Generator(latent_dim,cond_dim, hidden_dim, output_dim)\n",
    "q = Inference(input_dim,cond_dim, hidden_dim, latent_dim)\n",
    "\n",
    "\n",
    "p.to(device)\n",
    "q.to(device)\n"
   ]
  },
  {
   "cell_type": "code",
   "execution_count": 384,
   "metadata": {},
   "outputs": [],
   "source": [
    "loc = torch.tensor(0.)\n",
    "scale = torch.tensor(1.)\n",
    "prior = Normal(loc=loc, scale=scale, var=[\"z\"], dim= latent_dim, name=\"p_prior\")"
   ]
  },
  {
   "cell_type": "code",
   "execution_count": 385,
   "metadata": {},
   "outputs": [],
   "source": [
    "kl = KullbackLeibler(q,prior)\n"
   ]
  },
  {
   "cell_type": "code",
   "execution_count": 386,
   "metadata": {},
   "outputs": [],
   "source": [
    "model = VAE(q,p, regularizer = kl, optimizer=optim.Adam, optimizer_params={\"lr\":1e-3})"
   ]
  },
  {
   "cell_type": "code",
   "execution_count": 387,
   "metadata": {},
   "outputs": [],
   "source": [
    "def data_shaper(x,y, input_dim):\n",
    "    x = x.view(-1, input_dim).float()\n",
    "    y = torch.eye(2)[y.long()].float()\n",
    "    return x,y\n",
    "\n",
    "def train(epoch, input_dim):\n",
    "    train_loss = 0\n",
    "    for _data in tqdm(train_loader):\n",
    "        y = _data[:,0]\n",
    "        x = _data[:,1]\n",
    "        x, y = data_shaper(x, y, input_dim)\n",
    "        x = x.to(device)\n",
    "        y = y.to(device)\n",
    "       \n",
    "        loss = model.train({\"x\":x, \"y\":y})\n",
    "        train_loss += loss\n",
    "    #pytorchのlossはデフォルトでは平均の値になる。このためバッチ長をかけて\n",
    "    #全体で割って全体のlossを計算する\n",
    "    \n",
    "    train_loss = train_loss * train_loader.batch_size / len(train_loader.dataset)\n",
    "    print('Epoch:{} Train loss:{:.4f}'.format(epoch, train_loss))\n",
    "    return train_loss"
   ]
  },
  {
   "cell_type": "code",
   "execution_count": 388,
   "metadata": {},
   "outputs": [],
   "source": [
    "def test(epoch, input_dim):\n",
    "    test_loss = 0\n",
    "    for _data in test_loader:\n",
    "        y = _data[:,0]\n",
    "        x = _data[:,1]\n",
    "        x, y = data_shaper(x,y, input_dim)\n",
    "        x = x.to(device)\n",
    "        y = y.to(device)\n",
    "        \n",
    "        loss = model.test({\"x\":x, \"y\":y})\n",
    "        test_loss += loss\n",
    "    test_loss = test_loss * test_loader.batch_size/ len(test_loader.dataset)\n",
    "    print('Test loss:{:.4f}'.format(test_loss))\n",
    "    return test_loss"
   ]
  },
  {
   "cell_type": "code",
   "execution_count": 389,
   "metadata": {},
   "outputs": [],
   "source": [
    "def plot_reconstrunction(x,y,output_dim):\n",
    "    with torch.no_grad():\n",
    "        z = q.sample({\"x\":x, \"y\":y}, return_all=False)\n",
    "        z.update({\"y\":y})\n",
    "        recon_batch = p.sample_mean(z).view(-1, output_dim)\n",
    "        recon = torch.cat([x.view(-1, output_dim), recon_batch]).cpu()\n",
    "        return recon\n",
    "\n",
    "def plot_image_from_latent(z,y, output_dim):\n",
    "    with torch.no_grad():\n",
    "        sample = p.sample_mean({\"z\":z, \"y\":y}).view(-1, output_dim).cpu()\n",
    "        return sample\n",
    "\n",
    "def plot_reconstraction_changing_y(x,y, output_dim):\n",
    "    y_change = torch.eye(2)[range(2)].to(device)\n",
    "    batch_dummy = torch.ones(x.size(0))[:, None].to(device)\n",
    "    recon_all = []\n",
    "    \n",
    "    with torch.no_grad():\n",
    "        for _y in y_change:\n",
    "            z = q.sample({\"x\": x, \"y\": y}, return_all=False)   #batch数だけx,yを代入\n",
    "            z.update({\"y\": batch_dummy * _y[None,:]})\n",
    "            \n",
    "            recon_batch = p.sample_mean(z).view(-1, output_dim)\n",
    "            recon_all.append(recon_batch)\n",
    "            \n",
    "        recon_changing_y = torch.cat(recon_all)\n",
    "        recon_changing_y = torch.cat([x.view( -1, output_dim), recon_changing_y]).cpu()\n",
    "        \n",
    "        return recon_changing_y"
   ]
  },
  {
   "cell_type": "code",
   "execution_count": 390,
   "metadata": {
    "scrolled": true
   },
   "outputs": [
    {
     "name": "stderr",
     "output_type": "stream",
     "text": [
      "100%|██████████| 600/600 [00:03<00:00, 185.88it/s]\n",
      "  0%|          | 0/600 [00:00<?, ?it/s]"
     ]
    },
    {
     "name": "stdout",
     "output_type": "stream",
     "text": [
      "Epoch:1 Train loss:0.0671\n",
      "Test loss:-0.1547\n"
     ]
    },
    {
     "name": "stderr",
     "output_type": "stream",
     "text": [
      "100%|██████████| 600/600 [00:03<00:00, 160.54it/s]\n"
     ]
    },
    {
     "name": "stdout",
     "output_type": "stream",
     "text": [
      "Epoch:2 Train loss:-0.1612\n",
      "Test loss:-0.1590\n"
     ]
    },
    {
     "name": "stderr",
     "output_type": "stream",
     "text": [
      "100%|██████████| 600/600 [00:03<00:00, 160.52it/s]\n",
      "  0%|          | 0/600 [00:00<?, ?it/s]"
     ]
    },
    {
     "name": "stdout",
     "output_type": "stream",
     "text": [
      "Epoch:3 Train loss:-0.1687\n",
      "Test loss:-0.1718\n"
     ]
    },
    {
     "name": "stderr",
     "output_type": "stream",
     "text": [
      "100%|██████████| 600/600 [00:03<00:00, 159.34it/s]\n",
      "  0%|          | 0/600 [00:00<?, ?it/s]"
     ]
    },
    {
     "name": "stdout",
     "output_type": "stream",
     "text": [
      "Epoch:4 Train loss:-0.1704\n",
      "Test loss:-0.1486\n"
     ]
    },
    {
     "name": "stderr",
     "output_type": "stream",
     "text": [
      "100%|██████████| 600/600 [00:03<00:00, 162.09it/s]\n",
      "  0%|          | 0/600 [00:00<?, ?it/s]"
     ]
    },
    {
     "name": "stdout",
     "output_type": "stream",
     "text": [
      "Epoch:5 Train loss:-0.1750\n",
      "Test loss:-0.1782\n"
     ]
    },
    {
     "name": "stderr",
     "output_type": "stream",
     "text": [
      "100%|██████████| 600/600 [00:03<00:00, 161.34it/s]\n",
      "  0%|          | 0/600 [00:00<?, ?it/s]"
     ]
    },
    {
     "name": "stdout",
     "output_type": "stream",
     "text": [
      "Epoch:6 Train loss:-0.1763\n",
      "Test loss:-0.1822\n"
     ]
    },
    {
     "name": "stderr",
     "output_type": "stream",
     "text": [
      "100%|██████████| 600/600 [00:03<00:00, 188.73it/s]\n",
      "  0%|          | 0/600 [00:00<?, ?it/s]"
     ]
    },
    {
     "name": "stdout",
     "output_type": "stream",
     "text": [
      "Epoch:7 Train loss:-0.1785\n",
      "Test loss:-0.1806\n"
     ]
    },
    {
     "name": "stderr",
     "output_type": "stream",
     "text": [
      "100%|██████████| 600/600 [00:03<00:00, 164.94it/s]\n",
      "  0%|          | 0/600 [00:00<?, ?it/s]"
     ]
    },
    {
     "name": "stdout",
     "output_type": "stream",
     "text": [
      "Epoch:8 Train loss:-0.1781\n",
      "Test loss:-0.1815\n"
     ]
    },
    {
     "name": "stderr",
     "output_type": "stream",
     "text": [
      "100%|██████████| 600/600 [00:03<00:00, 165.11it/s]\n",
      "  0%|          | 0/600 [00:00<?, ?it/s]"
     ]
    },
    {
     "name": "stdout",
     "output_type": "stream",
     "text": [
      "Epoch:9 Train loss:-0.1811\n",
      "Test loss:-0.1822\n"
     ]
    },
    {
     "name": "stderr",
     "output_type": "stream",
     "text": [
      "100%|██████████| 600/600 [00:03<00:00, 177.42it/s]\n"
     ]
    },
    {
     "name": "stdout",
     "output_type": "stream",
     "text": [
      "Epoch:10 Train loss:-0.1814\n",
      "Test loss:-0.1811\n"
     ]
    }
   ],
   "source": [
    "writer = SummaryWriter()\n",
    "\n",
    "plot_number = 1\n",
    "\n",
    "z_sample = 0.5 * torch.randn(64, latent_dim).to(device)\n",
    "y_sample = torch.eye(2)[[plot_number]*64].to(device)\n",
    "\n",
    "_data = iter(test_loader).next()\n",
    "\n",
    "_y = _data[:,0]\n",
    "_x = _data[:,1]\n",
    "_x, _y = data_shaper(_x, _y, input_dim)\n",
    "_x = _x.to(device)\n",
    "_y = _y.to(device)\n",
    "\n",
    "for epoch in range(1, num_epochs + 1):\n",
    "    train_loss = train(epoch, input_dim)\n",
    "    test_loss = test(epoch, input_dim)\n",
    "    \n",
    "    recon = plot_reconstrunction(_x[:8], _y[:8], output_dim)\n",
    "    sample = plot_image_from_latent(z_sample, y_sample, output_dim)\n",
    "    recon_changing_y = plot_reconstraction_changing_y(_x[:8], _y[:8], output_dim)\n",
    "    \n",
    "\n",
    "    writer.add_scalar('train_loss', train_loss.item(), epoch)\n",
    "    writer.add_scalar('test_loss', test_loss.item(), epoch)      \n",
    "    \"\"\"\n",
    "    writer.add_image('Image_from_latent', sample, epoch)\n",
    "    writer.add_image('Image_reconstrunction', recon, epoch)\n",
    "    writer.add_image('Image_reconstrunction_change_y', recon_changing_y, epoch)\n",
    "    \"\"\"\n",
    "writer.close()"
   ]
  },
  {
   "cell_type": "markdown",
   "metadata": {},
   "source": []
  },
  {
   "cell_type": "code",
   "execution_count": 391,
   "metadata": {},
   "outputs": [
    {
     "name": "stdout",
     "output_type": "stream",
     "text": [
      "tensor([[1.3615],\n",
      "        [0.8118],\n",
      "        [0.8521],\n",
      "        [0.6296],\n",
      "        [0.8544],\n",
      "        [0.6359],\n",
      "        [0.8814],\n",
      "        [0.3827]], device='cuda:0')\n",
      "tensor([[0., 1.],\n",
      "        [0., 1.],\n",
      "        [0., 1.],\n",
      "        [1., 0.],\n",
      "        [0., 1.],\n",
      "        [1., 0.],\n",
      "        [1., 0.],\n",
      "        [1., 0.]], device='cuda:0')\n",
      "tensor([[1.3615, 0.8118, 0.8521, 0.6296, 0.8544, 0.6359, 0.8814, 0.3827],\n",
      "        [0.5112, 0.5535, 0.4899, 0.5035, 0.5250, 0.4901, 0.4871, 0.5051],\n",
      "        [0.8563, 0.9126, 0.8951, 0.8827, 0.9124, 0.9729, 0.8886, 0.8339]])\n"
     ]
    }
   ],
   "source": [
    "_data= iter(train_loader).next()\n",
    "_data = _data[:8]\n",
    "y = _data[:,0]\n",
    "x = _data[:,1]\n",
    "x, y = data_shaper(x,y, input_dim)\n",
    "x = x.to(device)\n",
    "y = y.to(device)\n",
    "print(x)\n",
    "print(y)\n",
    "test = plot_reconstraction_changing_y(x,y, output_dim).cpu().reshape(3,-1)\n",
    "print(test)"
   ]
  },
  {
   "cell_type": "code",
   "execution_count": 392,
   "metadata": {},
   "outputs": [],
   "source": [
    "pt_maker = torch.utils.data.DataLoader(dataset=train_data, batch_size = 10000, shuffle=True)\n",
    "for _data in pt_maker:\n",
    "    y = _data[:,0]\n",
    "    x = _data[:,1]\n",
    "    x, y = data_shaper(x,y, input_dim)\n",
    "    x = x.to(device)\n",
    "    y = y.to(device)\n",
    "    gen_pt = plot_reconstraction_changing_y(x,y, output_dim).cpu().reshape(3,-1)\n"
   ]
  },
  {
   "cell_type": "code",
   "execution_count": 393,
   "metadata": {},
   "outputs": [
    {
     "data": {
      "image/png": "[encoded data removed]",
      "text/plain": [
       "<Figure size 432x288 with 4 Axes>"
      ]
     },
     "metadata": {
      "needs_background": "light"
     },
     "output_type": "display_data"
    }
   ],
   "source": [
    "fig2, axes = plt.subplots(2, 2, sharex=True)\n",
    "plt.subplots_adjust(wspace=0.4, hspace=0.6)\n",
    "axes[0, 0].hist(gen_pt[1,:], bins=100)\n",
    "axes[0, 0].set_title('generater1')\n",
    "axes[0, 1].hist(gen_pt[2,:], bins=100) \n",
    "axes[0, 1].set_title('generater2')\n",
    "axes[1, 0].hist(np.random.normal(0.5,0.2,10000),bins=100) \n",
    "axes[1, 0].set_title('original1')\n",
    "axes[1, 1].hist(np.random.normal(0.9,0.2,10000), bins=100) \n",
    "axes[1, 1].set_title('original2')\n",
    "plt.show()"
   ]
  },
  {
   "cell_type": "code",
   "execution_count": 394,
   "metadata": {},
   "outputs": [],
   "source": [
    "pt_size = 1000\n",
    "z_sample = 3 * torch.randn(pt_size, latent_dim).to(device)\n",
    "\n",
    "# 非治療群を生成\n",
    "plot_number = 0\n",
    "y_sample = torch.eye(2)[[plot_number]*pt_size].to(device)\n",
    "untreated =  plot_image_from_latent(z_sample,y_sample , output_dim)\n",
    "\n",
    "# 治療群を生成\n",
    "plot_number = 1\n",
    "y_sample = torch.eye(2)[[plot_number]*pt_size].to(device)\n",
    "treated =  plot_image_from_latent(z_sample,y_sample , output_dim)\n"
   ]
  },
  {
   "cell_type": "code",
   "execution_count": 395,
   "metadata": {},
   "outputs": [
    {
     "data": {
      "text/plain": [
       "tensor(0.3367)"
      ]
     },
     "execution_count": 395,
     "metadata": {},
     "output_type": "execute_result"
    }
   ],
   "source": [
    "(treated-untreated).mean()"
   ]
  },
  {
   "cell_type": "code",
   "execution_count": 396,
   "metadata": {},
   "outputs": [
    {
     "data": {
      "image/png": "[encoded data removed]",
      "text/plain": [
       "<Figure size 432x288 with 4 Axes>"
      ]
     },
     "metadata": {
      "needs_background": "light"
     },
     "output_type": "display_data"
    }
   ],
   "source": [
    "fig2, axes = plt.subplots(2, 2, sharex=True)\n",
    "plt.subplots_adjust(wspace=0.4, hspace=0.6)\n",
    "axes[0, 0].hist(gen_pt[1,:], bins=100)\n",
    "axes[0, 0].set_title('treated')\n",
    "axes[0, 1].hist(gen_pt[2,:], bins=100) \n",
    "axes[0, 1].set_title('untreated')\n",
    "axes[1, 0].hist(np.random.normal(0.5,0.2,10000),bins=100) \n",
    "axes[1, 0].set_title('original1')\n",
    "axes[1, 1].hist(np.random.normal(0.9,0.2,10000), bins=100) \n",
    "axes[1, 1].set_title('original2')\n",
    "plt.show()"
   ]
  },
  {
   "cell_type": "code",
   "execution_count": 397,
   "metadata": {},
   "outputs": [],
   "source": [
    "class Estimator(nn.Module):\n",
    "    def __init__(self, cond_dim, hidden_dim, latent_dim, estimate_dim):\n",
    "        super(Estimator, self).__init__()\n",
    "        \n",
    "        self.fc1 = nn.Linear(latent_dim+cond_dim, hidden_dim)\n",
    "        self.fc2 = nn.Linear(hidden_dim, hidden_dim)\n",
    "        self.fc3 = nn.Linear(hidden_dim, estimate_dim)\n",
    "        \n",
    "    def forward(self,z,y):\n",
    "        h = F.relu(self.fc1(torch.cat([z,y],1)))\n",
    "        h = F.relu(self.fc2(h))\n",
    "        return self.fc3(h)\n",
    "\n",
    "criterion = nn.MSELoss()\n",
    "model2 = Estimator(cond_dim, hidden_dim, latent_dim, estimate_dim)\n",
    "model2.to(device)\n",
    "optimizer = torch.optim.SGD(model2.parameters(),lr=1e-3)"
   ]
  },
  {
   "cell_type": "code",
   "execution_count": 398,
   "metadata": {},
   "outputs": [
    {
     "name": "stderr",
     "output_type": "stream",
     "text": [
      "100%|██████████| 600/600 [00:01<00:00, 523.69it/s]\n",
      "  8%|▊         | 49/600 [00:00<00:01, 487.99it/s]"
     ]
    },
    {
     "name": "stdout",
     "output_type": "stream",
     "text": [
      "Epochs:1, train_Loss:0.8515379428863525, test_Loss:0.79\n"
     ]
    },
    {
     "name": "stderr",
     "output_type": "stream",
     "text": [
      "100%|██████████| 600/600 [00:01<00:00, 481.20it/s]\n",
      "  8%|▊         | 48/600 [00:00<00:01, 479.76it/s]"
     ]
    },
    {
     "name": "stdout",
     "output_type": "stream",
     "text": [
      "Epochs:2, train_Loss:0.7530098557472229, test_Loss:0.68\n"
     ]
    },
    {
     "name": "stderr",
     "output_type": "stream",
     "text": [
      "100%|██████████| 600/600 [00:01<00:00, 478.99it/s]\n",
      "  8%|▊         | 49/600 [00:00<00:01, 483.68it/s]"
     ]
    },
    {
     "name": "stdout",
     "output_type": "stream",
     "text": [
      "Epochs:3, train_Loss:0.5802178382873535, test_Loss:0.56\n"
     ]
    },
    {
     "name": "stderr",
     "output_type": "stream",
     "text": [
      "100%|██████████| 600/600 [00:01<00:00, 472.31it/s]\n",
      "  8%|▊         | 47/600 [00:00<00:01, 467.07it/s]"
     ]
    },
    {
     "name": "stdout",
     "output_type": "stream",
     "text": [
      "Epochs:4, train_Loss:0.3998177647590637, test_Loss:0.38\n"
     ]
    },
    {
     "name": "stderr",
     "output_type": "stream",
     "text": [
      "100%|██████████| 600/600 [00:01<00:00, 466.82it/s]\n",
      "  8%|▊         | 51/600 [00:00<00:01, 505.88it/s]"
     ]
    },
    {
     "name": "stdout",
     "output_type": "stream",
     "text": [
      "Epochs:5, train_Loss:0.2098436951637268, test_Loss:0.21\n"
     ]
    },
    {
     "name": "stderr",
     "output_type": "stream",
     "text": [
      "100%|██████████| 600/600 [00:01<00:00, 471.81it/s]\n",
      "  8%|▊         | 50/600 [00:00<00:01, 495.76it/s]"
     ]
    },
    {
     "name": "stdout",
     "output_type": "stream",
     "text": [
      "Epochs:6, train_Loss:0.13242019712924957, test_Loss:0.11\n"
     ]
    },
    {
     "name": "stderr",
     "output_type": "stream",
     "text": [
      "100%|██████████| 600/600 [00:01<00:00, 540.19it/s]\n",
      " 10%|█         | 60/600 [00:00<00:00, 599.74it/s]"
     ]
    },
    {
     "name": "stdout",
     "output_type": "stream",
     "text": [
      "Epochs:7, train_Loss:0.09806949645280838, test_Loss:0.08\n"
     ]
    },
    {
     "name": "stderr",
     "output_type": "stream",
     "text": [
      "100%|██████████| 600/600 [00:01<00:00, 560.13it/s]\n",
      "  8%|▊         | 48/600 [00:00<00:01, 475.74it/s]"
     ]
    },
    {
     "name": "stdout",
     "output_type": "stream",
     "text": [
      "Epochs:8, train_Loss:0.08023171126842499, test_Loss:0.07\n"
     ]
    },
    {
     "name": "stderr",
     "output_type": "stream",
     "text": [
      "100%|██████████| 600/600 [00:01<00:00, 470.08it/s]\n",
      "  8%|▊         | 48/600 [00:00<00:01, 470.94it/s]"
     ]
    },
    {
     "name": "stdout",
     "output_type": "stream",
     "text": [
      "Epochs:9, train_Loss:0.07305479794740677, test_Loss:0.07\n"
     ]
    },
    {
     "name": "stderr",
     "output_type": "stream",
     "text": [
      "100%|██████████| 600/600 [00:01<00:00, 468.50it/s]\n"
     ]
    },
    {
     "name": "stdout",
     "output_type": "stream",
     "text": [
      "Epochs:10, train_Loss:0.07216130942106247, test_Loss:0.06\n"
     ]
    }
   ],
   "source": [
    "for epoch in range(1, num_epochs+1):\n",
    "    for _data in tqdm(train_loader):\n",
    "        y = _data[:,0]\n",
    "        x = _data[:,1]\n",
    "        o = _data[:,2]\n",
    "        x, y = data_shaper(x, y, input_dim)\n",
    "        o = o.view(-1, estimate_dim).float()\n",
    "        x = x.to(device)\n",
    "        y = y.to(device)\n",
    "        o = o.to(device)\n",
    "        \n",
    "        optimizer.zero_grad()\n",
    "        \n",
    "        z = q.sample({\"x\":x, \"y\":y}, return_all=False)\n",
    "        latent = z.get('z')\n",
    "        output = model2(latent,y)\n",
    "        loss = criterion(output,o)        \n",
    "        loss.backward()\n",
    "        \n",
    "        optimizer.step()\n",
    "    \n",
    "    total = 0\n",
    "    total_loss = 0\n",
    "    for _data in test_loader:\n",
    "        y = _data[:,0]\n",
    "        x = _data[:,1]\n",
    "        o = _data[:,2]\n",
    "        x, y = data_shaper(x, y, input_dim)\n",
    "        o = o.view(-1, estimate_dim).float()\n",
    "        x = x.to(device)\n",
    "        y = y.to(device)\n",
    "        o = o.to(device)\n",
    "        \n",
    "        z = q.sample({\"x\":x, \"y\":y}, return_all=False)\n",
    "        latent = z.get('z')\n",
    "        output = model2(latent,y)\n",
    "        loss = criterion(output,o)\n",
    "        \n",
    "        total_loss += loss *len(_data)\n",
    "        total += len(_data)\n",
    "    test_loss = total_loss/total\n",
    "    \n",
    "    print('Epochs:{}, train_Loss:{}, test_Loss:{:.2f}'.format(epoch,loss.item(), test_loss.item()))\n",
    "    "
   ]
  },
  {
   "cell_type": "code",
   "execution_count": 399,
   "metadata": {},
   "outputs": [],
   "source": [
    "pt_size = 10000\n",
    "z_sample = 1 * torch.randn(pt_size, latent_dim).to(device)\n",
    "\n",
    "# 非治療群を生成\n",
    "plot_number = 0\n",
    "y_sample = torch.eye(2)[[plot_number]*pt_size].to(device)\n",
    "untreated =  plot_image_from_latent(z_sample,y_sample , output_dim)\n",
    "untreated_outcome = model2(z_sample, y_sample)\n",
    "# 治療群を生成\n",
    "plot_number = 1\n",
    "y_sample = torch.eye(2)[[plot_number]*pt_size].to(device)\n",
    "treated =  plot_image_from_latent(z_sample,y_sample , output_dim)\n",
    "treated_outcome = model2(z_sample, y_sample)"
   ]
  },
  {
   "cell_type": "code",
   "execution_count": 421,
   "metadata": {},
   "outputs": [
    {
     "name": "stdout",
     "output_type": "stream",
     "text": [
      "0.25441664\n",
      "2.0086157\n"
     ]
    },
    {
     "data": {
      "image/png": "[encoded data removed]",
      "text/plain": [
       "<Figure size 432x288 with 1 Axes>"
      ]
     },
     "metadata": {
      "needs_background": "light"
     },
     "output_type": "display_data"
    }
   ],
   "source": [
    "plt.hist(untreated_outcome.cpu().detach().numpy(),bins=100)\n",
    "print(untreated_outcome.cpu().detach().numpy().mean())\n",
    "plt.hist(treated_outcome.cpu().detach().numpy(), bins=100)\n",
    "print(treated_outcome.cpu().detach().numpy().mean())"
   ]
  },
  {
   "cell_type": "code",
   "execution_count": 401,
   "metadata": {},
   "outputs": [
    {
     "data": {
      "text/plain": [
       "(array([  1.,   1.,   2.,   3.,   4.,   1.,   6.,   6.,   6.,   8.,  13.,\n",
       "         20.,  15.,  30.,  22.,  32.,  45.,  49.,  73.,  62.,  87., 111.,\n",
       "        120., 123., 113., 139., 161., 197., 203., 209., 223., 265., 318.,\n",
       "        311., 307., 325., 292., 348., 322., 359., 326., 330., 335., 314.,\n",
       "        282., 312., 280., 249., 240., 267., 208., 215., 190., 180., 164.,\n",
       "        146., 134., 127.,  92.,  89.,  84.,  77.,  57.,  65.,  56.,  34.,\n",
       "         31.,  32.,  16.,  26.,  16.,   9.,  16.,  13.,   6.,   9.,   3.,\n",
       "          9.,   7.,   6.,   4.,   4.,   1.,   1.,   0.,   2.,   0.,   0.,\n",
       "          0.,   1.,   0.,   1.,   0.,   0.,   1.,   0.,   0.,   0.,   0.,\n",
       "          1.]),\n",
       " array([1.3039064, 1.3212615, 1.3386166, 1.3559716, 1.3733267, 1.3906817,\n",
       "        1.4080368, 1.4253919, 1.4427469, 1.460102 , 1.477457 , 1.4948121,\n",
       "        1.5121672, 1.5295222, 1.5468773, 1.5642323, 1.5815874, 1.5989425,\n",
       "        1.6162975, 1.6336526, 1.6510077, 1.6683627, 1.6857178, 1.7030728,\n",
       "        1.7204279, 1.737783 , 1.755138 , 1.7724931, 1.7898481, 1.8072032,\n",
       "        1.8245583, 1.8419133, 1.8592684, 1.8766234, 1.8939785, 1.9113336,\n",
       "        1.9286886, 1.9460437, 1.9633987, 1.9807538, 1.9981089, 2.0154638,\n",
       "        2.032819 , 2.050174 , 2.0675292, 2.0848842, 2.1022391, 2.1195943,\n",
       "        2.1369493, 2.1543045, 2.1716595, 2.1890144, 2.2063696, 2.2237246,\n",
       "        2.2410798, 2.2584348, 2.2757897, 2.293145 , 2.3105   , 2.327855 ,\n",
       "        2.34521  , 2.362565 , 2.3799202, 2.3972752, 2.4146304, 2.4319854,\n",
       "        2.4493403, 2.4666955, 2.4840505, 2.5014057, 2.5187607, 2.5361156,\n",
       "        2.5534708, 2.5708258, 2.588181 , 2.605536 , 2.622891 , 2.6402462,\n",
       "        2.657601 , 2.6749563, 2.6923113, 2.7096663, 2.7270215, 2.7443764,\n",
       "        2.7617316, 2.7790866, 2.7964416, 2.8137968, 2.8311517, 2.848507 ,\n",
       "        2.865862 , 2.8832169, 2.900572 , 2.917927 , 2.9352822, 2.9526372,\n",
       "        2.9699922, 2.9873474, 3.0047023, 3.0220575, 3.0394125],\n",
       "       dtype=float32),\n",
       " <a list of 100 Patch objects>)"
      ]
     },
     "execution_count": 401,
     "metadata": {},
     "output_type": "execute_result"
    },
    {
     "data": {
      "image/png": "[encoded data removed]",
      "text/plain": [
       "<Figure size 432x288 with 1 Axes>"
      ]
     },
     "metadata": {
      "needs_background": "light"
     },
     "output_type": "display_data"
    }
   ],
   "source": [
    "plt.hist(data[:,2],bins=100)\n",
    "plt.hist(untreated_outcome.cpu().detach().numpy(),bins=100)\n",
    "plt.hist(treated_outcome.cpu().detach().numpy(),bins=100)"
   ]
  },
  {
   "cell_type": "code",
   "execution_count": null,
   "metadata": {},
   "outputs": [],
   "source": []
  },
  {
   "cell_type": "code",
   "execution_count": 402,
   "metadata": {},
   "outputs": [
    {
     "data": {
      "text/plain": [
       "1.7541988"
      ]
     },
     "execution_count": 402,
     "metadata": {},
     "output_type": "execute_result"
    },
    {
     "data": {
      "image/png": "[encoded data removed]",
      "text/plain": [
       "<Figure size 432x288 with 1 Axes>"
      ]
     },
     "metadata": {
      "needs_background": "light"
     },
     "output_type": "display_data"
    }
   ],
   "source": [
    "plt.hist(treat_group-untreat_group, bins=300, alpha=0.5)\n",
    "plt.hist(treated_outcome.cpu().detach().numpy()-untreated_outcome.cpu().detach().numpy(),bins=300,alpha=0.5)\n",
    "(treated_outcome.cpu().detach().numpy()-untreated_outcome.cpu().detach().numpy()).mean()"
   ]
  },
  {
   "cell_type": "code",
   "execution_count": 403,
   "metadata": {},
   "outputs": [],
   "source": [
    "x1 = np.ones(70000)\n",
    "x2 = np.random.normal(x1*3+0.5,0.2)\n",
    "t_yogo = kaiki(x1,x2)\n",
    "t_data = np.array((x1,x2,t_yogo)).T\n",
    "x1= np.zeros(70000)\n",
    "x2 = np.random.normal(x1*3+0.5,0.2)\n",
    "u_yogo = kaiki(x1,x2)\n",
    "u_data = np.array((x1,x2,u_yogo)).T"
   ]
  },
  {
   "cell_type": "code",
   "execution_count": 404,
   "metadata": {},
   "outputs": [],
   "source": [
    "t_pt_maker = torch.utils.data.DataLoader(dataset=t_data, batch_size = 10000, shuffle=True)\n",
    "for _data in t_pt_maker:\n",
    "    y = _data[:,0]-1                         #治療群のラベルを非治療にする\n",
    "    x = _data[:,1]\n",
    "    x, y = data_shaper(x,y, input_dim)\n",
    "    x = x.to(device)\n",
    "    y = y.to(device)\n",
    "    o = _data[:,2]\n",
    "    o = o.view(-1, estimate_dim).float()\n",
    "    o = o.to(device)\n",
    "    with torch.no_grad():\n",
    "        z1 = q.sample({\"x\": x, \"y\": y}, return_all=False)\n",
    "        latent = z1.get('z')\n",
    "        t_output=model2(latent,y)"
   ]
  },
  {
   "cell_type": "code",
   "execution_count": 405,
   "metadata": {},
   "outputs": [
    {
     "name": "stdout",
     "output_type": "stream",
     "text": [
      "0.36898312\n"
     ]
    },
    {
     "data": {
      "image/png": "[encoded data removed]",
      "text/plain": [
       "<Figure size 432x288 with 1 Axes>"
      ]
     },
     "metadata": {
      "needs_background": "light"
     },
     "output_type": "display_data"
    }
   ],
   "source": [
    "plt.hist(t_output.cpu().numpy(), bins=100)\n",
    "output_mean=t_output.cpu().numpy().mean()\n",
    "print(output_mean)"
   ]
  },
  {
   "cell_type": "code",
   "execution_count": null,
   "metadata": {},
   "outputs": [],
   "source": []
  },
  {
   "cell_type": "code",
   "execution_count": 406,
   "metadata": {},
   "outputs": [],
   "source": [
    "u_pt_maker = torch.utils.data.DataLoader(dataset=u_data, batch_size = 10000, shuffle=True)\n",
    "for _data in u_pt_maker:\n",
    "    y = _data[:,0]+1                         #非治療群のラベルを治療にする\n",
    "    x = _data[:,1]\n",
    "    x, y = data_shaper(x,y, input_dim)\n",
    "    x = x.to(device)\n",
    "    y = y.to(device)\n",
    "    o = _data[:,2]\n",
    "    o = o.view(-1, estimate_dim).float()\n",
    "    o = o.to(device)\n",
    "    with torch.no_grad():\n",
    "        z2 = q.sample({\"x\": x, \"y\": y}, return_all=False)\n",
    "        latent = z2.get('z')\n",
    "        u_output=model2(latent,y)"
   ]
  },
  {
   "cell_type": "code",
   "execution_count": 407,
   "metadata": {},
   "outputs": [
    {
     "data": {
      "image/png": "[encoded data removed]",
      "text/plain": [
       "<Figure size 432x288 with 1 Axes>"
      ]
     },
     "metadata": {
      "needs_background": "light"
     },
     "output_type": "display_data"
    }
   ],
   "source": [
    "plt.hist(u_output.cpu().numpy(), bins=100)\n",
    "u_output_mean=u_output.cpu().numpy().mean()"
   ]
  },
  {
   "cell_type": "code",
   "execution_count": 408,
   "metadata": {},
   "outputs": [
    {
     "name": "stdout",
     "output_type": "stream",
     "text": [
      "1.850022814501005\n",
      "1.599528125983434\n",
      "1.7247754702422196\n"
     ]
    }
   ],
   "source": [
    "print(treat_group.mean()-output_mean)\n",
    "print(u_output_mean-untreat_group.mean())\n",
    "print(((treat_group.mean()-output_mean)+(u_output_mean-untreat_group.mean()))/2)"
   ]
  },
  {
   "cell_type": "code",
   "execution_count": 409,
   "metadata": {},
   "outputs": [
    {
     "data": {
      "text/plain": [
       "(array([  2.,   0.,   0.,   0.,   0.,   0.,   1.,   4.,   5.,   3.,   5.,\n",
       "          2.,   4.,  13.,  14.,  13.,  15.,  19.,  28.,  31.,  40.,  39.,\n",
       "         48.,  42.,  60.,  75.,  92., 100., 149., 117., 148., 167., 184.,\n",
       "        214., 233., 234., 233., 266., 279., 295., 294., 343., 299., 297.,\n",
       "        310., 300., 314., 268., 297., 254., 310., 307., 275., 259., 250.,\n",
       "        249., 204., 205., 210., 168., 169., 137., 130., 106., 108.,  99.,\n",
       "         81.,  80.,  72.,  62.,  53.,  44.,  41.,  31.,  37.,  27.,  24.,\n",
       "         23.,   9.,  19.,  12.,   8.,   5.,   5.,  11.,   5.,   0.,   1.,\n",
       "          2.,   3.,   1.,   0.,   2.,   0.,   1.,   1.,   0.,   1.,   1.,\n",
       "          2.]),\n",
       " array([1.2413399, 1.2576824, 1.274025 , 1.2903675, 1.30671  , 1.3230525,\n",
       "        1.339395 , 1.3557376, 1.3720801, 1.3884226, 1.4047651, 1.4211076,\n",
       "        1.4374502, 1.4537927, 1.4701352, 1.4864777, 1.5028203, 1.5191628,\n",
       "        1.5355053, 1.5518478, 1.5681903, 1.5845329, 1.6008754, 1.6172179,\n",
       "        1.6335604, 1.649903 , 1.6662456, 1.6825881, 1.6989306, 1.7152731,\n",
       "        1.7316157, 1.7479582, 1.7643007, 1.7806432, 1.7969857, 1.8133283,\n",
       "        1.8296708, 1.8460133, 1.8623558, 1.8786983, 1.8950409, 1.9113834,\n",
       "        1.9277259, 1.9440684, 1.960411 , 1.9767535, 1.993096 , 2.0094385,\n",
       "        2.025781 , 2.0421236, 2.058466 , 2.0748086, 2.0911512, 2.1074936,\n",
       "        2.1238363, 2.1401787, 2.1565213, 2.1728637, 2.1892064, 2.2055488,\n",
       "        2.2218914, 2.2382338, 2.2545764, 2.2709188, 2.2872615, 2.303604 ,\n",
       "        2.3199465, 2.336289 , 2.3526316, 2.368974 , 2.3853166, 2.401659 ,\n",
       "        2.4180017, 2.434344 , 2.4506867, 2.467029 , 2.4833717, 2.4997141,\n",
       "        2.5160568, 2.5323992, 2.5487418, 2.5650842, 2.5814269, 2.5977693,\n",
       "        2.614112 , 2.6304543, 2.646797 , 2.6631393, 2.679482 , 2.6958244,\n",
       "        2.712167 , 2.7285094, 2.744852 , 2.7611945, 2.777537 , 2.7938795,\n",
       "        2.8102221, 2.8265646, 2.8429072, 2.8592496, 2.8755922],\n",
       "       dtype=float32),\n",
       " <a list of 100 Patch objects>)"
      ]
     },
     "execution_count": 409,
     "metadata": {},
     "output_type": "execute_result"
    },
    {
     "data": {
      "image/png": "[encoded data removed]",
      "text/plain": [
       "<Figure size 432x288 with 1 Axes>"
      ]
     },
     "metadata": {
      "needs_background": "light"
     },
     "output_type": "display_data"
    }
   ],
   "source": [
    "plt.hist(data[:,2],bins=100,alpha=0.5)\n",
    "plt.hist(untreated_outcome.cpu().detach().numpy(),bins=100,alpha=0.5)\n",
    "plt.hist(treated_outcome.cpu().detach().numpy(),bins=100,alpha=0.5)\n",
    "plt.hist(t_output.cpu().numpy(), bins=100,alpha=0.5)\n",
    "plt.hist(u_output.cpu().numpy(), bins=100,alpha=0.5)"
   ]
  },
  {
   "cell_type": "code",
   "execution_count": 410,
   "metadata": {},
   "outputs": [
    {
     "data": {
      "text/plain": [
       "(array([  2.,   0.,   0.,   0.,   0.,   0.,   1.,   4.,   5.,   3.,   5.,\n",
       "          2.,   4.,  13.,  14.,  13.,  15.,  19.,  28.,  31.,  40.,  39.,\n",
       "         48.,  42.,  60.,  75.,  92., 100., 149., 117., 148., 167., 184.,\n",
       "        214., 233., 234., 233., 266., 279., 295., 294., 343., 299., 297.,\n",
       "        310., 300., 314., 268., 297., 254., 310., 307., 275., 259., 250.,\n",
       "        249., 204., 205., 210., 168., 169., 137., 130., 106., 108.,  99.,\n",
       "         81.,  80.,  72.,  62.,  53.,  44.,  41.,  31.,  37.,  27.,  24.,\n",
       "         23.,   9.,  19.,  12.,   8.,   5.,   5.,  11.,   5.,   0.,   1.,\n",
       "          2.,   3.,   1.,   0.,   2.,   0.,   1.,   1.,   0.,   1.,   1.,\n",
       "          2.]),\n",
       " array([1.2413399, 1.2576824, 1.274025 , 1.2903675, 1.30671  , 1.3230525,\n",
       "        1.339395 , 1.3557376, 1.3720801, 1.3884226, 1.4047651, 1.4211076,\n",
       "        1.4374502, 1.4537927, 1.4701352, 1.4864777, 1.5028203, 1.5191628,\n",
       "        1.5355053, 1.5518478, 1.5681903, 1.5845329, 1.6008754, 1.6172179,\n",
       "        1.6335604, 1.649903 , 1.6662456, 1.6825881, 1.6989306, 1.7152731,\n",
       "        1.7316157, 1.7479582, 1.7643007, 1.7806432, 1.7969857, 1.8133283,\n",
       "        1.8296708, 1.8460133, 1.8623558, 1.8786983, 1.8950409, 1.9113834,\n",
       "        1.9277259, 1.9440684, 1.960411 , 1.9767535, 1.993096 , 2.0094385,\n",
       "        2.025781 , 2.0421236, 2.058466 , 2.0748086, 2.0911512, 2.1074936,\n",
       "        2.1238363, 2.1401787, 2.1565213, 2.1728637, 2.1892064, 2.2055488,\n",
       "        2.2218914, 2.2382338, 2.2545764, 2.2709188, 2.2872615, 2.303604 ,\n",
       "        2.3199465, 2.336289 , 2.3526316, 2.368974 , 2.3853166, 2.401659 ,\n",
       "        2.4180017, 2.434344 , 2.4506867, 2.467029 , 2.4833717, 2.4997141,\n",
       "        2.5160568, 2.5323992, 2.5487418, 2.5650842, 2.5814269, 2.5977693,\n",
       "        2.614112 , 2.6304543, 2.646797 , 2.6631393, 2.679482 , 2.6958244,\n",
       "        2.712167 , 2.7285094, 2.744852 , 2.7611945, 2.777537 , 2.7938795,\n",
       "        2.8102221, 2.8265646, 2.8429072, 2.8592496, 2.8755922],\n",
       "       dtype=float32),\n",
       " <a list of 100 Patch objects>)"
      ]
     },
     "execution_count": 410,
     "metadata": {},
     "output_type": "execute_result"
    },
    {
     "data": {
      "image/png": "[encoded data removed]",
      "text/plain": [
       "<Figure size 432x288 with 1 Axes>"
      ]
     },
     "metadata": {
      "needs_background": "light"
     },
     "output_type": "display_data"
    }
   ],
   "source": [
    "plt.hist(untreated_outcome.cpu().detach().numpy(),bins=100,alpha=0.5)\n",
    "plt.hist(treated_outcome.cpu().detach().numpy(),bins=100,alpha=0.5,color='blue')\n",
    "plt.hist(t_output.cpu().numpy(), bins=100,alpha=0.5)\n",
    "plt.hist(u_output.cpu().numpy(), bins=100,alpha=0.5,color=\"yellow\")"
   ]
  },
  {
   "cell_type": "code",
   "execution_count": 411,
   "metadata": {},
   "outputs": [
    {
     "data": {
      "text/plain": [
       "<matplotlib.collections.PathCollection at 0x7ff0f8e3ef60>"
      ]
     },
     "execution_count": 411,
     "metadata": {},
     "output_type": "execute_result"
    },
    {
     "data": {
      "image/png": "[encoded data removed]",
      "text/plain": [
       "<Figure size 432x288 with 1 Axes>"
      ]
     },
     "metadata": {
      "needs_background": "light"
     },
     "output_type": "display_data"
    }
   ],
   "source": [
    "plt.scatter(z1.get('z').cpu().numpy()[:,0],z1.get('z').cpu().numpy()[:,1],s=2,alpha=0.3)\n",
    "plt.scatter(z2.get('z').cpu().numpy()[:,0],z2.get('z').cpu().numpy()[:,1],s=2,alpha=0.3)"
   ]
  },
  {
   "cell_type": "code",
   "execution_count": 417,
   "metadata": {},
   "outputs": [
    {
     "data": {
      "text/plain": [
       "(array([  1.,   0.,   0.,   0.,   0.,   0.,   0.,   0.,   0.,   1.,   2.,\n",
       "          0.,   6.,   5.,   4.,   4.,   6.,   8.,   2.,   4.,   8.,   7.,\n",
       "         19.,  13.,  16.,  22.,  16.,  40.,  45.,  44.,  61.,  75.,  78.,\n",
       "         77., 106., 117., 140., 136., 148., 144., 176., 200., 221., 226.,\n",
       "        255., 216., 270., 318., 255., 299., 332., 296., 338., 310., 316.,\n",
       "        365., 318., 315., 303., 315., 293., 274., 247., 239., 247., 187.,\n",
       "        167., 174., 155., 127., 142.,  88., 103.,  96.,  77.,  64.,  50.,\n",
       "         41.,  40.,  35.,  27.,  20.,  21.,  11.,  16.,  14.,   9.,   7.,\n",
       "          4.,   8.,   5.,   3.,   2.,   1.,   2.,   1.,   1.,   0.,   1.,\n",
       "          2.]),\n",
       " array([-4.321686  , -4.2405653 , -4.1594453 , -4.078325  , -3.9972048 ,\n",
       "        -3.9160845 , -3.8349643 , -3.753844  , -3.6727235 , -3.5916033 ,\n",
       "        -3.510483  , -3.4293628 , -3.3482425 , -3.2671223 , -3.186002  ,\n",
       "        -3.1048818 , -3.0237615 , -2.9426413 , -2.861521  , -2.7804008 ,\n",
       "        -2.6992805 , -2.6181602 , -2.5370398 , -2.4559195 , -2.3747993 ,\n",
       "        -2.293679  , -2.2125587 , -2.1314385 , -2.0503182 , -1.969198  ,\n",
       "        -1.8880777 , -1.8069575 , -1.7258372 , -1.6447169 , -1.5635966 ,\n",
       "        -1.4824764 , -1.4013561 , -1.3202358 , -1.2391156 , -1.1579953 ,\n",
       "        -1.076875  , -0.9957548 , -0.91463447, -0.8335142 , -0.75239396,\n",
       "        -0.67127365, -0.5901534 , -0.50903314, -0.42791286, -0.3467926 ,\n",
       "        -0.26567233, -0.18455206, -0.10343179, -0.02231152,  0.05880875,\n",
       "         0.13992903,  0.2210493 ,  0.30216956,  0.3832898 ,  0.4644101 ,\n",
       "         0.5455304 ,  0.62665063,  0.7077709 ,  0.7888912 ,  0.87001145,\n",
       "         0.9511317 ,  1.032252  ,  1.1133722 ,  1.1944926 ,  1.2756128 ,\n",
       "         1.3567331 ,  1.4378533 ,  1.5189736 ,  1.6000938 ,  1.6812141 ,\n",
       "         1.7623343 ,  1.8434547 ,  1.924575  ,  2.005695  ,  2.0868156 ,\n",
       "         2.1679358 ,  2.249056  ,  2.3301764 ,  2.4112966 ,  2.4924169 ,\n",
       "         2.573537  ,  2.6546574 ,  2.7357776 ,  2.8168979 ,  2.8980181 ,\n",
       "         2.9791384 ,  3.0602586 ,  3.1413789 ,  3.2224994 ,  3.3036196 ,\n",
       "         3.3847399 ,  3.4658601 ,  3.5469804 ,  3.6281006 ,  3.709221  ,\n",
       "         3.7903411 ], dtype=float32),\n",
       " <a list of 100 Patch objects>)"
      ]
     },
     "execution_count": 417,
     "metadata": {},
     "output_type": "execute_result"
    },
    {
     "data": {
      "image/png": "[encoded data removed]",
      "text/plain": [
       "<Figure size 432x288 with 1 Axes>"
      ]
     },
     "metadata": {
      "needs_background": "light"
     },
     "output_type": "display_data"
    }
   ],
   "source": [
    "plt.hist(z1.get('z').cpu().numpy()[:,0], bins=100,alpha=0.5)\n",
    "plt.hist(z2.get('z').cpu().numpy()[:,0], bins=100,alpha=0.5)"
   ]
  },
  {
   "cell_type": "code",
   "execution_count": 418,
   "metadata": {},
   "outputs": [
    {
     "data": {
      "text/plain": [
       "(array([  1.,   0.,   1.,   0.,   0.,   0.,   1.,   1.,   3.,   2.,   3.,\n",
       "          2.,   7.,   6.,  11.,   8.,  11.,  11.,  14.,  18.,  30.,  26.,\n",
       "         22.,  41.,  22.,  39.,  61.,  72.,  57.,  76.,  98., 110.,  89.,\n",
       "        117., 136., 151., 167., 170., 178., 193., 245., 236., 253., 220.,\n",
       "        235., 295., 276., 281., 269., 282., 304., 314., 295., 297., 308.,\n",
       "        280., 243., 255., 244., 248., 269., 237., 190., 190., 194., 172.,\n",
       "        175., 148., 135., 102., 105., 108.,  84.,  69.,  74.,  56.,  42.,\n",
       "         45.,  41.,  38.,  43.,  28.,  15.,  17.,  16.,  15.,  11.,   9.,\n",
       "          4.,  13.,   5.,   3.,   6.,   1.,   1.,   0.,   1.,   1.,   1.,\n",
       "          1.]),\n",
       " array([-3.9628773 , -3.8882651 , -3.8136532 , -3.739041  , -3.6644292 ,\n",
       "        -3.589817  , -3.5152051 , -3.440593  , -3.365981  , -3.291369  ,\n",
       "        -3.216757  , -3.142145  , -3.067533  , -2.9929209 , -2.9183087 ,\n",
       "        -2.8436968 , -2.7690847 , -2.6944728 , -2.6198606 , -2.5452487 ,\n",
       "        -2.4706366 , -2.3960247 , -2.3214126 , -2.2468007 , -2.1721885 ,\n",
       "        -2.0975766 , -2.0229645 , -1.9483525 , -1.8737404 , -1.7991284 ,\n",
       "        -1.7245164 , -1.6499044 , -1.5752922 , -1.5006802 , -1.4260682 ,\n",
       "        -1.3514562 , -1.2768441 , -1.2022321 , -1.1276201 , -1.0530081 ,\n",
       "        -0.97839606, -0.903784  , -0.82917196, -0.75455993, -0.6799479 ,\n",
       "        -0.6053359 , -0.53072387, -0.45611182, -0.3814998 , -0.30688775,\n",
       "        -0.23227572, -0.15766369, -0.08305166, -0.00843963,  0.0661724 ,\n",
       "         0.14078443,  0.21539646,  0.2900085 ,  0.36462054,  0.43923256,\n",
       "         0.5138446 ,  0.58845663,  0.66306865,  0.7376807 ,  0.8122927 ,\n",
       "         0.8869047 ,  0.9615168 ,  1.0361288 ,  1.1107408 ,  1.1853529 ,\n",
       "         1.259965  ,  1.334577  ,  1.409189  ,  1.483801  ,  1.558413  ,\n",
       "         1.633025  ,  1.7076371 ,  1.7822491 ,  1.8568611 ,  1.9314731 ,\n",
       "         2.0060852 ,  2.0806973 ,  2.1553092 ,  2.2299213 ,  2.3045332 ,\n",
       "         2.3791454 ,  2.4537573 ,  2.5283694 ,  2.6029816 ,  2.6775935 ,\n",
       "         2.7522056 ,  2.8268175 ,  2.9014297 ,  2.9760416 ,  3.0506537 ,\n",
       "         3.1252656 ,  3.1998777 ,  3.2744896 ,  3.3491018 ,  3.4237137 ,\n",
       "         3.4983258 ], dtype=float32),\n",
       " <a list of 100 Patch objects>)"
      ]
     },
     "execution_count": 418,
     "metadata": {},
     "output_type": "execute_result"
    },
    {
     "data": {
      "image/png": "[encoded data removed]",
      "text/plain": [
       "<Figure size 432x288 with 1 Axes>"
      ]
     },
     "metadata": {
      "needs_background": "light"
     },
     "output_type": "display_data"
    }
   ],
   "source": [
    "plt.hist(z1.get('z').cpu().numpy()[:,1], bins=100,alpha=0.5)\n",
    "plt.hist(z2.get('z').cpu().numpy()[:,1], bins=100,alpha=0.5)"
   ]
  },
  {
   "cell_type": "code",
   "execution_count": 419,
   "metadata": {},
   "outputs": [
    {
     "data": {
      "text/plain": [
       "(array([  1.,   0.,   0.,   0.,   0.,   0.,   1.,   0.,   1.,   1.,   1.,\n",
       "          1.,   4.,   2.,   2.,  11.,  11.,  13.,  22.,  12.,  23.,  22.,\n",
       "         30.,  32.,  44.,  43.,  59.,  59.,  84.,  70.,  92., 111., 127.,\n",
       "        121., 157., 171., 184., 184., 209., 210., 236., 277., 268., 285.,\n",
       "        306., 319., 304., 328., 342., 335., 322., 355., 321., 267., 311.,\n",
       "        292., 277., 230., 258., 244., 230., 209., 187., 174., 157., 147.,\n",
       "        133.,  97., 106.,  84.,  86.,  61.,  53.,  49.,  41.,  33.,  30.,\n",
       "         24.,  18.,  21.,  17.,  10.,   7.,   9.,   6.,   2.,   3.,   4.,\n",
       "          2.,   1.,   2.,   0.,   2.,   1.,   0.,   0.,   0.,   0.,   0.,\n",
       "          2.]),\n",
       " array([-4.0469484 , -3.9654782 , -3.8840082 , -3.802538  , -3.7210677 ,\n",
       "        -3.6395974 , -3.5581274 , -3.4766572 , -3.395187  , -3.3137167 ,\n",
       "        -3.2322466 , -3.1507764 , -3.0693061 , -2.987836  , -2.9063659 ,\n",
       "        -2.8248956 , -2.7434254 , -2.661955  , -2.580485  , -2.4990149 ,\n",
       "        -2.4175446 , -2.3360744 , -2.2546043 , -2.173134  , -2.0916638 ,\n",
       "        -2.0101938 , -1.9287236 , -1.8472533 , -1.7657832 , -1.6843129 ,\n",
       "        -1.6028428 , -1.5213726 , -1.4399024 , -1.3584322 , -1.276962  ,\n",
       "        -1.1954918 , -1.1140217 , -1.0325514 , -0.9510813 , -0.8696111 ,\n",
       "        -0.7881409 , -0.7066707 , -0.6252005 , -0.5437303 , -0.46226013,\n",
       "        -0.38078994, -0.29931974, -0.21784955, -0.13637936, -0.05490917,\n",
       "         0.02656102,  0.10803121,  0.1895014 ,  0.2709716 ,  0.3524418 ,\n",
       "         0.43391198,  0.5153822 ,  0.59685236,  0.67832255,  0.75979275,\n",
       "         0.84126294,  0.9227331 ,  1.0042033 ,  1.0856735 ,  1.1671437 ,\n",
       "         1.2486138 ,  1.3300841 ,  1.4115542 ,  1.4930245 ,  1.5744946 ,\n",
       "         1.6559649 ,  1.737435  ,  1.8189052 ,  1.9003754 ,  1.9818456 ,\n",
       "         2.0633159 ,  2.144786  ,  2.2262561 ,  2.3077264 ,  2.3891964 ,\n",
       "         2.4706666 ,  2.552137  ,  2.6336071 ,  2.7150772 ,  2.7965474 ,\n",
       "         2.8780177 ,  2.959488  ,  3.040958  ,  3.1224282 ,  3.2038984 ,\n",
       "         3.2853687 ,  3.3668387 ,  3.448309  ,  3.5297792 ,  3.6112494 ,\n",
       "         3.6927195 ,  3.7741897 ,  3.85566   ,  3.9371302 ,  4.0186005 ,\n",
       "         4.1000705 ], dtype=float32),\n",
       " <a list of 100 Patch objects>)"
      ]
     },
     "execution_count": 419,
     "metadata": {},
     "output_type": "execute_result"
    },
    {
     "data": {
      "image/png": "[encoded data removed]",
      "text/plain": [
       "<Figure size 432x288 with 1 Axes>"
      ]
     },
     "metadata": {
      "needs_background": "light"
     },
     "output_type": "display_data"
    }
   ],
   "source": [
    "plt.hist(z1.get('z').cpu().numpy()[:,3], bins=100,alpha=0.5)\n",
    "plt.hist(z2.get('z').cpu().numpy()[:,3], bins=100,alpha=0.5)"
   ]
  },
  {
   "cell_type": "code",
   "execution_count": null,
   "metadata": {},
   "outputs": [],
   "source": []
  }
 ],
 "metadata": {
  "kernelspec": {
   "display_name": "Python 3",
   "language": "python",
   "name": "python3"
  },
  "language_info": {
   "codemirror_mode": {
    "name": "ipython",
    "version": 3
   },
   "file_extension": ".py",
   "mimetype": "text/x-python",
   "name": "python",
   "nbconvert_exporter": "python",
   "pygments_lexer": "ipython3",
   "version": "3.7.2"
  }
 },
 "nbformat": 4,
 "nbformat_minor": 2
}
