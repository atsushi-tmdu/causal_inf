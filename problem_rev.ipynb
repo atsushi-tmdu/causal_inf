{
 "cells": [
  {
   "cell_type": "code",
   "execution_count": 1,
   "metadata": {},
   "outputs": [],
   "source": [
    "import numpy as np\n",
    "import random\n",
    "from numpy.random import *\n",
    "import matplotlib.pyplot as plt \n",
    "#np.random.seed(100)\n",
    "from mpl_toolkits.mplot3d import Axes3D\n",
    "%matplotlib inline\n",
    "\n",
    "import tensorflow as tf\n",
    "import csv\n",
    "\n",
    "from sklearn.utils import shuffle\n",
    "from sklearn.model_selection import train_test_split\n",
    "\n",
    "rng = np.random.RandomState(1234)"
   ]
  },
  {
   "cell_type": "code",
   "execution_count": 2,
   "metadata": {},
   "outputs": [],
   "source": [
    "x1 = np.random.binomial(1,0.5,size=10000)\n",
    "x2 = np.random.normal(x1*0.4+0.5,0.2)\n",
    "effect = 1.5\n",
    "beta2 = 0.8\n",
    "eps = 1e-10\n",
    "b = np.random.normal(0,0.2)\n",
    "\n",
    "\n",
    "def kaiki(x1=x1,x2=x2,effect=effect,beta2=beta2,b=b):\n",
    "    return effect*x1+beta2*x2+b\n",
    "y = kaiki(x1,x2)\n",
    "data = (x1,x2,y)"
   ]
  },
  {
   "cell_type": "markdown",
   "metadata": {},
   "source": [
    "課題１<br>\n",
    " 1-1.data[0]：治療の有無、data[1]:患者についての他の特徴量, data[2]患者の治療効果とします.\n",
    "このデータから生成モデルを作成してください。作成した生成モデルをもとにdata[0]=0の患者、data[1]=1\n",
    "の患者を生成し、データの患者との類似性についての評価を行って下さい。<br>\n",
    "1-2. 1-1で生成したモデルで生成した患者データからdata[2]値を生成して下さい。\n"
   ]
  },
  {
   "cell_type": "code",
   "execution_count": null,
   "metadata": {},
   "outputs": [],
   "source": []
  },
  {
   "cell_type": "markdown",
   "metadata": {},
   "source": [
    "課題２\n",
    "課題１では非常にシンプルな線形回帰を行いました。実際の患者では患者について他の特徴量はもっと多く、$x_{i}$と$x_{j}$に相関がある事が考えられるのでこれらを考慮したモデルを考えます。\n",
    "\n",
    "\n",
    " $y = \\alpha_{treat} x_{treat} + \\Sigma_{i}\\alpha_{1i} x_{i}+\\Sigma_{i,j} \\alpha_{2ij} x_{i}x_{j}+\\beta$\n",
    " \n",
    " 上記第一項は治療の有無、およびその回帰係数。第二項は線形回帰の特徴量、回帰係数、第三項は交互作用項、最後は切片です。\n",
    " \n",
    " 2-1. 上記の様な回帰式のモデルを作成し、課題１と同様に生成モデルを作成し、評価を行って下さい。<br>\n",
    " 2-2. 2-1で生成したモデルの患者データから予後$y$のデータを生成して下さい<br>\n",
    " 2-3. 患者の数を減らして、通常のlmにて$\\alpha_{treat}$の予測を行ったものと、生成モデルを使用して行った$\\alpha_{treat}$を比較検討して下さい。"
   ]
  },
  {
   "cell_type": "markdown",
   "metadata": {},
   "source": [
    "課題３　大切な前提条件として治療の有無$x_{treat}$は他の成分と独立ではなく、他の因子に大きく依存します。（高齢者には侵襲の大きな治療を行わないetc.）そこで\n",
    "\n",
    "\n",
    "$x_{treat}=\\Sigma_{i}\\gamma_{1i} x_{i}+\\Sigma_{i,j} \\gamma_{2ij} x_{i}x_{j}+\\delta$\n",
    "\n",
    "という制約条件を加えた上で課題２と同様の比較検討を行って下さい。"
   ]
  },
  {
   "cell_type": "code",
   "execution_count": null,
   "metadata": {},
   "outputs": [],
   "source": []
  },
  {
   "cell_type": "markdown",
   "metadata": {},
   "source": [
    "課題３\n",
    "患者の治療効果として血圧などの低下率、生存曲線などの指標もありますが、一般的に良い指標とされるのは死亡したかどうか、抜管できたかどうかなど治療者の恣意性が働かない２値分類であるとされます。このため、課題２の書き方を使用すると、\n",
    "\n",
    "\n",
    "$y = Binomial(\\alpha_{treat} x_{treat} + \\Sigma_{i}\\alpha_{1i} x_{i}+\\Sigma_{i,j} \\alpha_{2ij} x_{i}x_{j}+\\beta)$\n",
    "\n",
    "とロジスティック回帰分析をする事が通常です。また前回同様に下記制約条件を付加します。\n",
    "\n",
    "$x_{treat}=\\Sigma_{i}\\gamma_{1i} x_{i}+\\Sigma_{i,j} \\gamma_{2ij} x_{i}x_{j}+\\delta$\n",
    "\n",
    "3-1. 上記ロジスティック回帰モデルにて同様に生成モデルを作成し評価を行って下さい。<br>\n",
    "3-2. 同様に予後のデータを生成して下さい。<br>\n",
    "3-3. 生成モデルで作られた潜在空間内でパラメタを動かす事と回帰式との関係の評価をお願いします。（たとえば、回帰式での式の中身は臨床では年齢、性別、糖尿病の有無、高血圧の有無、呼吸数などの値になるので、潜在空間の中で動かす事とこれらの変数の対応がつくと面白いと思います。前回の講義では$\\beta - VAE$などが紹介されていました）<br>\n",
    "3-4. 患者の数を減らして、通常のlmにて$\\alpha_{treat}$の予測を行ったものと、生成モデルを使用して行った$\\alpha_{treat}$を比較検討して下さい。"
   ]
  },
  {
   "cell_type": "markdown",
   "metadata": {},
   "source": [
    "課題４ 実臨床上、特徴量$x_{i}$のいくかは既知ですが、予後に関係する未知の特徴量、測定困難なものは必ず少なからずあるはずです。そこで、"
   ]
  },
  {
   "cell_type": "code",
   "execution_count": null,
   "metadata": {},
   "outputs": [],
   "source": []
  },
  {
   "cell_type": "markdown",
   "metadata": {},
   "source": [
    "課題5　上記までは線形回帰を前提としていましたが、DNNを考慮するメリットは非線形成分について柔軟に扱える事ですので、<br>\n",
    "$y = Binomial(\\alpha_{treat} x_{treat} + \\Sigma_{i} f(\\alpha_{1i} x_{i})+\\Sigma_{i,j} f(\\alpha_{2ij} x_{i}x_{j})+\\beta)$\n",
    "\n",
    "$x_{treat}=\\Sigma_{i}\\gamma_{1i} x_{i}+\\Sigma_{i,j} \\gamma_{2ij} x_{i}x_{j}+\\delta$\n",
    "\n",
    "の非線形の状況で同様のモデル生成、評価をお願いします。\n"
   ]
  },
  {
   "cell_type": "markdown",
   "metadata": {},
   "source": []
  },
  {
   "cell_type": "markdown",
   "metadata": {},
   "source": [
    "通常の医学研究では単純に$\\alpha_{treat}$を求めて終わりますが、この値が潜在空間上でいろんな値を出し、それの潜在空間内での平均が通常の$\\alpha_{treat}$に対応する事が示せたら大成功です。"
   ]
  },
  {
   "cell_type": "code",
   "execution_count": null,
   "metadata": {},
   "outputs": [],
   "source": []
  }
 ],
 "metadata": {
  "kernelspec": {
   "display_name": "Python 3",
   "language": "python",
   "name": "python3"
  },
  "language_info": {
   "codemirror_mode": {
    "name": "ipython",
    "version": 3
   },
   "file_extension": ".py",
   "mimetype": "text/x-python",
   "name": "python",
   "nbconvert_exporter": "python",
   "pygments_lexer": "ipython3",
   "version": "3.5.2"
  }
 },
 "nbformat": 4,
 "nbformat_minor": 2
}
