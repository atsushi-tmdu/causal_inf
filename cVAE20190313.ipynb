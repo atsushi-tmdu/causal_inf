{
 "cells": [
  {
   "cell_type": "markdown",
   "metadata": {},
   "source": [
    "<h1>3次元の変数にて因果推論</h1>\n",
    "3次元、交互作用項なしで因果推論"
   ]
  },
  {
   "cell_type": "code",
   "execution_count": 488,
   "metadata": {},
   "outputs": [],
   "source": [
    "import torch\n",
    "import torch.nn as nn\n",
    "import torch.nn.functional as F\n",
    "import torchvision.transforms as transforms\n",
    "from torch.autograd import Variable\n",
    "from torch import optim\n",
    "import pyro\n",
    "import pyro.distributions as dist\n",
    "\n",
    "from tensorboardX import SummaryWriter\n",
    "\n",
    "from tqdm import tqdm\n",
    "import time\n",
    "\n",
    "\n",
    "import numpy as np\n",
    "import random\n",
    "from numpy.random import *\n",
    "import matplotlib.pyplot as plt \n",
    "#np.random.seed(100)\n",
    "from mpl_toolkits.mplot3d import Axes3D\n",
    "%matplotlib inline\n",
    "\n",
    "import csv\n",
    "\n",
    "from sklearn.utils import shuffle\n",
    "from sklearn.model_selection import train_test_split\n",
    "\n",
    "seed = 1234\n",
    "rng = np.random.RandomState(seed)\n",
    "torch.manual_seed(seed)\n",
    "\n",
    "if torch.cuda.is_available():\n",
    "    device='cuda'\n",
    "else:\n",
    "    device='cpu'"
   ]
  },
  {
   "cell_type": "code",
   "execution_count": 489,
   "metadata": {},
   "outputs": [],
   "source": [
    "size=70000\n",
    "x1 = np.random.binomial(1,0.5,size=size)\n",
    "x2 = np.random.normal(1.2*x1+0.5,0.6,size=size)\n",
    "x3 = np.random.normal(-0.8*x1+0.2,0.3,size=size)\n",
    "x4 = np.random.normal(0.2*x1+0.5,0.5,size=size)\n",
    "effect = 1.5\n",
    "beta2 = 0.8\n",
    "beta3 = 0.3\n",
    "beta4 = 0.5\n",
    "eps = 1e-10\n",
    "b = np.random.normal(3,0.2)\n",
    "\n",
    "\n",
    "def kaiki(x1=x1,x2=x2,x3=x3,x4=x4,effect=effect,beta2=beta2,beta3=beta3, beta4=beta4,b=b):\n",
    "    return effect*x1+beta2*x2+beta3*x3+beta4*x4+b\n",
    "\n",
    "yogo = kaiki(x1,x2,x3,x4)\n",
    "data = np.array((x1,x2,x3,x4,yogo)).T"
   ]
  },
  {
   "cell_type": "code",
   "execution_count": 490,
   "metadata": {},
   "outputs": [],
   "source": [
    "train_data = np.array(data[:60000])#train[:,0]:conditional, train[:,1]:feature, train[:,2]:outcome\n",
    "test_data  = np.array(data[60000:])"
   ]
  },
  {
   "cell_type": "code",
   "execution_count": 491,
   "metadata": {},
   "outputs": [
    {
     "name": "stdout",
     "output_type": "stream",
     "text": [
      "3.7552110161531607\n",
      "6.078655194069614\n",
      "2.3234441779164534\n"
     ]
    },
    {
     "data": {
      "image/png": "[encoded data removed]",
      "text/plain": [
       "<Figure size 432x288 with 1 Axes>"
      ]
     },
     "metadata": {
      "needs_background": "light"
     },
     "output_type": "display_data"
    }
   ],
   "source": [
    "plt.hist(yogo, bins=100)\n",
    "#x1=0のとき\n",
    "x1 = 0\n",
    "x2 = np.random.normal(1.2*x1+0.5,0.6,size=size)\n",
    "x3 = np.random.normal(-0.8*x1+0.3,0.3,size=size)\n",
    "x4 = np.random.normal(0.2*x1+0.5,0.5,size=size)\n",
    "untreat_group = kaiki(x1=0,x2=x2,x3=x3,x4=x4,effect=effect,beta2=beta2,beta3=beta3, beta4=beta4,b=b)\n",
    "print(untreat_group.mean())\n",
    "#x1=1のとき\n",
    "x1 = 1\n",
    "x2 = np.random.normal(1.2*x1+0.5,0.6,size=size)\n",
    "x3 = np.random.normal(-0.8*x1+0.3,0.3,size=size)\n",
    "x4 = np.random.normal(0.2*x1+0.5,0.5,size=size)\n",
    "treat_group = kaiki(x1=1,x2=x2,x3=x3,x4=x4,effect=effect,beta2=beta2,beta3=beta3, beta4=beta4,b=b)\n",
    "print(treat_group.mean())\n",
    "print(treat_group.mean()-untreat_group.mean())"
   ]
  },
  {
   "cell_type": "code",
   "execution_count": 492,
   "metadata": {},
   "outputs": [
    {
     "data": {
      "image/png": "[encoded data removed]",
      "text/plain": [
       "<Figure size 432x288 with 6 Axes>"
      ]
     },
     "metadata": {
      "needs_background": "light"
     },
     "output_type": "display_data"
    }
   ],
   "source": [
    "fig2, axes = plt.subplots(2, 3, sharex=True)\n",
    "plt.subplots_adjust(wspace=0.4, hspace=0.6)\n",
    "axes[0, 0].hist(x2, bins=100)\n",
    "axes[0, 0].set_title('x2')\n",
    "axes[0, 1].hist(x3, bins=100) \n",
    "axes[0, 1].set_title('x3')\n",
    "axes[1, 0].hist(x4,bins=100) \n",
    "axes[1, 0].set_title('x4')\n",
    "axes[1, 1].hist(treat_group, bins=100) \n",
    "axes[1, 1].set_title('treated')\n",
    "axes[0, 2].hist(untreat_group,bins=100) \n",
    "axes[0, 2].set_title('untreated')\n",
    "axes[1, 2].hist(treat_group-untreat_group, bins=100) \n",
    "axes[1, 2].set_title('treated-untreated')\n",
    "plt.show()"
   ]
  },
  {
   "cell_type": "code",
   "execution_count": 493,
   "metadata": {},
   "outputs": [],
   "source": [
    "size=70000\n",
    "x1 = np.random.binomial(1,0.5,size=size)\n",
    "x2 = np.random.normal(1.2*x1+0.5,0.6,size=size)\n",
    "x3 = np.random.normal(-0.8*x1+0.2,0.3,size=size)\n",
    "x4 = np.random.normal(0.2*x1+0.5,0.5,size=size)\n",
    "effect = 1.5\n",
    "beta2 = 0.8\n",
    "beta3 = 0.3\n",
    "beta4 = 0.5\n",
    "eps = 1e-10\n",
    "b = np.random.normal(3,0.2)\n",
    "\n",
    "\n",
    "def kaiki(x1=x1,x2=x2,x3=x3,x4=x4,effect=effect,beta2=beta2,beta3=beta3, beta4=beta4,b=b):\n",
    "    return effect*x1+beta2*x2+beta3*x3+beta4*x4+b\n",
    "\n",
    "yogo = kaiki(x1,x2,x3,x4)\n",
    "data = np.array((x1,x2,x3,x4,yogo)).T\n",
    "\n",
    "train_data = np.array(data[:60000])#train[:,0]:conditional, train[:,1]:feature, train[:,2]:outcome\n",
    "test_data  = np.array(data[60000:])"
   ]
  },
  {
   "cell_type": "code",
   "execution_count": 494,
   "metadata": {},
   "outputs": [],
   "source": [
    "batch_size = 100\n",
    "num_iters = 6000\n",
    "num_epochs = int(batch_size* num_iters/len(train_data))"
   ]
  },
  {
   "cell_type": "code",
   "execution_count": 495,
   "metadata": {},
   "outputs": [],
   "source": [
    "train_loader = torch.utils.data.DataLoader(dataset=train_data, batch_size = batch_size, shuffle=True)\n",
    "test_loader = torch.utils.data.DataLoader(dataset = test_data, batch_size = batch_size, shuffle = False)"
   ]
  },
  {
   "cell_type": "code",
   "execution_count": 496,
   "metadata": {},
   "outputs": [
    {
     "data": {
      "text/plain": [
       "10"
      ]
     },
     "execution_count": 496,
     "metadata": {},
     "output_type": "execute_result"
    }
   ],
   "source": [
    "num_epochs"
   ]
  },
  {
   "cell_type": "code",
   "execution_count": 497,
   "metadata": {},
   "outputs": [],
   "source": [
    "from pixyz.distributions import Bernoulli, Normal\n",
    "from pixyz.losses import KullbackLeibler\n",
    "from pixyz.models import VAE"
   ]
  },
  {
   "cell_type": "code",
   "execution_count": 498,
   "metadata": {},
   "outputs": [],
   "source": [
    "class Inference(Normal):\n",
    "    def __init__(self, input_dim,cond_dim, hidden_dim, latent_dim):\n",
    "        super(Inference, self).__init__(cond_var=[\"x\",\"y\"], var=[\"z\"], name=\"q\")\n",
    "        \n",
    "        self.fc1 = nn.Linear(input_dim+cond_dim, hidden_dim)\n",
    "        self.fc2 = nn.Linear(hidden_dim, hidden_dim)\n",
    "        self.fc31 = nn.Linear(hidden_dim, latent_dim)\n",
    "        self.fc32 = nn.Linear(hidden_dim, latent_dim)\n",
    "    def forward(self,x,y):\n",
    "        h = F.relu(self.fc1(torch.cat([x,y],1)))\n",
    "        h = F.relu(self.fc2(h))\n",
    "        return {\"loc\": self.fc31(h), \"scale\": F.softplus(self.fc32(h))}\n",
    "\n",
    "class Generator(Normal):\n",
    "    def __init__(self, latent_dim,cond_dim, hidden_dim, output_dim):\n",
    "        super(Generator, self).__init__(cond_var=[\"z\",\"y\"], var=[\"x\"], name=\"p\")\n",
    "        \n",
    "        self.fc1 = nn.Linear(latent_dim+cond_dim, hidden_dim)\n",
    "        self.fc2 = nn.Linear(hidden_dim, hidden_dim)\n",
    "        self.fc31 = nn.Linear(hidden_dim, output_dim)\n",
    "        self.fc32 = nn.Linear(hidden_dim, output_dim)\n",
    "        \n",
    "    def forward(self,z,y):\n",
    "        h = F.relu(self.fc1(torch.cat([z,y],1)))\n",
    "        h = F.relu(self.fc2(h))\n",
    "        return {\"loc\": self.fc31(h), \"scale\": F.softplus(self.fc32(h))}\n"
   ]
  },
  {
   "cell_type": "code",
   "execution_count": null,
   "metadata": {},
   "outputs": [],
   "source": []
  },
  {
   "cell_type": "code",
   "execution_count": 499,
   "metadata": {},
   "outputs": [],
   "source": [
    "input_dim = len(data[0])-2\n",
    "hidden_dim = 100\n",
    "latent_dim = 3\n",
    "output_dim = input_dim\n",
    "cond_dim = 2\n",
    "estimate_dim =1"
   ]
  },
  {
   "cell_type": "code",
   "execution_count": 500,
   "metadata": {},
   "outputs": [
    {
     "data": {
      "text/plain": [
       "Inference(\n",
       "  (fc1): Linear(in_features=5, out_features=100, bias=True)\n",
       "  (fc2): Linear(in_features=100, out_features=100, bias=True)\n",
       "  (fc31): Linear(in_features=100, out_features=3, bias=True)\n",
       "  (fc32): Linear(in_features=100, out_features=3, bias=True)\n",
       ")"
      ]
     },
     "execution_count": 500,
     "metadata": {},
     "output_type": "execute_result"
    }
   ],
   "source": [
    "p = Generator(latent_dim,cond_dim, hidden_dim, output_dim)\n",
    "q = Inference(input_dim,cond_dim, hidden_dim, latent_dim)\n",
    "\n",
    "\n",
    "p.to(device)\n",
    "q.to(device)\n"
   ]
  },
  {
   "cell_type": "code",
   "execution_count": 501,
   "metadata": {},
   "outputs": [],
   "source": [
    "loc = torch.tensor(0.)\n",
    "scale = torch.tensor(1.)\n",
    "prior = Normal(loc=loc, scale=scale, var=[\"z\"], dim= latent_dim, name=\"p_prior\")"
   ]
  },
  {
   "cell_type": "code",
   "execution_count": 502,
   "metadata": {},
   "outputs": [],
   "source": [
    "kl = KullbackLeibler(q,prior)\n"
   ]
  },
  {
   "cell_type": "code",
   "execution_count": 503,
   "metadata": {},
   "outputs": [],
   "source": [
    "model = VAE(q,p, regularizer = kl, optimizer=optim.Adam, optimizer_params={\"lr\":1e-3})"
   ]
  },
  {
   "cell_type": "code",
   "execution_count": 504,
   "metadata": {},
   "outputs": [
    {
     "name": "stdout",
     "output_type": "stream",
     "text": [
      "[0. 1. 1. ... 1. 1. 1.]\n",
      "[0.87832723 2.0168811  1.36844203 ... 1.64282224 2.15176199 1.86661387]\n",
      "[ 0.44339339 -0.02996228 -0.54143963 ... -0.42253145 -0.20153959\n",
      " -0.45568241]\n",
      "[ 0.1580671   1.25182669 -0.0632113  ...  0.8714384   0.66811251\n",
      "  0.94845277]\n",
      "[4.11246729 6.92818348 5.59847002 ... 6.3209715  6.69275791 6.52856669]\n"
     ]
    },
    {
     "data": {
      "text/plain": [
       "5"
      ]
     },
     "execution_count": 504,
     "metadata": {},
     "output_type": "execute_result"
    }
   ],
   "source": [
    "print(data[:,0]) #xtreat\n",
    "print(data[:,1]) #x2\n",
    "print(data[:,2]) #x3\n",
    "print(data[:,3]) #x4\n",
    "print(data[:,4]) #yogo\n",
    "len(data[0])"
   ]
  },
  {
   "cell_type": "code",
   "execution_count": 505,
   "metadata": {},
   "outputs": [],
   "source": [
    "def input_shaper(x,input_dim):\n",
    "    return x.view(-1, input_dim).float()\n",
    "    \n",
    "def tag_shaper(tag):\n",
    "    return torch.eye(2)[tag.long()].float()\n",
    "\n",
    "\"\"\"\n",
    "def data_shaper(x,y, input_dim):\n",
    "    x = x.view(-1, input_dim).float()\n",
    "    y = torch.eye(2)[y.long()].float()\n",
    "    return x,y\n",
    "\"\"\"\n",
    "\n",
    "def train(epoch, input_dim):\n",
    "    train_loss = 0\n",
    "    for _data in tqdm(train_loader):\n",
    "        y = tag_shaper(_data[:,0])\n",
    "        x = input_shaper(_data[:, 1:input_dim+1],input_dim)\n",
    "        x = x.to(device)\n",
    "        y = y.to(device)\n",
    "       \n",
    "        loss = model.train({\"x\":x, \"y\":y})\n",
    "        train_loss += loss\n",
    "    #pytorchのlossはデフォルトでは平均の値になる。このためバッチ長をかけて\n",
    "    #全体で割って全体のlossを計算する\n",
    "    \n",
    "    train_loss = train_loss * train_loader.batch_size / len(train_loader.dataset)\n",
    "    print('Epoch:{} Train loss:{:.4f}'.format(epoch, train_loss))\n",
    "    return train_loss"
   ]
  },
  {
   "cell_type": "code",
   "execution_count": 506,
   "metadata": {},
   "outputs": [],
   "source": [
    "def test(epoch, input_dim):\n",
    "    test_loss = 0\n",
    "    for _data in test_loader:\n",
    "        y = tag_shaper(_data[:,0])\n",
    "        x = input_shaper(_data[:, 1:input_dim+1],input_dim)\n",
    "        x = x.to(device)\n",
    "        y = y.to(device)\n",
    "        \n",
    "        loss = model.test({\"x\":x, \"y\":y})\n",
    "        test_loss += loss\n",
    "    test_loss = test_loss * test_loader.batch_size/ len(test_loader.dataset)\n",
    "    print('Test loss:{:.4f}'.format(test_loss))\n",
    "    return test_loss"
   ]
  },
  {
   "cell_type": "code",
   "execution_count": 507,
   "metadata": {},
   "outputs": [],
   "source": [
    "def plot_reconstrunction(x,y,output_dim):\n",
    "    with torch.no_grad():\n",
    "        z = q.sample({\"x\":x, \"y\":y}, return_all=False)\n",
    "        z.update({\"y\":y})\n",
    "        recon_batch = p.sample_mean(z).view(-1, output_dim)\n",
    "        recon = torch.cat([x.view(-1, output_dim), recon_batch]).cpu()\n",
    "        return recon\n",
    "\n",
    "def plot_image_from_latent(z,y, output_dim):\n",
    "    with torch.no_grad():\n",
    "        sample = p.sample_mean({\"z\":z, \"y\":y}).view(-1, output_dim).cpu()\n",
    "        return sample\n",
    "\n",
    "def plot_reconstraction_changing_y(x,y, output_dim):\n",
    "    y_change = torch.eye(2)[range(2)].to(device)\n",
    "    batch_dummy = torch.ones(x.size(0))[:, None].to(device)\n",
    "    recon_all = []\n",
    "    \n",
    "    with torch.no_grad():\n",
    "        for _y in y_change:\n",
    "            z = q.sample({\"x\": x, \"y\": y}, return_all=False)   #batch数だけx,yを代入\n",
    "            z.update({\"y\": batch_dummy * _y[None,:]})\n",
    "            \n",
    "            recon_batch = p.sample_mean(z).view(-1, output_dim)\n",
    "            recon_all.append(recon_batch)\n",
    "            \n",
    "        recon_changing_y = torch.cat(recon_all)\n",
    "        recon_changing_y = torch.cat([x.view( -1, output_dim), recon_changing_y]).cpu()\n",
    "        \n",
    "        return recon_changing_y"
   ]
  },
  {
   "cell_type": "code",
   "execution_count": 508,
   "metadata": {
    "scrolled": true
   },
   "outputs": [
    {
     "name": "stderr",
     "output_type": "stream",
     "text": [
      "100%|██████████| 600/600 [00:03<00:00, 159.42it/s]\n",
      "  0%|          | 0/600 [00:00<?, ?it/s]"
     ]
    },
    {
     "name": "stdout",
     "output_type": "stream",
     "text": [
      "Epoch:1 Train loss:1.9162\n",
      "Test loss:1.8368\n"
     ]
    },
    {
     "name": "stderr",
     "output_type": "stream",
     "text": [
      "100%|██████████| 600/600 [00:03<00:00, 161.93it/s]\n",
      "  0%|          | 0/600 [00:00<?, ?it/s]"
     ]
    },
    {
     "name": "stdout",
     "output_type": "stream",
     "text": [
      "Epoch:2 Train loss:1.8561\n",
      "Test loss:1.8396\n"
     ]
    },
    {
     "name": "stderr",
     "output_type": "stream",
     "text": [
      "100%|██████████| 600/600 [00:03<00:00, 169.20it/s]\n",
      "  0%|          | 0/600 [00:00<?, ?it/s]"
     ]
    },
    {
     "name": "stdout",
     "output_type": "stream",
     "text": [
      "Epoch:3 Train loss:1.8551\n",
      "Test loss:1.8358\n"
     ]
    },
    {
     "name": "stderr",
     "output_type": "stream",
     "text": [
      "100%|██████████| 600/600 [00:03<00:00, 174.10it/s]\n",
      "  0%|          | 0/600 [00:00<?, ?it/s]"
     ]
    },
    {
     "name": "stdout",
     "output_type": "stream",
     "text": [
      "Epoch:4 Train loss:1.8504\n",
      "Test loss:1.8376\n"
     ]
    },
    {
     "name": "stderr",
     "output_type": "stream",
     "text": [
      "100%|██████████| 600/600 [00:03<00:00, 164.79it/s]\n",
      "  0%|          | 0/600 [00:00<?, ?it/s]"
     ]
    },
    {
     "name": "stdout",
     "output_type": "stream",
     "text": [
      "Epoch:5 Train loss:1.8520\n",
      "Test loss:1.8494\n"
     ]
    },
    {
     "name": "stderr",
     "output_type": "stream",
     "text": [
      "100%|██████████| 600/600 [00:03<00:00, 159.31it/s]\n",
      "  0%|          | 0/600 [00:00<?, ?it/s]"
     ]
    },
    {
     "name": "stdout",
     "output_type": "stream",
     "text": [
      "Epoch:6 Train loss:1.8521\n",
      "Test loss:1.8389\n"
     ]
    },
    {
     "name": "stderr",
     "output_type": "stream",
     "text": [
      "100%|██████████| 600/600 [00:03<00:00, 161.72it/s]\n",
      "  0%|          | 0/600 [00:00<?, ?it/s]"
     ]
    },
    {
     "name": "stdout",
     "output_type": "stream",
     "text": [
      "Epoch:7 Train loss:1.8501\n",
      "Test loss:1.8460\n"
     ]
    },
    {
     "name": "stderr",
     "output_type": "stream",
     "text": [
      "100%|██████████| 600/600 [00:03<00:00, 163.17it/s]\n",
      "  0%|          | 0/600 [00:00<?, ?it/s]"
     ]
    },
    {
     "name": "stdout",
     "output_type": "stream",
     "text": [
      "Epoch:8 Train loss:1.8501\n",
      "Test loss:1.8343\n"
     ]
    },
    {
     "name": "stderr",
     "output_type": "stream",
     "text": [
      "100%|██████████| 600/600 [00:03<00:00, 162.49it/s]\n",
      "  0%|          | 0/600 [00:00<?, ?it/s]"
     ]
    },
    {
     "name": "stdout",
     "output_type": "stream",
     "text": [
      "Epoch:9 Train loss:1.8492\n",
      "Test loss:1.8405\n"
     ]
    },
    {
     "name": "stderr",
     "output_type": "stream",
     "text": [
      "100%|██████████| 600/600 [00:03<00:00, 175.73it/s]\n"
     ]
    },
    {
     "name": "stdout",
     "output_type": "stream",
     "text": [
      "Epoch:10 Train loss:1.8488\n",
      "Test loss:1.8361\n"
     ]
    }
   ],
   "source": [
    "writer = SummaryWriter()\n",
    "\n",
    "plot_number = 1\n",
    "\n",
    "z_sample = 0.5 * torch.randn(64, latent_dim).to(device)\n",
    "y_sample = torch.eye(2)[[plot_number]*64].to(device)\n",
    "\n",
    "_data = iter(test_loader).next()\n",
    "\n",
    "_y = tag_shaper(_data[:,0])\n",
    "_x = input_shaper(_data[:, 1:input_dim+1],input_dim)\n",
    "_x = _x.to(device)\n",
    "_y = _y.to(device)\n",
    "\n",
    "for epoch in range(1, num_epochs + 1):\n",
    "    train_loss = train(epoch, input_dim)\n",
    "    test_loss = test(epoch, input_dim)\n",
    "    \n",
    "    recon = plot_reconstrunction(_x[:8], _y[:8], output_dim)\n",
    "    sample = plot_image_from_latent(z_sample, y_sample, output_dim)\n",
    "    recon_changing_y = plot_reconstraction_changing_y(_x[:8], _y[:8], output_dim)\n",
    "    \n",
    "\n",
    "    writer.add_scalar('train_loss', train_loss.item(), epoch)\n",
    "    writer.add_scalar('test_loss', test_loss.item(), epoch)      \n",
    "    \"\"\"\n",
    "    writer.add_image('Image_from_latent', sample, epoch)\n",
    "    writer.add_image('Image_reconstrunction', recon, epoch)\n",
    "    writer.add_image('Image_reconstrunction_change_y', recon_changing_y, epoch)\n",
    "    \"\"\"\n",
    "writer.close()"
   ]
  },
  {
   "cell_type": "markdown",
   "metadata": {},
   "source": []
  },
  {
   "cell_type": "code",
   "execution_count": 509,
   "metadata": {},
   "outputs": [
    {
     "name": "stdout",
     "output_type": "stream",
     "text": [
      "[[ 0.2481877   0.43345177  0.98622704  1.          0.        ]\n",
      " [ 0.91855085  0.07884631  0.41156712  1.          0.        ]\n",
      " [ 0.46802333  0.1963484   0.16660094  1.          0.        ]\n",
      " [-0.56149286  0.55212474  1.1318889   1.          0.        ]\n",
      " [ 1.5101316   0.50362766  0.9352618   1.          0.        ]\n",
      " [ 0.00343646 -0.03561121  0.61474615  1.          0.        ]\n",
      " [ 1.3599315  -0.5797519   0.07884403  0.          1.        ]\n",
      " [ 0.10347268 -0.11793464 -0.38974667  1.          0.        ]]\n"
     ]
    }
   ],
   "source": [
    "_data= iter(train_loader).next()\n",
    "_data = _data[:8]\n",
    "y = tag_shaper(_data[:,0])\n",
    "x = input_shaper(_data[:, 1:input_dim+1],input_dim)\n",
    "\n",
    "x = x.to(device)\n",
    "y = y.to(device)\n",
    "\n",
    "\n",
    "print(np.hstack(( x.cpu(),y.cpu() ) ))\n",
    "#print(x)\n",
    "#print((x,y))\n",
    "test = plot_reconstraction_changing_y(x,y, output_dim).cpu()\n",
    "#print(test.reshape(8,-1))"
   ]
  },
  {
   "cell_type": "code",
   "execution_count": 510,
   "metadata": {},
   "outputs": [
    {
     "name": "stdout",
     "output_type": "stream",
     "text": [
      "tensor([[0.4515, 0.1826, 0.5177],\n",
      "        [0.4467, 0.1844, 0.5740],\n",
      "        [0.4205, 0.1954, 0.5133],\n",
      "        [0.4443, 0.1806, 0.5173],\n",
      "        [0.4580, 0.2103, 0.5347],\n",
      "        [0.4885, 0.1763, 0.5160],\n",
      "        [0.4492, 0.1874, 0.5226],\n",
      "        [0.4535, 0.1929, 0.5264]])\n",
      "tensor([[ 1.6328, -0.6238,  0.6794],\n",
      "        [ 1.6547, -0.6143,  0.6902],\n",
      "        [ 1.6106, -0.6173,  0.6770],\n",
      "        [ 1.6643, -0.6272,  0.6821],\n",
      "        [ 1.6499, -0.5973,  0.6898],\n",
      "        [ 1.6663, -0.6297,  0.6919],\n",
      "        [ 1.6749, -0.6423,  0.6874],\n",
      "        [ 1.6242, -0.6229,  0.7002]])\n"
     ]
    }
   ],
   "source": [
    "re_test=test.reshape(-1,8,3)\n",
    "#print(test.reshape(-1,8,3))\n",
    "print(re_test[1,:,:].cpu())\n",
    "print(re_test[2,:,:].cpu())"
   ]
  },
  {
   "cell_type": "code",
   "execution_count": 511,
   "metadata": {},
   "outputs": [],
   "source": [
    "###以下やり直し\n",
    "making_pt_size =1\n",
    "pt_maker = torch.utils.data.DataLoader(dataset=train_data, batch_size = making_pt_size, shuffle=True)\n",
    "for _data in pt_maker:\n",
    "    y = tag_shaper(_data[:,0])\n",
    "    x = input_shaper(_data[:, 1:input_dim+1],input_dim)\n",
    "\n",
    "    x = x.to(device)\n",
    "    y = y.to(device)\n",
    "    gen_pt = plot_reconstraction_changing_y(x,y, output_dim).cpu().reshape(3,input_dim,-1)\n"
   ]
  },
  {
   "cell_type": "code",
   "execution_count": 512,
   "metadata": {},
   "outputs": [
    {
     "data": {
      "text/plain": [
       "'\\nprint(gen_pt)\\nprint(gen_pt[0]) #元の患者\\nprint(gen_pt[1]) # y=0\\nprint(gen_pt[2] )#y=1\\nprint(gen_pt[1,0]) #y=0の患者の1番目の変数\\nprint(gen_pt[1,1]) #y=0の患者の2番目の変数\\nprint(gen_pt[1,2]) #y=0の患者の3番目の変数\\n'"
      ]
     },
     "execution_count": 512,
     "metadata": {},
     "output_type": "execute_result"
    }
   ],
   "source": [
    "\"\"\"\n",
    "print(gen_pt)\n",
    "print(gen_pt[0]) #元の患者\n",
    "print(gen_pt[1]) # y=0\n",
    "print(gen_pt[2] )#y=1\n",
    "print(gen_pt[1,0]) #y=0の患者の1番目の変数\n",
    "print(gen_pt[1,1]) #y=0の患者の2番目の変数\n",
    "print(gen_pt[1,2]) #y=0の患者の3番目の変数\n",
    "\"\"\""
   ]
  },
  {
   "cell_type": "code",
   "execution_count": 513,
   "metadata": {},
   "outputs": [],
   "source": [
    "making_pt_size =10000\n",
    "pt_maker = torch.utils.data.DataLoader(dataset=train_data, batch_size = making_pt_size, shuffle=True)\n",
    "for _data in pt_maker:\n",
    "    y = tag_shaper(_data[:,0])\n",
    "    x = input_shaper(_data[:, 1:input_dim+1],input_dim)\n",
    "\n",
    "    x = x.to(device)\n",
    "    y = y.to(device)\n",
    "    #gen_pt[i,j,:] #y=i-1の患者のj+1番目の変数\n",
    "    #gen_pt = plot_reconstraction_changing_y(x,y, output_dim).cpu().reshape(3,input_dim,-1)　\n",
    "    gen_pt = plot_reconstraction_changing_y(x,y, output_dim).cpu().reshape(3,input_dim,-1)"
   ]
  },
  {
   "cell_type": "code",
   "execution_count": 514,
   "metadata": {},
   "outputs": [
    {
     "data": {
      "text/plain": [
       "'\\n#x1=0のとき\\nx1 = 0\\nx2 = np.random.normal(1.2*x1+0.5,0.6,size=size)\\nx3 = np.random.normal(-0.8*x1+0.3,0.3,size=size)\\nx4 = np.random.normal(0.2*x1+0.5,0.5,size=size)\\nuntreat_group = kaiki(x1=0,x2=x2,x3=x3,x4=x4,effect=effect,beta2=beta2,beta3=beta3, beta4=beta4,b=b)\\nprint(untreat_group.mean())\\n#x1=1のとき\\nx1 = 1\\nx2 = np.random.normal(1.2*x1+0.5,0.6,size=size)\\nx3 = np.random.normal(-0.8*x1+0.3,0.3,size=size)\\nx4 = np.random.normal(0.2*x1+0.5,0.5,size=size)\\ntreat_group = kaiki(x1=1,x2=x2,x3=x3,x4=x4,effect=effect,beta2=beta2,beta3=beta3, beta4=beta4,b=b)\\nprint(treat_group.mean())\\nprint(treat_group.mean()-untreat_group.mean())\\n'"
      ]
     },
     "execution_count": 514,
     "metadata": {},
     "output_type": "execute_result"
    }
   ],
   "source": [
    "#x2 = np.random.normal(1.2*x1+0.5,0.6,size=size)\n",
    "#x3 = np.random.normal(-0.8*x1+0.2,0.3,size=size)\n",
    "#x4 = np.random.normal(0.2*x1+0.5,0.5,size=size)\n",
    "\n",
    "\"\"\"\n",
    "#x1=0のとき\n",
    "x1 = 0\n",
    "x2 = np.random.normal(1.2*x1+0.5,0.6,size=size)\n",
    "x3 = np.random.normal(-0.8*x1+0.3,0.3,size=size)\n",
    "x4 = np.random.normal(0.2*x1+0.5,0.5,size=size)\n",
    "untreat_group = kaiki(x1=0,x2=x2,x3=x3,x4=x4,effect=effect,beta2=beta2,beta3=beta3, beta4=beta4,b=b)\n",
    "print(untreat_group.mean())\n",
    "#x1=1のとき\n",
    "x1 = 1\n",
    "x2 = np.random.normal(1.2*x1+0.5,0.6,size=size)\n",
    "x3 = np.random.normal(-0.8*x1+0.3,0.3,size=size)\n",
    "x4 = np.random.normal(0.2*x1+0.5,0.5,size=size)\n",
    "treat_group = kaiki(x1=1,x2=x2,x3=x3,x4=x4,effect=effect,beta2=beta2,beta3=beta3, beta4=beta4,b=b)\n",
    "print(treat_group.mean())\n",
    "print(treat_group.mean()-untreat_group.mean())\n",
    "\"\"\"\n",
    "#gen_pt[1,0,:] #y=0の患者の1番目の変数\n",
    "#gen_pt[1,1,:] #y=0の患者の2番目の変数\n",
    "#gen_pt[1,2,:] #y=0の患者の3番目の変数\n",
    "#gen_pt[2,0,:] #y=1の患者の1番目の変数\n",
    "#gen_pt[2,1,:] #y=1の患者の2番目の変数\n",
    "#gen_pt[2,2,:] #y=1の患者の3番目の変数"
   ]
  },
  {
   "cell_type": "code",
   "execution_count": null,
   "metadata": {},
   "outputs": [],
   "source": []
  },
  {
   "cell_type": "code",
   "execution_count": 515,
   "metadata": {},
   "outputs": [
    {
     "data": {
      "image/png": "[encoded data removed]",
      "text/plain": [
       "<Figure size 432x288 with 4 Axes>"
      ]
     },
     "metadata": {
      "needs_background": "light"
     },
     "output_type": "display_data"
    }
   ],
   "source": [
    "fig, axes = plt.subplots(2, 2, sharex=True)\n",
    "plt.subplots_adjust(wspace=0.6, hspace=0.6)\n",
    "axes[0,0].hist(np.random.normal(0.5,0.6,10000),bins=100)\n",
    "axes[0,0].set_title('x2_untreated')\n",
    "axes[0,1].hist(np.random.normal(1.7,0.6,10000),bins=100)\n",
    "axes[0,1].set_title('x2_treated')\n",
    "axes[1,0].hist(gen_pt[1,0,:])\n",
    "axes[1,0].set_title('x2_gen_untreated')\n",
    "axes[1,1].hist(gen_pt[2,0,:])\n",
    "axes[1,1].set_title('x2_gen_treated')\n",
    "\n",
    "\n",
    "\"\"\"\n",
    "axes[0, 0].hist(gen_pt[1,:], bins=100)\n",
    "axes[0, 0].set_title('generater1')\n",
    "axes[0, 1].hist(gen_pt[2,:], bins=100) \n",
    "axes[0, 1].set_title('generater2')\n",
    "axes[1, 0].hist(np.random.normal(0.5,0.2,10000),bins=100) \n",
    "axes[1, 0].set_title('original1')\n",
    "axes[1, 1].hist(np.random.normal(0.9,0.2,10000), bins=100) \n",
    "axes[1, 1].set_title('original2')\n",
    "\"\"\"\n",
    "plt.show()"
   ]
  },
  {
   "cell_type": "code",
   "execution_count": 516,
   "metadata": {},
   "outputs": [
    {
     "data": {
      "image/png": "[encoded data removed]",
      "text/plain": [
       "<Figure size 432x288 with 4 Axes>"
      ]
     },
     "metadata": {
      "needs_background": "light"
     },
     "output_type": "display_data"
    }
   ],
   "source": [
    "fig, axes = plt.subplots(2, 2, sharex=True)\n",
    "plt.subplots_adjust(wspace=0.6, hspace=0.6)\n",
    "axes[0,0].hist(np.random.normal(0.3,0.3,10000),bins=100)\n",
    "axes[0,0].set_title('x3_untreated')\n",
    "axes[0,1].hist(np.random.normal(-0.5,0.3,10000),bins=100)\n",
    "axes[0,1].set_title('x3_treated')\n",
    "axes[1,0].hist(gen_pt[1,1,:])\n",
    "axes[1,0].set_title('x3_gen_untreated')\n",
    "axes[1,1].hist(gen_pt[2,1,:])\n",
    "axes[1,1].set_title('x3_gen_treated')\n",
    "plt.show()"
   ]
  },
  {
   "cell_type": "code",
   "execution_count": 517,
   "metadata": {},
   "outputs": [
    {
     "data": {
      "image/png": "[encoded data removed]",
      "text/plain": [
       "<Figure size 432x288 with 4 Axes>"
      ]
     },
     "metadata": {
      "needs_background": "light"
     },
     "output_type": "display_data"
    }
   ],
   "source": [
    "#x4 = np.random.normal(0.2*x1+0.5,0.5,size=size)\n",
    "fig, axes = plt.subplots(2, 2, sharex=True)\n",
    "plt.subplots_adjust(wspace=0.6, hspace=0.6)\n",
    "axes[0,0].hist(np.random.normal(0.2,0.5,10000),bins=100)\n",
    "axes[0,0].set_title('x4_untreated')\n",
    "axes[0,1].hist(np.random.normal(0.7,0.5,10000),bins=100)\n",
    "axes[0,1].set_title('x4_treated')\n",
    "axes[1,0].hist(gen_pt[1,2,:],bins=5)\n",
    "axes[1,0].set_title('x3_gen_untreated')\n",
    "axes[1,1].hist(gen_pt[2,2,:])\n",
    "axes[1,1].set_title('x3_gen_treated')\n",
    "plt.show()"
   ]
  },
  {
   "cell_type": "code",
   "execution_count": 474,
   "metadata": {},
   "outputs": [],
   "source": [
    "pt_size = 1000\n",
    "z_sample = 3 * torch.randn(pt_size, latent_dim).to(device)\n",
    "\n",
    "# 非治療群を生成\n",
    "plot_number = 0\n",
    "y_sample = torch.eye(2)[[plot_number]*pt_size].to(device)\n",
    "untreated =  plot_image_from_latent(z_sample,y_sample , output_dim)\n",
    "\n",
    "# 治療群を生成\n",
    "plot_number = 1\n",
    "y_sample = torch.eye(2)[[plot_number]*pt_size].to(device)\n",
    "treated =  plot_image_from_latent(z_sample,y_sample , output_dim)\n"
   ]
  },
  {
   "cell_type": "code",
   "execution_count": null,
   "metadata": {},
   "outputs": [],
   "source": []
  },
  {
   "cell_type": "code",
   "execution_count": null,
   "metadata": {},
   "outputs": [],
   "source": []
  },
  {
   "cell_type": "code",
   "execution_count": 518,
   "metadata": {},
   "outputs": [],
   "source": [
    "class Estimator(nn.Module):\n",
    "    def __init__(self, cond_dim, hidden_dim, latent_dim, estimate_dim):\n",
    "        super(Estimator, self).__init__()\n",
    "        \n",
    "        self.fc1 = nn.Linear(latent_dim+cond_dim, hidden_dim)\n",
    "        self.fc2 = nn.Linear(hidden_dim, hidden_dim)\n",
    "        self.fc3 = nn.Linear(hidden_dim, estimate_dim)\n",
    "        \n",
    "    def forward(self,z,y):\n",
    "        h = F.relu(self.fc1(torch.cat([z,y],1)))\n",
    "        h = F.relu(self.fc2(h))\n",
    "        return self.fc3(h)\n",
    "\n",
    "criterion = nn.MSELoss()\n",
    "model2 = Estimator(cond_dim, hidden_dim, latent_dim, estimate_dim)\n",
    "model2.to(device)\n",
    "optimizer = torch.optim.SGD(model2.parameters(),lr=1e-3)"
   ]
  },
  {
   "cell_type": "code",
   "execution_count": 520,
   "metadata": {},
   "outputs": [
    {
     "name": "stderr",
     "output_type": "stream",
     "text": [
      "100%|██████████| 600/600 [00:01<00:00, 443.40it/s]\n",
      "  8%|▊         | 47/600 [00:00<00:01, 468.47it/s]"
     ]
    },
    {
     "name": "stdout",
     "output_type": "stream",
     "text": [
      "Epochs:1, train_Loss:0.5325461626052856, test_Loss:0.46\n"
     ]
    },
    {
     "name": "stderr",
     "output_type": "stream",
     "text": [
      "100%|██████████| 600/600 [00:01<00:00, 465.18it/s]\n",
      "  8%|▊         | 48/600 [00:00<00:01, 474.42it/s]"
     ]
    },
    {
     "name": "stdout",
     "output_type": "stream",
     "text": [
      "Epochs:2, train_Loss:0.3807487487792969, test_Loss:0.35\n"
     ]
    },
    {
     "name": "stderr",
     "output_type": "stream",
     "text": [
      "100%|██████████| 600/600 [00:01<00:00, 463.22it/s]\n",
      "  8%|▊         | 50/600 [00:00<00:01, 492.53it/s]"
     ]
    },
    {
     "name": "stdout",
     "output_type": "stream",
     "text": [
      "Epochs:3, train_Loss:0.3615328073501587, test_Loss:0.32\n"
     ]
    },
    {
     "name": "stderr",
     "output_type": "stream",
     "text": [
      "100%|██████████| 600/600 [00:01<00:00, 465.94it/s]\n",
      "  8%|▊         | 48/600 [00:00<00:01, 478.00it/s]"
     ]
    },
    {
     "name": "stdout",
     "output_type": "stream",
     "text": [
      "Epochs:4, train_Loss:0.3384358882904053, test_Loss:0.31\n"
     ]
    },
    {
     "name": "stderr",
     "output_type": "stream",
     "text": [
      "100%|██████████| 600/600 [00:01<00:00, 472.59it/s]\n",
      "  8%|▊         | 48/600 [00:00<00:01, 471.91it/s]"
     ]
    },
    {
     "name": "stdout",
     "output_type": "stream",
     "text": [
      "Epochs:5, train_Loss:0.3453643023967743, test_Loss:0.30\n"
     ]
    },
    {
     "name": "stderr",
     "output_type": "stream",
     "text": [
      "100%|██████████| 600/600 [00:01<00:00, 467.13it/s]\n",
      "  8%|▊         | 49/600 [00:00<00:01, 485.65it/s]"
     ]
    },
    {
     "name": "stdout",
     "output_type": "stream",
     "text": [
      "Epochs:6, train_Loss:0.3320479691028595, test_Loss:0.30\n"
     ]
    },
    {
     "name": "stderr",
     "output_type": "stream",
     "text": [
      "100%|██████████| 600/600 [00:01<00:00, 462.11it/s]\n",
      "  8%|▊         | 48/600 [00:00<00:01, 476.26it/s]"
     ]
    },
    {
     "name": "stdout",
     "output_type": "stream",
     "text": [
      "Epochs:7, train_Loss:0.3293464779853821, test_Loss:0.30\n"
     ]
    },
    {
     "name": "stderr",
     "output_type": "stream",
     "text": [
      "100%|██████████| 600/600 [00:01<00:00, 465.08it/s]\n",
      "  8%|▊         | 48/600 [00:00<00:01, 477.33it/s]"
     ]
    },
    {
     "name": "stdout",
     "output_type": "stream",
     "text": [
      "Epochs:8, train_Loss:0.3154674470424652, test_Loss:0.30\n"
     ]
    },
    {
     "name": "stderr",
     "output_type": "stream",
     "text": [
      "100%|██████████| 600/600 [00:01<00:00, 474.63it/s]\n",
      "  8%|▊         | 49/600 [00:00<00:01, 486.80it/s]"
     ]
    },
    {
     "name": "stdout",
     "output_type": "stream",
     "text": [
      "Epochs:9, train_Loss:0.313138872385025, test_Loss:0.30\n"
     ]
    },
    {
     "name": "stderr",
     "output_type": "stream",
     "text": [
      "100%|██████████| 600/600 [00:01<00:00, 481.61it/s]\n"
     ]
    },
    {
     "name": "stdout",
     "output_type": "stream",
     "text": [
      "Epochs:10, train_Loss:0.32193633913993835, test_Loss:0.30\n"
     ]
    }
   ],
   "source": [
    "for epoch in range(1, num_epochs+1):\n",
    "    for _data in tqdm(train_loader):\n",
    "        y = tag_shaper(_data[:,0])\n",
    "        x = input_shaper(_data[:, 1:input_dim+1],input_dim)\n",
    "        o = input_shaper(_data[:, input_dim+1],estimate_dim)\n",
    "        x = x.to(device)\n",
    "        y = y.to(device)\n",
    "        o = o.to(device)\n",
    "        \n",
    "        optimizer.zero_grad()\n",
    "        \n",
    "        z = q.sample({\"x\":x, \"y\":y}, return_all=False)\n",
    "        latent = z.get('z')\n",
    "        output = model2(latent,y)\n",
    "        loss = criterion(output,o)        \n",
    "        loss.backward()\n",
    "        \n",
    "        optimizer.step()\n",
    "    \n",
    "    total = 0\n",
    "    total_loss = 0\n",
    "    for _data in test_loader:\n",
    "        y = tag_shaper(_data[:,0])\n",
    "        x = input_shaper(_data[:, 1:input_dim+1],input_dim)\n",
    "        o = input_shaper(_data[:, input_dim+1],estimate_dim)\n",
    "        x = x.to(device)\n",
    "        y = y.to(device)\n",
    "        o = o.to(device)\n",
    "        \n",
    "        z = q.sample({\"x\":x, \"y\":y}, return_all=False)\n",
    "        latent = z.get('z')\n",
    "        output = model2(latent,y)\n",
    "        loss = criterion(output,o)\n",
    "        \n",
    "        total_loss += loss *len(_data)\n",
    "        total += len(_data)\n",
    "    test_loss = total_loss/total\n",
    "    \n",
    "    print('Epochs:{}, train_Loss:{}, test_Loss:{:.2f}'.format(epoch,loss.item(), test_loss.item()))\n",
    "    "
   ]
  },
  {
   "cell_type": "code",
   "execution_count": 521,
   "metadata": {},
   "outputs": [],
   "source": [
    "pt_size = 10000\n",
    "z_sample = 1 * torch.randn(pt_size, latent_dim).to(device)\n",
    "\n",
    "# 非治療群を生成\n",
    "plot_number = 0\n",
    "y_sample = torch.eye(2)[[plot_number]*pt_size].to(device)\n",
    "untreated =  plot_image_from_latent(z_sample,y_sample , output_dim)\n",
    "untreated_outcome = model2(z_sample, y_sample)\n",
    "# 治療群を生成\n",
    "plot_number = 1\n",
    "y_sample = torch.eye(2)[[plot_number]*pt_size].to(device)\n",
    "treated =  plot_image_from_latent(z_sample,y_sample , output_dim)\n",
    "treated_outcome = model2(z_sample, y_sample)"
   ]
  },
  {
   "cell_type": "code",
   "execution_count": 522,
   "metadata": {},
   "outputs": [
    {
     "name": "stdout",
     "output_type": "stream",
     "text": [
      "3.9115386\n",
      "6.2261705\n"
     ]
    },
    {
     "data": {
      "image/png": "[encoded data removed]",
      "text/plain": [
       "<Figure size 432x288 with 1 Axes>"
      ]
     },
     "metadata": {
      "needs_background": "light"
     },
     "output_type": "display_data"
    }
   ],
   "source": [
    "plt.hist(untreated_outcome.cpu().detach().numpy(),bins=100)\n",
    "print(untreated_outcome.cpu().detach().numpy().mean())\n",
    "plt.hist(treated_outcome.cpu().detach().numpy(), bins=100)\n",
    "print(treated_outcome.cpu().detach().numpy().mean())"
   ]
  },
  {
   "cell_type": "code",
   "execution_count": 526,
   "metadata": {},
   "outputs": [
    {
     "data": {
      "text/plain": [
       "(array([  4.,   3.,  11.,  24.,  50.,  52.,  89., 115., 118., 146., 149.,\n",
       "        180., 180., 179., 193., 197., 234., 225., 250., 256., 301., 341.,\n",
       "        388., 462., 460., 428., 403., 420., 376., 370., 357., 329., 301.,\n",
       "        305., 302., 262., 267., 303., 266., 181., 112., 122.,  85.,  55.,\n",
       "         16.,  12.,   8.,  12.,   8.,   8.,   7.,   8.,  11.,   5.,   7.,\n",
       "          4.,   2.,   6.,   2.,   4.,   4.,   3.,   1.,   2.,   0.,   3.,\n",
       "          1.,   2.,   1.,   2.,   0.,   0.,   1.,   0.,   2.,   0.,   2.,\n",
       "          0.,   1.,   1.,   1.,   0.,   0.,   0.,   1.,   0.,   0.,   0.,\n",
       "          0.,   0.,   0.,   0.,   0.,   0.,   0.,   0.,   0.,   0.,   0.,\n",
       "          1.]),\n",
       " array([6.0670304, 6.073192 , 6.0793543, 6.085516 , 6.091678 , 6.09784  ,\n",
       "        6.1040015, 6.1101637, 6.1163254, 6.1224875, 6.128649 , 6.1348114,\n",
       "        6.140973 , 6.147135 , 6.153297 , 6.1594586, 6.165621 , 6.1717825,\n",
       "        6.177944 , 6.1841063, 6.190268 , 6.19643  , 6.202592 , 6.2087536,\n",
       "        6.2149158, 6.2210774, 6.2272396, 6.2334013, 6.239563 , 6.245725 ,\n",
       "        6.251887 , 6.258049 , 6.2642107, 6.270373 , 6.2765346, 6.2826962,\n",
       "        6.2888584, 6.29502  , 6.3011823, 6.307344 , 6.3135056, 6.319668 ,\n",
       "        6.3258295, 6.3319917, 6.3381534, 6.344315 , 6.350477 , 6.356639 ,\n",
       "        6.362801 , 6.368963 , 6.375125 , 6.3812866, 6.3874483, 6.3936105,\n",
       "        6.399772 , 6.4059343, 6.412096 , 6.4182577, 6.42442  , 6.4305816,\n",
       "        6.4367437, 6.4429054, 6.449067 , 6.4552293, 6.461391 , 6.467553 ,\n",
       "        6.473715 , 6.4798765, 6.4860387, 6.4922004, 6.4983625, 6.504524 ,\n",
       "        6.5106864, 6.516848 , 6.52301  , 6.529172 , 6.5353336, 6.541496 ,\n",
       "        6.5476575, 6.553819 , 6.5599813, 6.566143 , 6.572305 , 6.578467 ,\n",
       "        6.5846286, 6.5907907, 6.5969524, 6.6031146, 6.6092763, 6.615438 ,\n",
       "        6.6216   , 6.627762 , 6.633924 , 6.6400857, 6.646248 , 6.6524096,\n",
       "        6.6585712, 6.6647334, 6.670895 , 6.6770573, 6.683219 ],\n",
       "       dtype=float32),\n",
       " <a list of 100 Patch objects>)"
      ]
     },
     "execution_count": 526,
     "metadata": {},
     "output_type": "execute_result"
    },
    {
     "data": {
      "image/png": "[encoded data removed]",
      "text/plain": [
       "<Figure size 432x288 with 1 Axes>"
      ]
     },
     "metadata": {
      "needs_background": "light"
     },
     "output_type": "display_data"
    }
   ],
   "source": [
    "plt.hist(data[:,input_dim+1],bins=100)\n",
    "plt.hist(untreated_outcome.cpu().detach().numpy(),bins=100)\n",
    "plt.hist(treated_outcome.cpu().detach().numpy(),bins=100)"
   ]
  },
  {
   "cell_type": "code",
   "execution_count": null,
   "metadata": {},
   "outputs": [],
   "source": []
  },
  {
   "cell_type": "code",
   "execution_count": 527,
   "metadata": {},
   "outputs": [
    {
     "data": {
      "text/plain": [
       "2.314632"
      ]
     },
     "execution_count": 527,
     "metadata": {},
     "output_type": "execute_result"
    },
    {
     "data": {
      "image/png": "[encoded data removed]",
      "text/plain": [
       "<Figure size 432x288 with 1 Axes>"
      ]
     },
     "metadata": {
      "needs_background": "light"
     },
     "output_type": "display_data"
    }
   ],
   "source": [
    "plt.hist(treat_group-untreat_group, bins=300, alpha=0.5)\n",
    "plt.hist(treated_outcome.cpu().detach().numpy()-untreated_outcome.cpu().detach().numpy(),bins=300,alpha=0.5)\n",
    "(treated_outcome.cpu().detach().numpy()-untreated_outcome.cpu().detach().numpy()).mean()"
   ]
  },
  {
   "cell_type": "code",
   "execution_count": 530,
   "metadata": {},
   "outputs": [],
   "source": [
    "\"\"\"\n",
    "size=70000\n",
    "x1 = np.random.binomial(1,0.5,size=size)\n",
    "x2 = np.random.normal(1.2*x1+0.5,0.6,size=size)\n",
    "x3 = np.random.normal(-0.8*x1+0.2,0.3,size=size)\n",
    "x4 = np.random.normal(0.2*x1+0.5,0.5,size=size)\n",
    "effect = 1.5\n",
    "beta2 = 0.8\n",
    "beta3 = 0.3\n",
    "beta4 = 0.5\n",
    "eps = 1e-10\n",
    "b = np.random.normal(3,0.2)\n",
    "\n",
    "\n",
    "def kaiki(x1=x1,x2=x2,x3=x3,x4=x4,effect=effect,beta2=beta2,beta3=beta3, beta4=beta4,b=b):\n",
    "    return effect*x1+beta2*x2+beta3*x3+beta4*x4+b\n",
    "\n",
    "yogo = kaiki(x1,x2,x3,x4)\n",
    "data = np.array((x1,x2,x3,x4,yogo)).T\n",
    "\"\"\"\n",
    "\n",
    "x1 = np.ones(70000)\n",
    "x2 = np.random.normal(1.2*x1+0.5,0.6,size=size)\n",
    "x3 = np.random.normal(-0.8*x1+0.2,0.3,size=size)\n",
    "x4 = np.random.normal(0.2*x1+0.5,0.5,size=size)\n",
    "t_yogo = kaiki(x1,x2,x3,x4)\n",
    "t_data = np.array((x1,x2,x3,x4,yogo)).T\n",
    "\n",
    "\n",
    "x1= np.zeros(70000)\n",
    "xx2 = np.random.normal(1.2*x1+0.5,0.6,size=size)\n",
    "x3 = np.random.normal(-0.8*x1+0.2,0.3,size=size)\n",
    "x4 = np.random.normal(0.2*x1+0.5,0.5,size=size)\n",
    "u_yogo = kaiki(x1,x2,x3,x4)\n",
    "u_data = np.array((x1,x2,x3,x4,yogo)).T"
   ]
  },
  {
   "cell_type": "code",
   "execution_count": 551,
   "metadata": {},
   "outputs": [],
   "source": [
    "t_pt_maker = torch.utils.data.DataLoader(dataset=t_data, batch_size = 30000, shuffle=True)\n",
    "for _data in t_pt_maker:\n",
    "    y = tag_shaper(_data[:,0])-1                                                     #治療群のラベルを非治療にする\n",
    "    x = input_shaper(_data[:, 1:input_dim+1],input_dim)\n",
    "    o = input_shaper(_data[:, input_dim+1],estimate_dim)\n",
    "    x = x.to(device)\n",
    "    y = y.to(device)\n",
    "    o = o.to(device)\n",
    "    with torch.no_grad():\n",
    "        z1 = q.sample({\"x\": x, \"y\": y}, return_all=False)\n",
    "        latent = z1.get('z')\n",
    "        t_output=model2(latent,y)"
   ]
  },
  {
   "cell_type": "code",
   "execution_count": 552,
   "metadata": {},
   "outputs": [
    {
     "name": "stdout",
     "output_type": "stream",
     "text": [
      "4.0829515\n"
     ]
    },
    {
     "data": {
      "image/png": "[encoded data removed]",
      "text/plain": [
       "<Figure size 432x288 with 1 Axes>"
      ]
     },
     "metadata": {
      "needs_background": "light"
     },
     "output_type": "display_data"
    }
   ],
   "source": [
    "plt.hist(t_output.cpu().numpy(), bins=100)\n",
    "output_mean=t_output.cpu().numpy().mean()\n",
    "print(output_mean)"
   ]
  },
  {
   "cell_type": "code",
   "execution_count": 550,
   "metadata": {},
   "outputs": [
    {
     "data": {
      "text/plain": [
       "array([[0.        , 1.44651408, 0.12318239, 0.3747348 , 4.11246729],\n",
       "       [0.        , 2.31630604, 0.16479603, 0.82076211, 6.92818348],\n",
       "       [0.        , 1.42769416, 0.21770803, 0.87219696, 5.59847002],\n",
       "       ...,\n",
       "       [0.        , 2.02917604, 0.26254625, 0.94970842, 6.3209715 ],\n",
       "       [0.        , 1.84566188, 0.29024823, 1.13348959, 6.69275791],\n",
       "       [0.        , 1.56089393, 0.30746656, 0.49120783, 6.52856669]])"
      ]
     },
     "execution_count": 550,
     "metadata": {},
     "output_type": "execute_result"
    }
   ],
   "source": [
    "u_data"
   ]
  },
  {
   "cell_type": "code",
   "execution_count": 553,
   "metadata": {},
   "outputs": [],
   "source": [
    "u_pt_maker = torch.utils.data.DataLoader(dataset=u_data, batch_size = 30000, shuffle=True)\n",
    "for _data in u_pt_maker:\n",
    "    y = tag_shaper(_data[:,0])+1                                                     #治療群のラベルを非治療にする\n",
    "    x = input_shaper(_data[:, 1:input_dim+1],input_dim)\n",
    "    o = input_shaper(_data[:, input_dim+1],estimate_dim)\n",
    "    x = x.to(device)\n",
    "    y = y.to(device)\n",
    "    o = o.to(device)\n",
    "    with torch.no_grad():\n",
    "        z2 = q.sample({\"x\": x, \"y\": y}, return_all=False)\n",
    "        latent = z2.get('z')\n",
    "        u_output=model2(latent,y)"
   ]
  },
  {
   "cell_type": "code",
   "execution_count": 554,
   "metadata": {},
   "outputs": [
    {
     "data": {
      "image/png": "[encoded data removed]",
      "text/plain": [
       "<Figure size 432x288 with 1 Axes>"
      ]
     },
     "metadata": {
      "needs_background": "light"
     },
     "output_type": "display_data"
    }
   ],
   "source": [
    "plt.hist(u_output.cpu().numpy(), bins=100)\n",
    "u_output_mean=u_output.cpu().numpy().mean()"
   ]
  },
  {
   "cell_type": "code",
   "execution_count": 555,
   "metadata": {},
   "outputs": [
    {
     "name": "stdout",
     "output_type": "stream",
     "text": [
      "2.3234441779164534\n",
      "1.995703648354282\n",
      "2.419984677816566\n",
      "2.207844163085424\n"
     ]
    }
   ],
   "source": [
    "print(treat_group.mean()-untreat_group.mean())\n",
    "print(treat_group.mean()-output_mean)\n",
    "print(u_output_mean-untreat_group.mean())\n",
    "print(((treat_group.mean()-output_mean)+(u_output_mean-untreat_group.mean()))/2)"
   ]
  },
  {
   "cell_type": "code",
   "execution_count": 556,
   "metadata": {},
   "outputs": [
    {
     "data": {
      "text/plain": [
       "(array([  7.,   5.,  14.,  30.,  53.,  71.,  99., 110., 111., 130., 144.,\n",
       "        138., 152., 162., 142., 172., 159., 182., 183., 194., 174., 219.,\n",
       "        176., 199., 201., 228., 270., 282., 299., 300., 313., 310., 328.,\n",
       "        322., 306., 254., 264., 259., 252., 211., 239., 239., 212., 196.,\n",
       "        176., 186., 159., 153., 140., 131.,  92.,  86.,  78.,  84.,  52.,\n",
       "         60.,  46.,  40.,  35.,  21.,  18.,  20.,  16.,  18.,   8.,   7.,\n",
       "         10.,   6.,  11.,   6.,   5.,   7.,   3.,   3.,   0.,   0.,   2.,\n",
       "          2.,   1.,   3.,   0.,   1.,   0.,   1.,   0.,   0.,   0.,   0.,\n",
       "          0.,   0.,   0.,   0.,   0.,   0.,   0.,   1.,   0.,   0.,   0.,\n",
       "          1.]),\n",
       " array([5.815931 , 5.827507 , 5.839083 , 5.8506594, 5.8622355, 5.8738117,\n",
       "        5.8853884, 5.8969646, 5.9085407, 5.920117 , 5.931693 , 5.9432693,\n",
       "        5.9548454, 5.9664216, 5.977998 , 5.9895744, 6.0011506, 6.012727 ,\n",
       "        6.024303 , 6.035879 , 6.0474553, 6.0590315, 6.0706077, 6.082184 ,\n",
       "        6.09376  , 6.105336 , 6.116913 , 6.128489 , 6.140065 , 6.1516414,\n",
       "        6.1632175, 6.1747937, 6.18637  , 6.197946 , 6.2095222, 6.221099 ,\n",
       "        6.232675 , 6.2442513, 6.2558274, 6.2674036, 6.27898  , 6.290556 ,\n",
       "        6.302132 , 6.3137083, 6.3252845, 6.3368607, 6.3484373, 6.3600135,\n",
       "        6.3715897, 6.383166 , 6.394742 , 6.406318 , 6.4178944, 6.4294705,\n",
       "        6.4410467, 6.4526234, 6.4641995, 6.4757757, 6.487352 , 6.498928 ,\n",
       "        6.5105042, 6.5220804, 6.5336566, 6.545233 , 6.556809 , 6.568385 ,\n",
       "        6.579962 , 6.591538 , 6.603114 , 6.6146903, 6.6262665, 6.6378427,\n",
       "        6.649419 , 6.660995 , 6.672571 , 6.684148 , 6.695724 , 6.7073   ,\n",
       "        6.7188764, 6.7304525, 6.7420287, 6.753605 , 6.765181 , 6.7767572,\n",
       "        6.7883334, 6.7999096, 6.8114862, 6.8230624, 6.8346386, 6.846215 ,\n",
       "        6.857791 , 6.869367 , 6.8809433, 6.8925195, 6.9040956, 6.9156723,\n",
       "        6.9272485, 6.9388247, 6.950401 , 6.961977 , 6.973553 ],\n",
       "       dtype=float32),\n",
       " <a list of 100 Patch objects>)"
      ]
     },
     "execution_count": 556,
     "metadata": {},
     "output_type": "execute_result"
    },
    {
     "data": {
      "image/png": "[encoded data removed]",
      "text/plain": [
       "<Figure size 432x288 with 1 Axes>"
      ]
     },
     "metadata": {
      "needs_background": "light"
     },
     "output_type": "display_data"
    }
   ],
   "source": [
    "plt.hist(data[:,input_dim+1],bins=100,alpha=0.5)\n",
    "plt.hist(untreated_outcome.cpu().detach().numpy(),bins=100,alpha=0.5)\n",
    "plt.hist(treated_outcome.cpu().detach().numpy(),bins=100,alpha=0.5)\n",
    "plt.hist(t_output.cpu().numpy(), bins=100,alpha=0.5)\n",
    "plt.hist(u_output.cpu().numpy(), bins=100,alpha=0.5)"
   ]
  },
  {
   "cell_type": "code",
   "execution_count": 557,
   "metadata": {},
   "outputs": [
    {
     "data": {
      "text/plain": [
       "(array([  7.,   5.,  14.,  30.,  53.,  71.,  99., 110., 111., 130., 144.,\n",
       "        138., 152., 162., 142., 172., 159., 182., 183., 194., 174., 219.,\n",
       "        176., 199., 201., 228., 270., 282., 299., 300., 313., 310., 328.,\n",
       "        322., 306., 254., 264., 259., 252., 211., 239., 239., 212., 196.,\n",
       "        176., 186., 159., 153., 140., 131.,  92.,  86.,  78.,  84.,  52.,\n",
       "         60.,  46.,  40.,  35.,  21.,  18.,  20.,  16.,  18.,   8.,   7.,\n",
       "         10.,   6.,  11.,   6.,   5.,   7.,   3.,   3.,   0.,   0.,   2.,\n",
       "          2.,   1.,   3.,   0.,   1.,   0.,   1.,   0.,   0.,   0.,   0.,\n",
       "          0.,   0.,   0.,   0.,   0.,   0.,   0.,   1.,   0.,   0.,   0.,\n",
       "          1.]),\n",
       " array([5.815931 , 5.827507 , 5.839083 , 5.8506594, 5.8622355, 5.8738117,\n",
       "        5.8853884, 5.8969646, 5.9085407, 5.920117 , 5.931693 , 5.9432693,\n",
       "        5.9548454, 5.9664216, 5.977998 , 5.9895744, 6.0011506, 6.012727 ,\n",
       "        6.024303 , 6.035879 , 6.0474553, 6.0590315, 6.0706077, 6.082184 ,\n",
       "        6.09376  , 6.105336 , 6.116913 , 6.128489 , 6.140065 , 6.1516414,\n",
       "        6.1632175, 6.1747937, 6.18637  , 6.197946 , 6.2095222, 6.221099 ,\n",
       "        6.232675 , 6.2442513, 6.2558274, 6.2674036, 6.27898  , 6.290556 ,\n",
       "        6.302132 , 6.3137083, 6.3252845, 6.3368607, 6.3484373, 6.3600135,\n",
       "        6.3715897, 6.383166 , 6.394742 , 6.406318 , 6.4178944, 6.4294705,\n",
       "        6.4410467, 6.4526234, 6.4641995, 6.4757757, 6.487352 , 6.498928 ,\n",
       "        6.5105042, 6.5220804, 6.5336566, 6.545233 , 6.556809 , 6.568385 ,\n",
       "        6.579962 , 6.591538 , 6.603114 , 6.6146903, 6.6262665, 6.6378427,\n",
       "        6.649419 , 6.660995 , 6.672571 , 6.684148 , 6.695724 , 6.7073   ,\n",
       "        6.7188764, 6.7304525, 6.7420287, 6.753605 , 6.765181 , 6.7767572,\n",
       "        6.7883334, 6.7999096, 6.8114862, 6.8230624, 6.8346386, 6.846215 ,\n",
       "        6.857791 , 6.869367 , 6.8809433, 6.8925195, 6.9040956, 6.9156723,\n",
       "        6.9272485, 6.9388247, 6.950401 , 6.961977 , 6.973553 ],\n",
       "       dtype=float32),\n",
       " <a list of 100 Patch objects>)"
      ]
     },
     "execution_count": 557,
     "metadata": {},
     "output_type": "execute_result"
    },
    {
     "data": {
      "image/png": "[encoded data removed]",
      "text/plain": [
       "<Figure size 432x288 with 1 Axes>"
      ]
     },
     "metadata": {
      "needs_background": "light"
     },
     "output_type": "display_data"
    }
   ],
   "source": [
    "plt.hist(untreated_outcome.cpu().detach().numpy(),bins=100,alpha=0.5)\n",
    "plt.hist(treated_outcome.cpu().detach().numpy(),bins=100,alpha=0.5,color='blue')\n",
    "plt.hist(t_output.cpu().numpy(), bins=100,alpha=0.5)\n",
    "plt.hist(u_output.cpu().numpy(), bins=100,alpha=0.5,color=\"yellow\")"
   ]
  },
  {
   "cell_type": "code",
   "execution_count": 558,
   "metadata": {},
   "outputs": [
    {
     "data": {
      "text/plain": [
       "<matplotlib.collections.PathCollection at 0x7f5174dbaf28>"
      ]
     },
     "execution_count": 558,
     "metadata": {},
     "output_type": "execute_result"
    },
    {
     "data": {
      "image/png": "[encoded data removed]",
      "text/plain": [
       "<Figure size 432x288 with 1 Axes>"
      ]
     },
     "metadata": {
      "needs_background": "light"
     },
     "output_type": "display_data"
    }
   ],
   "source": [
    "plt.scatter(z1.get('z').cpu().numpy()[:,0],z1.get('z').cpu().numpy()[:,1],s=2,alpha=0.3)\n",
    "plt.scatter(z2.get('z').cpu().numpy()[:,0],z2.get('z').cpu().numpy()[:,1],s=2,alpha=0.3)"
   ]
  },
  {
   "cell_type": "code",
   "execution_count": 559,
   "metadata": {},
   "outputs": [
    {
     "data": {
      "text/plain": [
       "(array([  1.,   0.,   0.,   0.,   0.,   0.,   1.,   0.,   2.,   3.,   2.,\n",
       "          3.,   3.,   6.,   2.,   7.,  14.,  13.,  14.,  14.,  25.,  31.,\n",
       "         32.,  25.,  30.,  40.,  45.,  54.,  81.,  69.,  90., 109., 117.,\n",
       "        128., 130., 152., 155., 192., 199., 213., 223., 271., 240., 258.,\n",
       "        266., 277., 286., 304., 327., 336., 313., 349., 360., 328., 296.,\n",
       "        282., 309., 270., 241., 257., 227., 216., 211., 179., 151., 165.,\n",
       "        120., 121., 103., 108.,  92.,  81.,  74.,  55.,  37.,  33.,  48.,\n",
       "         34.,  35.,  21.,  21.,  13.,  14.,   5.,  12.,   1.,   7.,   3.,\n",
       "          5.,   1.,   2.,   2.,   3.,   0.,   1.,   0.,   1.,   2.,   0.,\n",
       "          1.]),\n",
       " array([-4.3775353 , -4.2908716 , -4.2042084 , -4.1175447 , -4.030881  ,\n",
       "        -3.9442174 , -3.857554  , -3.7708902 , -3.6842268 , -3.5975633 ,\n",
       "        -3.5108995 , -3.424236  , -3.3375723 , -3.2509089 , -3.1642454 ,\n",
       "        -3.0775816 , -2.9909182 , -2.9042547 , -2.817591  , -2.7309275 ,\n",
       "        -2.6442637 , -2.5576003 , -2.4709368 , -2.384273  , -2.2976096 ,\n",
       "        -2.210946  , -2.1242824 , -2.0376189 , -1.9509553 , -1.8642917 ,\n",
       "        -1.7776281 , -1.6909645 , -1.604301  , -1.5176374 , -1.4309738 ,\n",
       "        -1.3443102 , -1.2576467 , -1.1709831 , -1.0843195 , -0.9976559 ,\n",
       "        -0.9109923 , -0.8243288 , -0.7376652 , -0.65100163, -0.564338  ,\n",
       "        -0.47767445, -0.39101088, -0.3043473 , -0.21768373, -0.13102016,\n",
       "        -0.04435658,  0.04230699,  0.12897056,  0.21563414,  0.3022977 ,\n",
       "         0.3889613 ,  0.47562486,  0.56228846,  0.648952  ,  0.7356156 ,\n",
       "         0.82227916,  0.90894276,  0.9956063 ,  1.0822699 ,  1.1689335 ,\n",
       "         1.255597  ,  1.3422606 ,  1.4289242 ,  1.5155878 ,  1.6022513 ,\n",
       "         1.6889149 ,  1.7755785 ,  1.8622421 ,  1.9489056 ,  2.0355692 ,\n",
       "         2.122233  ,  2.2088964 ,  2.29556   ,  2.3822236 ,  2.468887  ,\n",
       "         2.5555506 ,  2.6422143 ,  2.7288778 ,  2.8155415 ,  2.902205  ,\n",
       "         2.9888685 ,  3.0755322 ,  3.1621957 ,  3.2488592 ,  3.335523  ,\n",
       "         3.4221864 ,  3.50885   ,  3.5955136 ,  3.682177  ,  3.7688408 ,\n",
       "         3.8555043 ,  3.9421678 ,  4.0288315 ,  4.115495  ,  4.2021585 ,\n",
       "         4.288822  ], dtype=float32),\n",
       " <a list of 100 Patch objects>)"
      ]
     },
     "execution_count": 559,
     "metadata": {},
     "output_type": "execute_result"
    },
    {
     "data": {
      "image/png": "[encoded data removed]",
      "text/plain": [
       "<Figure size 432x288 with 1 Axes>"
      ]
     },
     "metadata": {
      "needs_background": "light"
     },
     "output_type": "display_data"
    }
   ],
   "source": [
    "plt.hist(z1.get('z').cpu().numpy()[:,0], bins=100,alpha=0.5)\n",
    "plt.hist(z2.get('z').cpu().numpy()[:,0], bins=100,alpha=0.5)"
   ]
  },
  {
   "cell_type": "code",
   "execution_count": 560,
   "metadata": {},
   "outputs": [
    {
     "data": {
      "text/plain": [
       "(array([  1.,   1.,   0.,   2.,   0.,   0.,   2.,   3.,   2.,   4.,   3.,\n",
       "          6.,   3.,   9.,  13.,  10.,  15.,  17.,  15.,  26.,  30.,  44.,\n",
       "         58.,  57.,  62.,  71.,  84.,  93., 109., 102., 139., 151., 164.,\n",
       "        183., 199., 182., 230., 253., 280., 263., 294., 282., 336., 319.,\n",
       "        320., 321., 320., 335., 298., 337., 321., 340., 314., 263., 245.,\n",
       "        295., 212., 223., 205., 194., 169., 152., 162., 115., 108., 105.,\n",
       "         84.,  80.,  67.,  51.,  45.,  33.,  30.,  24.,  27.,  25.,  14.,\n",
       "          6.,  11.,   7.,   3.,   4.,   7.,   1.,   3.,   2.,   0.,   1.,\n",
       "          0.,   1.,   1.,   0.,   1.,   0.,   0.,   0.,   0.,   0.,   0.,\n",
       "          1.]),\n",
       " array([-4.336243  , -4.2455626 , -4.154882  , -4.064202  , -3.9735212 ,\n",
       "        -3.8828406 , -3.79216   , -3.7014797 , -3.610799  , -3.5201185 ,\n",
       "        -3.429438  , -3.3387575 , -3.2480772 , -3.1573966 , -3.066716  ,\n",
       "        -2.9760356 , -2.885355  , -2.7946744 , -2.703994  , -2.6133134 ,\n",
       "        -2.522633  , -2.4319525 , -2.3412719 , -2.2505915 , -2.159911  ,\n",
       "        -2.0692306 , -1.97855   , -1.8878695 , -1.7971889 , -1.7065084 ,\n",
       "        -1.6158279 , -1.5251474 , -1.4344668 , -1.3437864 , -1.2531059 ,\n",
       "        -1.1624254 , -1.0717448 , -0.9810643 , -0.89038384, -0.7997033 ,\n",
       "        -0.7090228 , -0.6183423 , -0.5276618 , -0.4369813 , -0.34630078,\n",
       "        -0.25562027, -0.16493976, -0.07425925,  0.01642126,  0.10710177,\n",
       "         0.19778228,  0.2884628 ,  0.3791433 ,  0.4698238 ,  0.5605043 ,\n",
       "         0.6511848 ,  0.74186534,  0.8325458 ,  0.92322636,  1.0139068 ,\n",
       "         1.1045873 ,  1.1952679 ,  1.2859484 ,  1.3766289 ,  1.4673094 ,\n",
       "         1.55799   ,  1.6486704 ,  1.7393509 ,  1.8300314 ,  1.920712  ,\n",
       "         2.0113924 ,  2.102073  ,  2.1927536 ,  2.283434  ,  2.3741145 ,\n",
       "         2.464795  ,  2.5554755 ,  2.646156  ,  2.7368364 ,  2.827517  ,\n",
       "         2.9181976 ,  3.008878  ,  3.0995586 ,  3.190239  ,  3.2809196 ,\n",
       "         3.3716002 ,  3.4622805 ,  3.552961  ,  3.6436417 ,  3.734322  ,\n",
       "         3.8250027 ,  3.915683  ,  4.006364  ,  4.097044  ,  4.1877246 ,\n",
       "         4.278405  ,  4.369086  ,  4.4597664 ,  4.5504465 ,  4.641127  ,\n",
       "         4.7318077 ], dtype=float32),\n",
       " <a list of 100 Patch objects>)"
      ]
     },
     "execution_count": 560,
     "metadata": {},
     "output_type": "execute_result"
    },
    {
     "data": {
      "image/png": "[encoded data removed]",
      "text/plain": [
       "<Figure size 432x288 with 1 Axes>"
      ]
     },
     "metadata": {
      "needs_background": "light"
     },
     "output_type": "display_data"
    }
   ],
   "source": [
    "plt.hist(z1.get('z').cpu().numpy()[:,1], bins=100,alpha=0.5)\n",
    "plt.hist(z2.get('z').cpu().numpy()[:,1], bins=100,alpha=0.5)"
   ]
  },
  {
   "cell_type": "code",
   "execution_count": 561,
   "metadata": {},
   "outputs": [
    {
     "ename": "IndexError",
     "evalue": "index 3 is out of bounds for axis 1 with size 3",
     "output_type": "error",
     "traceback": [
      "\u001b[0;31m---------------------------------------------------------------------------\u001b[0m",
      "\u001b[0;31mIndexError\u001b[0m                                Traceback (most recent call last)",
      "\u001b[0;32m<ipython-input-561-fe12d2348105>\u001b[0m in \u001b[0;36m<module>\u001b[0;34m()\u001b[0m\n\u001b[0;32m----> 1\u001b[0;31m \u001b[0mplt\u001b[0m\u001b[0;34m.\u001b[0m\u001b[0mhist\u001b[0m\u001b[0;34m(\u001b[0m\u001b[0mz1\u001b[0m\u001b[0;34m.\u001b[0m\u001b[0mget\u001b[0m\u001b[0;34m(\u001b[0m\u001b[0;34m'z'\u001b[0m\u001b[0;34m)\u001b[0m\u001b[0;34m.\u001b[0m\u001b[0mcpu\u001b[0m\u001b[0;34m(\u001b[0m\u001b[0;34m)\u001b[0m\u001b[0;34m.\u001b[0m\u001b[0mnumpy\u001b[0m\u001b[0;34m(\u001b[0m\u001b[0;34m)\u001b[0m\u001b[0;34m[\u001b[0m\u001b[0;34m:\u001b[0m\u001b[0;34m,\u001b[0m\u001b[0;36m3\u001b[0m\u001b[0;34m]\u001b[0m\u001b[0;34m,\u001b[0m \u001b[0mbins\u001b[0m\u001b[0;34m=\u001b[0m\u001b[0;36m100\u001b[0m\u001b[0;34m,\u001b[0m\u001b[0malpha\u001b[0m\u001b[0;34m=\u001b[0m\u001b[0;36m0.5\u001b[0m\u001b[0;34m)\u001b[0m\u001b[0;34m\u001b[0m\u001b[0;34m\u001b[0m\u001b[0m\n\u001b[0m\u001b[1;32m      2\u001b[0m \u001b[0mplt\u001b[0m\u001b[0;34m.\u001b[0m\u001b[0mhist\u001b[0m\u001b[0;34m(\u001b[0m\u001b[0mz2\u001b[0m\u001b[0;34m.\u001b[0m\u001b[0mget\u001b[0m\u001b[0;34m(\u001b[0m\u001b[0;34m'z'\u001b[0m\u001b[0;34m)\u001b[0m\u001b[0;34m.\u001b[0m\u001b[0mcpu\u001b[0m\u001b[0;34m(\u001b[0m\u001b[0;34m)\u001b[0m\u001b[0;34m.\u001b[0m\u001b[0mnumpy\u001b[0m\u001b[0;34m(\u001b[0m\u001b[0;34m)\u001b[0m\u001b[0;34m[\u001b[0m\u001b[0;34m:\u001b[0m\u001b[0;34m,\u001b[0m\u001b[0;36m3\u001b[0m\u001b[0;34m]\u001b[0m\u001b[0;34m,\u001b[0m \u001b[0mbins\u001b[0m\u001b[0;34m=\u001b[0m\u001b[0;36m100\u001b[0m\u001b[0;34m,\u001b[0m\u001b[0malpha\u001b[0m\u001b[0;34m=\u001b[0m\u001b[0;36m0.5\u001b[0m\u001b[0;34m)\u001b[0m\u001b[0;34m\u001b[0m\u001b[0;34m\u001b[0m\u001b[0m\n",
      "\u001b[0;31mIndexError\u001b[0m: index 3 is out of bounds for axis 1 with size 3"
     ]
    }
   ],
   "source": [
    "plt.hist(z1.get('z').cpu().numpy()[:,3], bins=100,alpha=0.5)\n",
    "plt.hist(z2.get('z').cpu().numpy()[:,3], bins=100,alpha=0.5)"
   ]
  },
  {
   "cell_type": "code",
   "execution_count": null,
   "metadata": {},
   "outputs": [],
   "source": []
  },
  {
   "cell_type": "code",
   "execution_count": null,
   "metadata": {},
   "outputs": [],
   "source": []
  }
 ],
 "metadata": {
  "kernelspec": {
   "display_name": "Python 3",
   "language": "python",
   "name": "python3"
  },
  "language_info": {
   "codemirror_mode": {
    "name": "ipython",
    "version": 3
   },
   "file_extension": ".py",
   "mimetype": "text/x-python",
   "name": "python",
   "nbconvert_exporter": "python",
   "pygments_lexer": "ipython3",
   "version": "3.7.2"
  }
 },
 "nbformat": 4,
 "nbformat_minor": 2
}
