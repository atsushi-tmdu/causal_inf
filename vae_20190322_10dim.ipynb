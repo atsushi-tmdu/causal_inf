{
 "cells": [
  {
   "cell_type": "markdown",
   "metadata": {},
   "source": [
    "<h1>10次元の変数にて因果推論</h1>\n",
    "10次元、交互作用項ありで因果推論"
   ]
  },
  {
   "cell_type": "code",
   "execution_count": 221,
   "metadata": {},
   "outputs": [],
   "source": [
    "import torch\n",
    "import torch.nn as nn\n",
    "import torch.nn.functional as F\n",
    "import torchvision.transforms as transforms\n",
    "from torch.autograd import Variable\n",
    "from torch import optim\n",
    "import pyro\n",
    "import pyro.distributions as dist\n",
    "\n",
    "from tensorboardX import SummaryWriter\n",
    "\n",
    "from tqdm import tqdm\n",
    "import time\n",
    "\n",
    "\n",
    "import numpy as np\n",
    "import random\n",
    "from numpy.random import *\n",
    "import matplotlib.pyplot as plt \n",
    "#np.random.seed(100)\n",
    "from mpl_toolkits.mplot3d import Axes3D\n",
    "%matplotlib inline\n",
    "\n",
    "import csv\n",
    "\n",
    "from sklearn.utils import shuffle\n",
    "from sklearn.model_selection import train_test_split\n",
    "\n",
    "seed = 1234\n",
    "rng = np.random.RandomState(seed)\n",
    "torch.manual_seed(seed)\n",
    "\n",
    "if torch.cuda.is_available():\n",
    "    device='cuda'\n",
    "else:\n",
    "    device='cpu'"
   ]
  },
  {
   "cell_type": "code",
   "execution_count": 222,
   "metadata": {},
   "outputs": [],
   "source": [
    "size = 70000\n",
    "treat = np.random.binomial(1,0.5,size=size)\n",
    "effect = 1.5\n",
    "beta2 = 0.8\n",
    "beta3 = 0.3\n",
    "beta4 = 0.5\n",
    "\n",
    "beta5 = 0.4\n",
    "beta6 = 0.3\n",
    "beta7 = 0.5\n",
    "beta8 = 0.3\n",
    "beta9 = 0.2\n",
    "beta10 = 0.2\n",
    "\n",
    "eps = 1e-10\n",
    "#b = np.random.normal(3,0.2)\n",
    "b = 0\n",
    "def mkdata(x1=treat,effect=effect,beta2=beta2,beta3=beta3, beta4=beta4,beta5=beta5,beta6=beta6,beta7=beta7,beta8=beta8,\\\n",
    "          beta9=beta9,beta10=beta10, b=b,size=size):\n",
    "    #x1 = np.random.binomial(1,0.5,size=size)\n",
    "    x2 = np.random.normal(1.4*x1+0.4,2.0,size=size)\n",
    "    x3 = np.random.normal(-0.8*x1+1.3*x2,0.5,size=size)\n",
    "    x4 = np.random.normal(0.2*x1+-0.9*x2+2.3*x3,0.4,size=size)\n",
    "    \n",
    "    x5 = np.random.normal(0.4*x1+0.4,2.0,size=size)\n",
    "    x6 = np.random.normal(-0.3*x1+1.5*x5+0.2,2.5,size=size)\n",
    "    x7 = np.random.normal(0.2*x1+1.5*x5-1.4*x6,1.4,size=size)\n",
    "    x8 = np.random.normal(1.0*x1+2.3*x7+1.2*x5,2.0,size=size)\n",
    "    x9 = np.random.normal(-0.8*x1+0.4*x6+0.6*x2,1.5,size=size)\n",
    "    x10 = np.random.normal(0.2*x1+0.5,1.4,size=size)\n",
    "    \n",
    "    yogo= effect*x1+beta2*x2+beta3*x3+beta4*x4+beta5*x5+beta6*x6+beta7*x7+beta8*x8+beta9*x9+beta10*x10+b\n",
    "    return(np.array((x1,x2,x3,x4,x5,x6,x7,x8,x9,x10,yogo)).T)\n",
    "\n",
    "data = mkdata(x1=treat,size=size)\n",
    "train_data = np.array(data[:60000])#train[:,0]:conditional, train[:,1]:feature, train[:,2]:outcome\n",
    "test_data  = np.array(data[60000:])"
   ]
  },
  {
   "cell_type": "code",
   "execution_count": 223,
   "metadata": {},
   "outputs": [
    {
     "data": {
      "text/html": [
       "<div>\n",
       "<style scoped>\n",
       "    .dataframe tbody tr th:only-of-type {\n",
       "        vertical-align: middle;\n",
       "    }\n",
       "\n",
       "    .dataframe tbody tr th {\n",
       "        vertical-align: top;\n",
       "    }\n",
       "\n",
       "    .dataframe thead th {\n",
       "        text-align: right;\n",
       "    }\n",
       "</style>\n",
       "<table border=\"1\" class=\"dataframe\">\n",
       "  <thead>\n",
       "    <tr style=\"text-align: right;\">\n",
       "      <th></th>\n",
       "      <th>0</th>\n",
       "      <th>1</th>\n",
       "      <th>2</th>\n",
       "      <th>3</th>\n",
       "      <th>4</th>\n",
       "      <th>5</th>\n",
       "      <th>6</th>\n",
       "      <th>7</th>\n",
       "      <th>8</th>\n",
       "      <th>9</th>\n",
       "      <th>10</th>\n",
       "    </tr>\n",
       "  </thead>\n",
       "  <tbody>\n",
       "    <tr>\n",
       "      <th>0</th>\n",
       "      <td>1.0</td>\n",
       "      <td>4.508835</td>\n",
       "      <td>5.639292</td>\n",
       "      <td>9.170476</td>\n",
       "      <td>1.265946</td>\n",
       "      <td>0.727977</td>\n",
       "      <td>1.359337</td>\n",
       "      <td>1.182174</td>\n",
       "      <td>2.878188</td>\n",
       "      <td>2.026998</td>\n",
       "      <td>14.124223</td>\n",
       "    </tr>\n",
       "    <tr>\n",
       "      <th>1</th>\n",
       "      <td>0.0</td>\n",
       "      <td>3.803013</td>\n",
       "      <td>5.691587</td>\n",
       "      <td>9.919237</td>\n",
       "      <td>0.073731</td>\n",
       "      <td>0.383734</td>\n",
       "      <td>0.310176</td>\n",
       "      <td>-2.297011</td>\n",
       "      <td>5.049205</td>\n",
       "      <td>0.687027</td>\n",
       "      <td>10.467349</td>\n",
       "    </tr>\n",
       "    <tr>\n",
       "      <th>2</th>\n",
       "      <td>0.0</td>\n",
       "      <td>-1.912092</td>\n",
       "      <td>-2.264631</td>\n",
       "      <td>-4.107689</td>\n",
       "      <td>-1.040180</td>\n",
       "      <td>1.452625</td>\n",
       "      <td>-0.609208</td>\n",
       "      <td>-2.693683</td>\n",
       "      <td>-0.751741</td>\n",
       "      <td>1.398874</td>\n",
       "      <td>-5.226475</td>\n",
       "    </tr>\n",
       "    <tr>\n",
       "      <th>3</th>\n",
       "      <td>1.0</td>\n",
       "      <td>0.782060</td>\n",
       "      <td>-0.025199</td>\n",
       "      <td>-0.683092</td>\n",
       "      <td>4.038402</td>\n",
       "      <td>6.500664</td>\n",
       "      <td>-1.679990</td>\n",
       "      <td>-0.475820</td>\n",
       "      <td>2.644934</td>\n",
       "      <td>1.217951</td>\n",
       "      <td>5.131938</td>\n",
       "    </tr>\n",
       "    <tr>\n",
       "      <th>4</th>\n",
       "      <td>1.0</td>\n",
       "      <td>3.279651</td>\n",
       "      <td>3.258538</td>\n",
       "      <td>5.279770</td>\n",
       "      <td>0.441341</td>\n",
       "      <td>0.694285</td>\n",
       "      <td>-0.321526</td>\n",
       "      <td>-0.854369</td>\n",
       "      <td>2.425175</td>\n",
       "      <td>-0.737419</td>\n",
       "      <td>8.046466</td>\n",
       "    </tr>\n",
       "  </tbody>\n",
       "</table>\n",
       "</div>"
      ],
      "text/plain": [
       "    0         1         2         3         4         5         6         7   \\\n",
       "0  1.0  4.508835  5.639292  9.170476  1.265946  0.727977  1.359337  1.182174   \n",
       "1  0.0  3.803013  5.691587  9.919237  0.073731  0.383734  0.310176 -2.297011   \n",
       "2  0.0 -1.912092 -2.264631 -4.107689 -1.040180  1.452625 -0.609208 -2.693683   \n",
       "3  1.0  0.782060 -0.025199 -0.683092  4.038402  6.500664 -1.679990 -0.475820   \n",
       "4  1.0  3.279651  3.258538  5.279770  0.441341  0.694285 -0.321526 -0.854369   \n",
       "\n",
       "         8         9          10  \n",
       "0  2.878188  2.026998  14.124223  \n",
       "1  5.049205  0.687027  10.467349  \n",
       "2 -0.751741  1.398874  -5.226475  \n",
       "3  2.644934  1.217951   5.131938  \n",
       "4  2.425175 -0.737419   8.046466  "
      ]
     },
     "execution_count": 223,
     "metadata": {},
     "output_type": "execute_result"
    }
   ],
   "source": [
    "import pandas as pd\n",
    "trainpd=pd.DataFrame(train_data)\n",
    "#trainpd\n",
    "trainpd.head()"
   ]
  },
  {
   "cell_type": "code",
   "execution_count": 224,
   "metadata": {},
   "outputs": [
    {
     "data": {
      "text/plain": [
       "4.750726926450496"
      ]
     },
     "execution_count": 224,
     "metadata": {},
     "output_type": "execute_result"
    },
    {
     "data": {
      "image/png": "[encoded data removed]",
      "text/plain": [
       "<Figure size 432x288 with 1 Axes>"
      ]
     },
     "metadata": {
      "needs_background": "light"
     },
     "output_type": "display_data"
    }
   ],
   "source": [
    "plt.hist(trainpd[(trainpd[0]==1)][10],bins=100)\n",
    "plt.hist(trainpd[(trainpd[0]==0)][10],bins=100)\n",
    "np.array(trainpd[(trainpd[0]==1)][10]).mean()-np.array(trainpd[(trainpd[0]==0)][10]).mean()"
   ]
  },
  {
   "cell_type": "code",
   "execution_count": 225,
   "metadata": {},
   "outputs": [],
   "source": [
    "batch_size = 100\n",
    "num_iters = 24000\n",
    "num_epochs = int(batch_size* num_iters/len(train_data))"
   ]
  },
  {
   "cell_type": "code",
   "execution_count": 226,
   "metadata": {},
   "outputs": [],
   "source": [
    "train_loader = torch.utils.data.DataLoader(dataset=train_data, batch_size = batch_size, shuffle=True)\n",
    "test_loader = torch.utils.data.DataLoader(dataset = test_data, batch_size = batch_size, shuffle = False)"
   ]
  },
  {
   "cell_type": "code",
   "execution_count": 227,
   "metadata": {},
   "outputs": [],
   "source": [
    "from pixyz.distributions import Bernoulli, Normal\n",
    "from pixyz.losses import KullbackLeibler\n",
    "from pixyz.models import VAE"
   ]
  },
  {
   "cell_type": "code",
   "execution_count": 228,
   "metadata": {},
   "outputs": [],
   "source": [
    "class Inference(Normal):\n",
    "    def __init__(self, input_dim,cond_dim, hidden_dim, latent_dim):\n",
    "        super(Inference, self).__init__(cond_var=[\"x\"], var=[\"z\"], name=\"q\")\n",
    "        \n",
    "        self.fc1 = nn.Linear(input_dim, hidden_dim)\n",
    "        self.fc2 = nn.Linear(hidden_dim, hidden_dim)\n",
    "        self.fc3 = nn.Linear(hidden_dim, hidden_dim)\n",
    "        self.fc31 = nn.Linear(hidden_dim, latent_dim)\n",
    "        self.fc32 = nn.Linear(hidden_dim, latent_dim)\n",
    "    def forward(self,x):\n",
    "        h = F.relu(self.fc1(x))\n",
    "        h = F.relu(self.fc2(h))\n",
    "        h = F.relu(self.fc3(h))\n",
    "        return {\"loc\": self.fc31(h), \"scale\": F.softplus(self.fc32(h))}\n",
    "\n",
    "class Generator(Normal):\n",
    "    def __init__(self, latent_dim,cond_dim, hidden_dim, output_dim):\n",
    "        super(Generator, self).__init__(cond_var=[\"z\"], var=[\"x\"], name=\"p\")\n",
    "        \n",
    "        self.fc1 = nn.Linear(latent_dim, hidden_dim)\n",
    "        self.fc2 = nn.Linear(hidden_dim, hidden_dim)\n",
    "        self.fc3 = nn.Linear(hidden_dim, hidden_dim)\n",
    "        self.fc31 = nn.Linear(hidden_dim, output_dim)\n",
    "        self.fc32 = nn.Linear(hidden_dim, output_dim)\n",
    "        \n",
    "    def forward(self,z):\n",
    "        h = F.relu(self.fc1(z))\n",
    "        h = F.relu(self.fc2(h))\n",
    "        h = F.relu(self.fc3(h))\n",
    "        return {\"loc\": self.fc31(h), \"scale\": F.softplus(self.fc32(h))}\n"
   ]
  },
  {
   "cell_type": "code",
   "execution_count": 229,
   "metadata": {},
   "outputs": [],
   "source": [
    "input_dim = len(data[0])-2\n",
    "hidden_dim = 100\n",
    "latent_dim = 3\n",
    "output_dim = input_dim\n",
    "cond_dim = 2\n",
    "estimate_dim =1"
   ]
  },
  {
   "cell_type": "code",
   "execution_count": 230,
   "metadata": {},
   "outputs": [
    {
     "data": {
      "text/plain": [
       "9"
      ]
     },
     "execution_count": 230,
     "metadata": {},
     "output_type": "execute_result"
    }
   ],
   "source": [
    "input_dim"
   ]
  },
  {
   "cell_type": "code",
   "execution_count": 231,
   "metadata": {},
   "outputs": [
    {
     "data": {
      "text/plain": [
       "Inference(\n",
       "  (fc1): Linear(in_features=9, out_features=100, bias=True)\n",
       "  (fc2): Linear(in_features=100, out_features=100, bias=True)\n",
       "  (fc3): Linear(in_features=100, out_features=100, bias=True)\n",
       "  (fc31): Linear(in_features=100, out_features=3, bias=True)\n",
       "  (fc32): Linear(in_features=100, out_features=3, bias=True)\n",
       ")"
      ]
     },
     "execution_count": 231,
     "metadata": {},
     "output_type": "execute_result"
    }
   ],
   "source": [
    "p = Generator(latent_dim,cond_dim, hidden_dim, output_dim)\n",
    "q = Inference(input_dim,cond_dim, hidden_dim, latent_dim)\n",
    "\n",
    "\n",
    "p.to(device)\n",
    "q.to(device)\n"
   ]
  },
  {
   "cell_type": "code",
   "execution_count": 232,
   "metadata": {},
   "outputs": [],
   "source": [
    "loc = torch.tensor(0.)\n",
    "scale = torch.tensor(1.)\n",
    "prior = Normal(loc=loc, scale=scale, var=[\"z\"], dim= latent_dim, name=\"p_prior\")"
   ]
  },
  {
   "cell_type": "code",
   "execution_count": 233,
   "metadata": {},
   "outputs": [],
   "source": [
    "kl = KullbackLeibler(q,prior)"
   ]
  },
  {
   "cell_type": "code",
   "execution_count": 234,
   "metadata": {},
   "outputs": [],
   "source": [
    "model = VAE(q,p, regularizer = kl, optimizer=optim.Adam, optimizer_params={\"lr\":1e-4})"
   ]
  },
  {
   "cell_type": "code",
   "execution_count": 235,
   "metadata": {},
   "outputs": [],
   "source": [
    "def input_shaper(x,input_dim):\n",
    "    return x.view(-1, input_dim).float()\n",
    "    \n",
    "def tag_shaper(tag):\n",
    "    return torch.eye(2)[tag.long()].float()\n",
    "\n",
    "\n",
    "\n",
    "def train(epoch, input_dim):\n",
    "    train_loss = 0\n",
    "    for _data in tqdm(train_loader):\n",
    "        x = input_shaper(_data[:, 1:input_dim+1],input_dim)\n",
    "        \n",
    "        x = x.to(device)\n",
    "        loss = model.train({\"x\":x})\n",
    "        train_loss += loss\n",
    "    \n",
    "    #pytorchのlossはデフォルトでは平均の値になる。このためバッチ長をかけて\n",
    "    #全体で割って全体のlossを計算する\n",
    "    \n",
    "    train_loss = train_loss * train_loader.batch_size / len(train_loader.dataset)\n",
    "    print('Epoch:{} Train loss:{:.4f}'.format(epoch, train_loss))\n",
    "    return train_loss"
   ]
  },
  {
   "cell_type": "code",
   "execution_count": 236,
   "metadata": {},
   "outputs": [
    {
     "data": {
      "text/plain": [
       "array([[  4.50883462,   5.63929157,   9.17047629, ...,   1.18217391,\n",
       "          2.87818782,   2.02699819],\n",
       "       [  3.80301328,   5.69158667,   9.9192374 , ...,  -2.29701074,\n",
       "          5.04920462,   0.68702725],\n",
       "       [ -1.91209183,  -2.26463101,  -4.10768914, ...,  -2.69368319,\n",
       "         -0.75174133,   1.39887369],\n",
       "       ...,\n",
       "       [ -1.02353814,  -3.35793573,  -6.86806087, ...,  10.20485864,\n",
       "         -2.89465413,  -0.59976379],\n",
       "       [  0.01637355,  -0.51182831,  -0.88159814, ..., -11.57425986,\n",
       "          1.53553838,  -0.82904276],\n",
       "       [ -0.21573942,   0.17721776,   1.04540058, ...,  11.46602442,\n",
       "          1.39461802,  -0.01559311]])"
      ]
     },
     "execution_count": 236,
     "metadata": {},
     "output_type": "execute_result"
    }
   ],
   "source": [
    "data[:, 1:input_dim+1]"
   ]
  },
  {
   "cell_type": "code",
   "execution_count": 237,
   "metadata": {},
   "outputs": [],
   "source": [
    "def test(epoch, input_dim):\n",
    "    test_loss = 0\n",
    "    for _data in test_loader:\n",
    "\n",
    "        x = input_shaper(_data[:, 1:input_dim+1],input_dim)\n",
    "        x = x.to(device)\n",
    "\n",
    "        \n",
    "        loss = model.test({\"x\":x})\n",
    "        test_loss += loss\n",
    "    test_loss = test_loss * test_loader.batch_size/ len(test_loader.dataset)\n",
    "    print('Test loss:{:.4f}'.format(test_loss))\n",
    "    return test_loss"
   ]
  },
  {
   "cell_type": "code",
   "execution_count": 238,
   "metadata": {},
   "outputs": [],
   "source": [
    "def plot_reconstrunction(x,y,output_dim):\n",
    "    with torch.no_grad():\n",
    "        z = q.sample({\"x\":x}, return_all=False)\n",
    "        #z.update({\"y\":y})\n",
    "        recon_batch = p.sample_mean(z).view(-1, output_dim)\n",
    "        recon = torch.cat([x.view(-1, output_dim), recon_batch]).cpu()\n",
    "        return recon\n",
    "\n",
    "def plot_image_from_latent(z,y, output_dim):\n",
    "    with torch.no_grad():\n",
    "        sample = p.sample_mean({\"z\":z, \"y\":y}).view(-1, output_dim).cpu()\n",
    "        return sample\n",
    "\n",
    "def plot_reconstraction_changing_y(x,y, output_dim):\n",
    "    y_change = torch.eye(2)[range(2)].to(device)\n",
    "    batch_dummy = torch.ones(x.size(0))[:, None].to(device)\n",
    "    recon_all = []\n",
    "    \n",
    "    with torch.no_grad():\n",
    "        for _y in y_change:\n",
    "            z = q.sample({\"x\": x, \"y\": y}, return_all=False)   #batch数だけx,yを代入\n",
    "            z.update({\"y\": batch_dummy * _y[None,:]})\n",
    "            \n",
    "            recon_batch = p.sample_mean(z).view(-1, output_dim)\n",
    "            recon_all.append(recon_batch)\n",
    "            \n",
    "        recon_changing_y = torch.cat(recon_all)\n",
    "        recon_changing_y = torch.cat([x.view( -1, output_dim), recon_changing_y]).cpu()\n",
    "        \n",
    "        return recon_changing_y"
   ]
  },
  {
   "cell_type": "code",
   "execution_count": 239,
   "metadata": {
    "scrolled": true
   },
   "outputs": [
    {
     "name": "stderr",
     "output_type": "stream",
     "text": [
      "100%|██████████| 600/600 [00:04<00:00, 148.31it/s]\n",
      "  0%|          | 0/600 [00:00<?, ?it/s]"
     ]
    },
    {
     "name": "stdout",
     "output_type": "stream",
     "text": [
      "Epoch:1 Train loss:43.4455\n",
      "Test loss:23.9104\n"
     ]
    },
    {
     "name": "stderr",
     "output_type": "stream",
     "text": [
      "100%|██████████| 600/600 [00:04<00:00, 145.79it/s]\n",
      "  0%|          | 0/600 [00:00<?, ?it/s]"
     ]
    },
    {
     "name": "stdout",
     "output_type": "stream",
     "text": [
      "Epoch:2 Train loss:23.2794\n",
      "Test loss:23.0053\n"
     ]
    },
    {
     "name": "stderr",
     "output_type": "stream",
     "text": [
      "100%|██████████| 600/600 [00:04<00:00, 149.49it/s]\n",
      "  0%|          | 0/600 [00:00<?, ?it/s]"
     ]
    },
    {
     "name": "stdout",
     "output_type": "stream",
     "text": [
      "Epoch:3 Train loss:22.7769\n",
      "Test loss:22.7549\n"
     ]
    },
    {
     "name": "stderr",
     "output_type": "stream",
     "text": [
      "100%|██████████| 600/600 [00:04<00:00, 144.55it/s]\n",
      "  0%|          | 0/600 [00:00<?, ?it/s]"
     ]
    },
    {
     "name": "stdout",
     "output_type": "stream",
     "text": [
      "Epoch:4 Train loss:22.5091\n",
      "Test loss:22.1063\n"
     ]
    },
    {
     "name": "stderr",
     "output_type": "stream",
     "text": [
      "100%|██████████| 600/600 [00:03<00:00, 162.37it/s]\n",
      "  0%|          | 0/600 [00:00<?, ?it/s]"
     ]
    },
    {
     "name": "stdout",
     "output_type": "stream",
     "text": [
      "Epoch:5 Train loss:20.5318\n",
      "Test loss:19.8106\n"
     ]
    },
    {
     "name": "stderr",
     "output_type": "stream",
     "text": [
      "100%|██████████| 600/600 [00:03<00:00, 159.55it/s]\n",
      "  0%|          | 0/600 [00:00<?, ?it/s]"
     ]
    },
    {
     "name": "stdout",
     "output_type": "stream",
     "text": [
      "Epoch:6 Train loss:19.6329\n",
      "Test loss:19.5592\n"
     ]
    },
    {
     "name": "stderr",
     "output_type": "stream",
     "text": [
      "100%|██████████| 600/600 [00:03<00:00, 159.13it/s]\n",
      "  0%|          | 0/600 [00:00<?, ?it/s]"
     ]
    },
    {
     "name": "stdout",
     "output_type": "stream",
     "text": [
      "Epoch:7 Train loss:19.4716\n",
      "Test loss:19.4280\n"
     ]
    },
    {
     "name": "stderr",
     "output_type": "stream",
     "text": [
      "100%|██████████| 600/600 [00:03<00:00, 179.06it/s]\n",
      "  0%|          | 0/600 [00:00<?, ?it/s]"
     ]
    },
    {
     "name": "stdout",
     "output_type": "stream",
     "text": [
      "Epoch:8 Train loss:19.4000\n",
      "Test loss:19.3623\n"
     ]
    },
    {
     "name": "stderr",
     "output_type": "stream",
     "text": [
      "100%|██████████| 600/600 [00:03<00:00, 181.71it/s]\n",
      "  0%|          | 0/600 [00:00<?, ?it/s]"
     ]
    },
    {
     "name": "stdout",
     "output_type": "stream",
     "text": [
      "Epoch:9 Train loss:19.3418\n",
      "Test loss:19.3507\n"
     ]
    },
    {
     "name": "stderr",
     "output_type": "stream",
     "text": [
      "100%|██████████| 600/600 [00:03<00:00, 156.42it/s]\n",
      "  0%|          | 0/600 [00:00<?, ?it/s]"
     ]
    },
    {
     "name": "stdout",
     "output_type": "stream",
     "text": [
      "Epoch:10 Train loss:19.3004\n",
      "Test loss:19.3485\n"
     ]
    },
    {
     "name": "stderr",
     "output_type": "stream",
     "text": [
      "100%|██████████| 600/600 [00:04<00:00, 147.80it/s]\n",
      "  0%|          | 0/600 [00:00<?, ?it/s]"
     ]
    },
    {
     "name": "stdout",
     "output_type": "stream",
     "text": [
      "Epoch:11 Train loss:19.2800\n",
      "Test loss:19.2763\n"
     ]
    },
    {
     "name": "stderr",
     "output_type": "stream",
     "text": [
      "100%|██████████| 600/600 [00:03<00:00, 160.90it/s]\n",
      "  0%|          | 0/600 [00:00<?, ?it/s]"
     ]
    },
    {
     "name": "stdout",
     "output_type": "stream",
     "text": [
      "Epoch:12 Train loss:19.2641\n",
      "Test loss:19.2741\n"
     ]
    },
    {
     "name": "stderr",
     "output_type": "stream",
     "text": [
      "100%|██████████| 600/600 [00:04<00:00, 148.48it/s]\n",
      "  0%|          | 0/600 [00:00<?, ?it/s]"
     ]
    },
    {
     "name": "stdout",
     "output_type": "stream",
     "text": [
      "Epoch:13 Train loss:19.2213\n",
      "Test loss:19.2219\n"
     ]
    },
    {
     "name": "stderr",
     "output_type": "stream",
     "text": [
      "100%|██████████| 600/600 [00:04<00:00, 143.75it/s]\n",
      "  0%|          | 0/600 [00:00<?, ?it/s]"
     ]
    },
    {
     "name": "stdout",
     "output_type": "stream",
     "text": [
      "Epoch:14 Train loss:19.1351\n",
      "Test loss:18.9748\n"
     ]
    },
    {
     "name": "stderr",
     "output_type": "stream",
     "text": [
      "100%|██████████| 600/600 [00:03<00:00, 155.09it/s]\n",
      "  0%|          | 0/600 [00:00<?, ?it/s]"
     ]
    },
    {
     "name": "stdout",
     "output_type": "stream",
     "text": [
      "Epoch:15 Train loss:18.5704\n",
      "Test loss:18.2646\n"
     ]
    },
    {
     "name": "stderr",
     "output_type": "stream",
     "text": [
      "100%|██████████| 600/600 [00:03<00:00, 154.87it/s]\n",
      "  0%|          | 0/600 [00:00<?, ?it/s]"
     ]
    },
    {
     "name": "stdout",
     "output_type": "stream",
     "text": [
      "Epoch:16 Train loss:18.1259\n",
      "Test loss:18.0401\n"
     ]
    },
    {
     "name": "stderr",
     "output_type": "stream",
     "text": [
      "100%|██████████| 600/600 [00:04<00:00, 145.58it/s]\n",
      "  0%|          | 0/600 [00:00<?, ?it/s]"
     ]
    },
    {
     "name": "stdout",
     "output_type": "stream",
     "text": [
      "Epoch:17 Train loss:17.9595\n",
      "Test loss:17.9482\n"
     ]
    },
    {
     "name": "stderr",
     "output_type": "stream",
     "text": [
      "100%|██████████| 600/600 [00:03<00:00, 153.42it/s]\n",
      "  0%|          | 0/600 [00:00<?, ?it/s]"
     ]
    },
    {
     "name": "stdout",
     "output_type": "stream",
     "text": [
      "Epoch:18 Train loss:17.8967\n",
      "Test loss:17.9095\n"
     ]
    },
    {
     "name": "stderr",
     "output_type": "stream",
     "text": [
      "100%|██████████| 600/600 [00:03<00:00, 158.89it/s]\n",
      "  0%|          | 0/600 [00:00<?, ?it/s]"
     ]
    },
    {
     "name": "stdout",
     "output_type": "stream",
     "text": [
      "Epoch:19 Train loss:17.8528\n",
      "Test loss:17.8752\n"
     ]
    },
    {
     "name": "stderr",
     "output_type": "stream",
     "text": [
      "100%|██████████| 600/600 [00:04<00:00, 143.48it/s]\n",
      "  0%|          | 0/600 [00:00<?, ?it/s]"
     ]
    },
    {
     "name": "stdout",
     "output_type": "stream",
     "text": [
      "Epoch:20 Train loss:17.8387\n",
      "Test loss:17.8108\n"
     ]
    },
    {
     "name": "stderr",
     "output_type": "stream",
     "text": [
      "100%|██████████| 600/600 [00:04<00:00, 146.41it/s]\n",
      "  0%|          | 0/600 [00:00<?, ?it/s]"
     ]
    },
    {
     "name": "stdout",
     "output_type": "stream",
     "text": [
      "Epoch:21 Train loss:17.8160\n",
      "Test loss:17.8101\n"
     ]
    },
    {
     "name": "stderr",
     "output_type": "stream",
     "text": [
      "100%|██████████| 600/600 [00:04<00:00, 144.98it/s]\n",
      "  0%|          | 0/600 [00:00<?, ?it/s]"
     ]
    },
    {
     "name": "stdout",
     "output_type": "stream",
     "text": [
      "Epoch:22 Train loss:17.7972\n",
      "Test loss:17.8478\n"
     ]
    },
    {
     "name": "stderr",
     "output_type": "stream",
     "text": [
      "100%|██████████| 600/600 [00:03<00:00, 159.77it/s]\n",
      "  0%|          | 0/600 [00:00<?, ?it/s]"
     ]
    },
    {
     "name": "stdout",
     "output_type": "stream",
     "text": [
      "Epoch:23 Train loss:17.7921\n",
      "Test loss:17.7844\n"
     ]
    },
    {
     "name": "stderr",
     "output_type": "stream",
     "text": [
      "100%|██████████| 600/600 [00:04<00:00, 147.29it/s]\n",
      "  0%|          | 0/600 [00:00<?, ?it/s]"
     ]
    },
    {
     "name": "stdout",
     "output_type": "stream",
     "text": [
      "Epoch:24 Train loss:17.7847\n",
      "Test loss:17.7606\n"
     ]
    },
    {
     "name": "stderr",
     "output_type": "stream",
     "text": [
      "100%|██████████| 600/600 [00:04<00:00, 145.68it/s]\n",
      "  0%|          | 0/600 [00:00<?, ?it/s]"
     ]
    },
    {
     "name": "stdout",
     "output_type": "stream",
     "text": [
      "Epoch:25 Train loss:17.7698\n",
      "Test loss:17.8074\n"
     ]
    },
    {
     "name": "stderr",
     "output_type": "stream",
     "text": [
      "100%|██████████| 600/600 [00:03<00:00, 151.84it/s]\n",
      "  0%|          | 0/600 [00:00<?, ?it/s]"
     ]
    },
    {
     "name": "stdout",
     "output_type": "stream",
     "text": [
      "Epoch:26 Train loss:17.7693\n",
      "Test loss:17.8241\n"
     ]
    },
    {
     "name": "stderr",
     "output_type": "stream",
     "text": [
      "100%|██████████| 600/600 [00:04<00:00, 145.66it/s]\n",
      "  0%|          | 0/600 [00:00<?, ?it/s]"
     ]
    },
    {
     "name": "stdout",
     "output_type": "stream",
     "text": [
      "Epoch:27 Train loss:17.7597\n",
      "Test loss:17.7436\n"
     ]
    },
    {
     "name": "stderr",
     "output_type": "stream",
     "text": [
      "100%|██████████| 600/600 [00:04<00:00, 148.18it/s]\n",
      "  0%|          | 0/600 [00:00<?, ?it/s]"
     ]
    },
    {
     "name": "stdout",
     "output_type": "stream",
     "text": [
      "Epoch:28 Train loss:17.7414\n",
      "Test loss:17.7775\n"
     ]
    },
    {
     "name": "stderr",
     "output_type": "stream",
     "text": [
      "100%|██████████| 600/600 [00:04<00:00, 146.42it/s]\n",
      "  0%|          | 0/600 [00:00<?, ?it/s]"
     ]
    },
    {
     "name": "stdout",
     "output_type": "stream",
     "text": [
      "Epoch:29 Train loss:17.7375\n",
      "Test loss:17.7465\n"
     ]
    },
    {
     "name": "stderr",
     "output_type": "stream",
     "text": [
      "100%|██████████| 600/600 [00:04<00:00, 144.29it/s]\n",
      "  0%|          | 0/600 [00:00<?, ?it/s]"
     ]
    },
    {
     "name": "stdout",
     "output_type": "stream",
     "text": [
      "Epoch:30 Train loss:17.7354\n",
      "Test loss:17.6878\n"
     ]
    },
    {
     "name": "stderr",
     "output_type": "stream",
     "text": [
      "100%|██████████| 600/600 [00:04<00:00, 147.00it/s]\n",
      "  0%|          | 0/600 [00:00<?, ?it/s]"
     ]
    },
    {
     "name": "stdout",
     "output_type": "stream",
     "text": [
      "Epoch:31 Train loss:17.7072\n",
      "Test loss:17.7538\n"
     ]
    },
    {
     "name": "stderr",
     "output_type": "stream",
     "text": [
      "100%|██████████| 600/600 [00:04<00:00, 144.15it/s]\n",
      "  0%|          | 0/600 [00:00<?, ?it/s]"
     ]
    },
    {
     "name": "stdout",
     "output_type": "stream",
     "text": [
      "Epoch:32 Train loss:17.7214\n",
      "Test loss:17.7221\n"
     ]
    },
    {
     "name": "stderr",
     "output_type": "stream",
     "text": [
      "100%|██████████| 600/600 [00:04<00:00, 148.41it/s]\n",
      "  0%|          | 0/600 [00:00<?, ?it/s]"
     ]
    },
    {
     "name": "stdout",
     "output_type": "stream",
     "text": [
      "Epoch:33 Train loss:17.7039\n",
      "Test loss:17.6716\n"
     ]
    },
    {
     "name": "stderr",
     "output_type": "stream",
     "text": [
      "100%|██████████| 600/600 [00:04<00:00, 144.04it/s]\n",
      "  0%|          | 0/600 [00:00<?, ?it/s]"
     ]
    },
    {
     "name": "stdout",
     "output_type": "stream",
     "text": [
      "Epoch:34 Train loss:17.7015\n",
      "Test loss:17.7265\n"
     ]
    },
    {
     "name": "stderr",
     "output_type": "stream",
     "text": [
      "100%|██████████| 600/600 [00:04<00:00, 147.34it/s]\n",
      "  0%|          | 0/600 [00:00<?, ?it/s]"
     ]
    },
    {
     "name": "stdout",
     "output_type": "stream",
     "text": [
      "Epoch:35 Train loss:17.6783\n",
      "Test loss:17.6982\n"
     ]
    },
    {
     "name": "stderr",
     "output_type": "stream",
     "text": [
      "100%|██████████| 600/600 [00:04<00:00, 143.38it/s]\n",
      "  0%|          | 0/600 [00:00<?, ?it/s]"
     ]
    },
    {
     "name": "stdout",
     "output_type": "stream",
     "text": [
      "Epoch:36 Train loss:17.6642\n",
      "Test loss:17.7663\n"
     ]
    },
    {
     "name": "stderr",
     "output_type": "stream",
     "text": [
      "100%|██████████| 600/600 [00:04<00:00, 147.86it/s]\n",
      "  0%|          | 0/600 [00:00<?, ?it/s]"
     ]
    },
    {
     "name": "stdout",
     "output_type": "stream",
     "text": [
      "Epoch:37 Train loss:17.5095\n",
      "Test loss:16.9878\n"
     ]
    },
    {
     "name": "stderr",
     "output_type": "stream",
     "text": [
      "100%|██████████| 600/600 [00:04<00:00, 147.02it/s]\n",
      "  0%|          | 0/600 [00:00<?, ?it/s]"
     ]
    },
    {
     "name": "stdout",
     "output_type": "stream",
     "text": [
      "Epoch:38 Train loss:16.4690\n",
      "Test loss:16.3127\n"
     ]
    },
    {
     "name": "stderr",
     "output_type": "stream",
     "text": [
      "100%|██████████| 600/600 [00:04<00:00, 147.67it/s]\n",
      "  0%|          | 0/600 [00:00<?, ?it/s]"
     ]
    },
    {
     "name": "stdout",
     "output_type": "stream",
     "text": [
      "Epoch:39 Train loss:16.2356\n",
      "Test loss:16.1586\n"
     ]
    },
    {
     "name": "stderr",
     "output_type": "stream",
     "text": [
      "100%|██████████| 600/600 [00:04<00:00, 143.94it/s]\n"
     ]
    },
    {
     "name": "stdout",
     "output_type": "stream",
     "text": [
      "Epoch:40 Train loss:16.1851\n",
      "Test loss:16.2359\n"
     ]
    }
   ],
   "source": [
    "writer = SummaryWriter()\n",
    "\n",
    "plot_number = 1\n",
    "\n",
    "z_sample = 0.5 * torch.randn(64, latent_dim).to(device)\n",
    "y_sample = torch.eye(2)[[plot_number]*64].to(device)\n",
    "\n",
    "_data = iter(test_loader).next()\n",
    "\n",
    "_y = tag_shaper(_data[:,0])\n",
    "_x = input_shaper(_data[:, 1:input_dim+1],input_dim)\n",
    "_x = _x.to(device)\n",
    "_y = _y.to(device)\n",
    "\n",
    "\n",
    "for epoch in range(1, num_epochs + 1):\n",
    "    train_loss = train(epoch, input_dim)\n",
    "    test_loss = test(epoch, input_dim)\n",
    "    \n",
    "    recon = plot_reconstrunction(_x[:8], _y[:8], output_dim)\n",
    "    #sample = plot_image_from_latent(z_sample, y_sample, output_dim)\n",
    "    #recon_changing_y = plot_reconstraction_changing_y(_x[:8], _y[:8], output_dim)\n",
    "    \n",
    "\n",
    "    writer.add_scalar('train_loss', train_loss.item(), epoch)\n",
    "    writer.add_scalar('test_loss', test_loss.item(), epoch)      \n",
    "    \"\"\"\n",
    "    writer.add_image('Image_from_latent', sample, epoch)\n",
    "    writer.add_image('Image_reconstrunction', recon, epoch)\n",
    "    writer.add_image('Image_reconstrunction_change_y', recon_changing_y, epoch)\n",
    "    \"\"\"\n",
    "writer.close()"
   ]
  },
  {
   "cell_type": "markdown",
   "metadata": {},
   "source": []
  },
  {
   "cell_type": "code",
   "execution_count": 258,
   "metadata": {},
   "outputs": [
    {
     "data": {
      "text/plain": [
       "10"
      ]
     },
     "execution_count": 258,
     "metadata": {},
     "output_type": "execute_result"
    }
   ],
   "source": [
    "input_dim+1"
   ]
  },
  {
   "cell_type": "code",
   "execution_count": 259,
   "metadata": {},
   "outputs": [
    {
     "data": {
      "text/plain": [
       "array([[  4.50883462,   5.63929157,   9.17047629, ...,   1.18217391,\n",
       "          2.87818782,   2.02699819],\n",
       "       [  3.80301328,   5.69158667,   9.9192374 , ...,  -2.29701074,\n",
       "          5.04920462,   0.68702725],\n",
       "       [ -1.91209183,  -2.26463101,  -4.10768914, ...,  -2.69368319,\n",
       "         -0.75174133,   1.39887369],\n",
       "       ...,\n",
       "       [ -1.02353814,  -3.35793573,  -6.86806087, ...,  10.20485864,\n",
       "         -2.89465413,  -0.59976379],\n",
       "       [  0.01637355,  -0.51182831,  -0.88159814, ..., -11.57425986,\n",
       "          1.53553838,  -0.82904276],\n",
       "       [ -0.21573942,   0.17721776,   1.04540058, ...,  11.46602442,\n",
       "          1.39461802,  -0.01559311]])"
      ]
     },
     "execution_count": 259,
     "metadata": {},
     "output_type": "execute_result"
    }
   ],
   "source": [
    "data[:, 1:input_dim+1]"
   ]
  },
  {
   "cell_type": "code",
   "execution_count": 260,
   "metadata": {},
   "outputs": [],
   "source": [
    "temp_data=np.array(data[:, 1:input_dim+1])\n",
    "z=q.sample({\"x\":input_shaper(_data[:, 1:input_dim+1],input_dim).to(device)}, return_all=False)\n",
    "x_hat=p.sample({\"z\":z.get(\"z\")}, return_all=False)\n",
    "x_out=x_hat.get(\"x\").cpu()\n",
    "x_in = _data[:, 1:input_dim+1]"
   ]
  },
  {
   "cell_type": "code",
   "execution_count": 261,
   "metadata": {},
   "outputs": [
    {
     "data": {
      "text/plain": [
       "(array([ 2.,  2., 13., 23., 13., 15., 20.,  7.,  3.,  2.]),\n",
       " array([-5.36748  , -4.1770434, -2.9866068, -1.7961705, -0.605734 ,\n",
       "         0.5847025,  1.775139 ,  2.9655755,  4.156012 ,  5.3464484,\n",
       "         6.536885 ], dtype=float32),\n",
       " <a list of 10 Patch objects>)"
      ]
     },
     "execution_count": 261,
     "metadata": {},
     "output_type": "execute_result"
    },
    {
     "data": {
      "image/png": "[encoded data removed]",
      "text/plain": [
       "<Figure size 432x288 with 1 Axes>"
      ]
     },
     "metadata": {
      "needs_background": "light"
     },
     "output_type": "display_data"
    }
   ],
   "source": [
    "plt.hist(x_in[:,0],bins=10)\n",
    "plt.hist(x_out[:,0],bins=10)"
   ]
  },
  {
   "cell_type": "code",
   "execution_count": 262,
   "metadata": {},
   "outputs": [
    {
     "data": {
      "text/plain": [
       "(array([ 3.,  3., 19., 15., 21., 20., 11.,  5.,  2.,  1.]),\n",
       " array([-7.30147  , -5.6030855, -3.904701 , -2.2063167, -0.5079323,\n",
       "         1.1904521,  2.8888364,  4.5872207,  6.2856054,  7.9839897,\n",
       "         9.682374 ], dtype=float32),\n",
       " <a list of 10 Patch objects>)"
      ]
     },
     "execution_count": 262,
     "metadata": {},
     "output_type": "execute_result"
    },
    {
     "data": {
      "image/png": "[encoded data removed]",
      "text/plain": [
       "<Figure size 432x288 with 1 Axes>"
      ]
     },
     "metadata": {
      "needs_background": "light"
     },
     "output_type": "display_data"
    }
   ],
   "source": [
    "plt.hist(x_in[:,1])\n",
    "plt.hist(x_out[:,1])"
   ]
  },
  {
   "cell_type": "code",
   "execution_count": 263,
   "metadata": {},
   "outputs": [
    {
     "data": {
      "text/plain": [
       "(array([ 3.,  5., 17., 14., 22., 20., 10.,  4.,  4.,  1.]),\n",
       " array([-11.408149 ,  -8.832111 ,  -6.2560735,  -3.6800356,  -1.103998 ,\n",
       "          1.4720397,   4.0480776,   6.624115 ,   9.200152 ,  11.776191 ,\n",
       "         14.352228 ], dtype=float32),\n",
       " <a list of 10 Patch objects>)"
      ]
     },
     "execution_count": 263,
     "metadata": {},
     "output_type": "execute_result"
    },
    {
     "data": {
      "image/png": "[encoded data removed]",
      "text/plain": [
       "<Figure size 432x288 with 1 Axes>"
      ]
     },
     "metadata": {
      "needs_background": "light"
     },
     "output_type": "display_data"
    }
   ],
   "source": [
    "plt.hist(x_in[:,2])\n",
    "plt.hist(x_out[:,2])"
   ]
  },
  {
   "cell_type": "code",
   "execution_count": 264,
   "metadata": {},
   "outputs": [
    {
     "data": {
      "text/plain": [
       "(array([ 2.,  2.,  8., 10., 19., 25., 11., 18.,  3.,  2.]),\n",
       " array([-6.899007  , -5.471721  , -4.044435  , -2.6171494 , -1.1898636 ,\n",
       "         0.23742223,  1.664708  ,  3.0919938 ,  4.5192795 ,  5.9465656 ,\n",
       "         7.3738513 ], dtype=float32),\n",
       " <a list of 10 Patch objects>)"
      ]
     },
     "execution_count": 264,
     "metadata": {},
     "output_type": "execute_result"
    },
    {
     "data": {
      "image/png": "[encoded data removed]",
      "text/plain": [
       "<Figure size 432x288 with 1 Axes>"
      ]
     },
     "metadata": {
      "needs_background": "light"
     },
     "output_type": "display_data"
    }
   ],
   "source": [
    "plt.hist(x_in[:,7])\n",
    "plt.hist(x_out[:,7])"
   ]
  },
  {
   "cell_type": "code",
   "execution_count": 265,
   "metadata": {},
   "outputs": [
    {
     "data": {
      "text/plain": [
       "tensor([ 0.0630,  0.0120,  0.0318, -0.0561, -0.0761, -0.1323, -0.3001, -0.4852,\n",
       "         0.1044])"
      ]
     },
     "execution_count": 265,
     "metadata": {},
     "output_type": "execute_result"
    }
   ],
   "source": [
    "(x_in.float()-x_out.float()).mean(dim=0)"
   ]
  },
  {
   "cell_type": "code",
   "execution_count": 266,
   "metadata": {},
   "outputs": [],
   "source": [
    "class Estimator(nn.Module):\n",
    "    def __init__(self, cond_dim, hidden_dim, latent_dim, estimate_dim):\n",
    "        super(Estimator, self).__init__()\n",
    "        \n",
    "        self.fc1 = nn.Linear(latent_dim+cond_dim, hidden_dim)\n",
    "        self.fc2 = nn.Linear(hidden_dim, hidden_dim)\n",
    "        self.fc3 = nn.Linear(hidden_dim, estimate_dim)\n",
    "        \n",
    "    def forward(self,z,y):\n",
    "        h = F.relu(self.fc1(torch.cat([z,y],1)))\n",
    "        h = F.relu(self.fc2(h))\n",
    "        return self.fc3(h)\n",
    "\n",
    "criterion = nn.MSELoss()\n",
    "model2 = Estimator(cond_dim, hidden_dim, latent_dim, estimate_dim)\n",
    "model2.to(device)\n",
    "optimizer = torch.optim.SGD(model2.parameters(),lr=1e-3)"
   ]
  },
  {
   "cell_type": "code",
   "execution_count": 286,
   "metadata": {},
   "outputs": [
    {
     "name": "stderr",
     "output_type": "stream",
     "text": [
      "100%|██████████| 600/600 [00:01<00:00, 361.80it/s]\n",
      "  8%|▊         | 47/600 [00:00<00:01, 464.17it/s]"
     ]
    },
    {
     "name": "stdout",
     "output_type": "stream",
     "text": [
      "Epochs:1, train_Loss:0.588973343372345, test_Loss:0.73\n"
     ]
    },
    {
     "name": "stderr",
     "output_type": "stream",
     "text": [
      "100%|██████████| 600/600 [00:01<00:00, 441.83it/s]\n",
      "  8%|▊         | 49/600 [00:00<00:01, 485.89it/s]"
     ]
    },
    {
     "name": "stdout",
     "output_type": "stream",
     "text": [
      "Epochs:2, train_Loss:0.7863340973854065, test_Loss:0.74\n"
     ]
    },
    {
     "name": "stderr",
     "output_type": "stream",
     "text": [
      "100%|██████████| 600/600 [00:01<00:00, 460.06it/s]\n",
      "  8%|▊         | 46/600 [00:00<00:01, 454.04it/s]"
     ]
    },
    {
     "name": "stdout",
     "output_type": "stream",
     "text": [
      "Epochs:3, train_Loss:0.6382278203964233, test_Loss:0.73\n"
     ]
    },
    {
     "name": "stderr",
     "output_type": "stream",
     "text": [
      "100%|██████████| 600/600 [00:01<00:00, 464.59it/s]\n",
      "  8%|▊         | 48/600 [00:00<00:01, 475.08it/s]"
     ]
    },
    {
     "name": "stdout",
     "output_type": "stream",
     "text": [
      "Epochs:4, train_Loss:0.8159379363059998, test_Loss:0.74\n"
     ]
    },
    {
     "name": "stderr",
     "output_type": "stream",
     "text": [
      "100%|██████████| 600/600 [00:01<00:00, 474.14it/s]\n",
      "  8%|▊         | 47/600 [00:00<00:01, 460.57it/s]"
     ]
    },
    {
     "name": "stdout",
     "output_type": "stream",
     "text": [
      "Epochs:5, train_Loss:0.7029598951339722, test_Loss:0.73\n"
     ]
    },
    {
     "name": "stderr",
     "output_type": "stream",
     "text": [
      "100%|██████████| 600/600 [00:01<00:00, 480.53it/s]\n",
      " 10%|▉         | 57/600 [00:00<00:00, 563.08it/s]"
     ]
    },
    {
     "name": "stdout",
     "output_type": "stream",
     "text": [
      "Epochs:6, train_Loss:0.6521168351173401, test_Loss:0.73\n"
     ]
    },
    {
     "name": "stderr",
     "output_type": "stream",
     "text": [
      "100%|██████████| 600/600 [00:01<00:00, 569.27it/s]\n",
      " 10%|▉         | 57/600 [00:00<00:00, 568.14it/s]"
     ]
    },
    {
     "name": "stdout",
     "output_type": "stream",
     "text": [
      "Epochs:7, train_Loss:0.7214199304580688, test_Loss:0.73\n"
     ]
    },
    {
     "name": "stderr",
     "output_type": "stream",
     "text": [
      "100%|██████████| 600/600 [00:01<00:00, 559.53it/s]\n",
      " 10%|▉         | 57/600 [00:00<00:00, 568.77it/s]"
     ]
    },
    {
     "name": "stdout",
     "output_type": "stream",
     "text": [
      "Epochs:8, train_Loss:0.8049842119216919, test_Loss:0.72\n"
     ]
    },
    {
     "name": "stderr",
     "output_type": "stream",
     "text": [
      "100%|██████████| 600/600 [00:01<00:00, 467.18it/s]\n",
      "  8%|▊         | 46/600 [00:00<00:01, 454.78it/s]"
     ]
    },
    {
     "name": "stdout",
     "output_type": "stream",
     "text": [
      "Epochs:9, train_Loss:0.8148362636566162, test_Loss:0.72\n"
     ]
    },
    {
     "name": "stderr",
     "output_type": "stream",
     "text": [
      "100%|██████████| 600/600 [00:01<00:00, 451.28it/s]\n",
      "  8%|▊         | 47/600 [00:00<00:01, 467.68it/s]"
     ]
    },
    {
     "name": "stdout",
     "output_type": "stream",
     "text": [
      "Epochs:10, train_Loss:0.7718881964683533, test_Loss:0.73\n"
     ]
    },
    {
     "name": "stderr",
     "output_type": "stream",
     "text": [
      "100%|██████████| 600/600 [00:01<00:00, 465.75it/s]\n",
      "  7%|▋         | 44/600 [00:00<00:01, 437.45it/s]"
     ]
    },
    {
     "name": "stdout",
     "output_type": "stream",
     "text": [
      "Epochs:11, train_Loss:0.6477125287055969, test_Loss:0.74\n"
     ]
    },
    {
     "name": "stderr",
     "output_type": "stream",
     "text": [
      "100%|██████████| 600/600 [00:01<00:00, 457.38it/s]\n",
      "  8%|▊         | 46/600 [00:00<00:01, 457.17it/s]"
     ]
    },
    {
     "name": "stdout",
     "output_type": "stream",
     "text": [
      "Epochs:12, train_Loss:0.7621991634368896, test_Loss:0.73\n"
     ]
    },
    {
     "name": "stderr",
     "output_type": "stream",
     "text": [
      "100%|██████████| 600/600 [00:01<00:00, 507.63it/s]\n",
      " 10%|▉         | 57/600 [00:00<00:00, 561.85it/s]"
     ]
    },
    {
     "name": "stdout",
     "output_type": "stream",
     "text": [
      "Epochs:13, train_Loss:0.7026353478431702, test_Loss:0.74\n"
     ]
    },
    {
     "name": "stderr",
     "output_type": "stream",
     "text": [
      "100%|██████████| 600/600 [00:01<00:00, 574.42it/s]\n"
     ]
    },
    {
     "name": "stdout",
     "output_type": "stream",
     "text": [
      "Epochs:14, train_Loss:0.8199538588523865, test_Loss:0.73\n"
     ]
    }
   ],
   "source": [
    "for epoch in range(1, 15):\n",
    "    for _data in tqdm(train_loader):\n",
    "        y = tag_shaper(_data[:,0])\n",
    "        x = input_shaper(_data[:, 1:input_dim+1],input_dim)\n",
    "        o = input_shaper(_data[:, input_dim+1],estimate_dim)\n",
    "        x = x.to(device)\n",
    "        y = y.to(device)\n",
    "        o = o.to(device)\n",
    "        \n",
    "        optimizer.zero_grad()\n",
    "        \n",
    "        z = q.sample({\"x\":x}, return_all=False)\n",
    "        latent = z.get('z')\n",
    "        output = model2(latent,y)\n",
    "        loss = criterion(output,o)        \n",
    "        loss.backward()\n",
    "        \n",
    "        optimizer.step()\n",
    "    \n",
    "    total = 0\n",
    "    total_loss = 0\n",
    "    for _data in test_loader:\n",
    "        y = tag_shaper(_data[:,0])\n",
    "        x = input_shaper(_data[:, 1:input_dim+1],input_dim)\n",
    "        o = input_shaper(_data[:, input_dim+1],estimate_dim)\n",
    "        x = x.to(device)\n",
    "        y = y.to(device)\n",
    "        o = o.to(device)\n",
    "        \n",
    "        z = q.sample({\"x\":x}, return_all=False)\n",
    "        latent = z.get('z')\n",
    "        output = model2(latent,y)\n",
    "        loss = criterion(output,o)\n",
    "        \n",
    "        total_loss += loss *len(_data)\n",
    "        total += len(_data)\n",
    "    test_loss = total_loss/total\n",
    "    \n",
    "    print('Epochs:{}, train_Loss:{}, test_Loss:{:.2f}'.format(epoch,loss.item(), test_loss.item()))"
   ]
  },
  {
   "cell_type": "code",
   "execution_count": 309,
   "metadata": {},
   "outputs": [],
   "source": [
    "pt_size = 10000\n",
    "z_sample = 0.3* torch.randn(pt_size, latent_dim).to(device)\n",
    "\n",
    "# 非治療群を生成\n",
    "plot_number = 0\n",
    "uy_sample = torch.eye(2)[[plot_number]*pt_size].to(device)\n",
    "untreated=model2(z_sample,uy_sample)\n",
    "\n",
    "# 治療群を生成\n",
    "plot_number = 1\n",
    "ty_sample = torch.eye(2)[[plot_number]*pt_size].to(device)\n",
    "treated=model2(z_sample,ty_sample)"
   ]
  },
  {
   "cell_type": "code",
   "execution_count": 310,
   "metadata": {},
   "outputs": [
    {
     "data": {
      "text/plain": [
       "(array([  1.,   1.,   0.,   0.,   0.,   1.,   1.,   0.,   2.,   2.,   2.,\n",
       "          1.,   2.,   1.,   3.,   5.,   4.,   9.,   9.,   9.,  12.,  18.,\n",
       "         13.,  26.,  24.,  40.,  31.,  46.,  61.,  58.,  77.,  83.,  84.,\n",
       "        100., 124., 113., 142., 157., 182., 200., 216., 210., 233., 263.,\n",
       "        278., 267., 281., 320., 298., 356., 332., 364., 355., 339., 337.,\n",
       "        345., 280., 292., 255., 286., 223., 262., 253., 248., 183., 164.,\n",
       "        149., 127., 132.,  98., 113.,  88.,  79.,  47.,  46.,  40.,  38.,\n",
       "         28.,  33.,  17.,  22.,  11.,  12.,   5.,   8.,   5.,   4.,   4.,\n",
       "          3.,   1.,   2.,   1.,   0.,   0.,   2.,   0.,   0.,   0.,   0.,\n",
       "          1.]),\n",
       " array([-4.851593  , -4.704221  , -4.5568485 , -4.4094763 , -4.2621045 ,\n",
       "        -4.1147323 , -3.96736   , -3.8199878 , -3.6726158 , -3.5252435 ,\n",
       "        -3.3778713 , -3.2304993 , -3.083127  , -2.9357548 , -2.7883825 ,\n",
       "        -2.6410105 , -2.4936383 , -2.346266  , -2.198894  , -2.0515218 ,\n",
       "        -1.9041497 , -1.7567774 , -1.6094053 , -1.4620332 , -1.3146609 ,\n",
       "        -1.1672888 , -1.0199167 , -0.87254447, -0.7251723 , -0.5778001 ,\n",
       "        -0.43042794, -0.28305575, -0.1356836 ,  0.01168858,  0.15906075,\n",
       "         0.3064329 ,  0.4538051 ,  0.6011773 ,  0.7485494 ,  0.8959216 ,\n",
       "         1.0432937 ,  1.190666  ,  1.3380381 ,  1.4854102 ,  1.6327825 ,\n",
       "         1.7801546 ,  1.9275268 ,  2.074899  ,  2.2222712 ,  2.3696432 ,\n",
       "         2.5170155 ,  2.6643877 ,  2.8117597 ,  2.959132  ,  3.1065042 ,\n",
       "         3.2538762 ,  3.4012485 ,  3.5486207 ,  3.6959927 ,  3.843365  ,\n",
       "         3.9907372 ,  4.138109  ,  4.2854815 ,  4.4328537 ,  4.580226  ,\n",
       "         4.727598  ,  4.87497   ,  5.022342  ,  5.1697145 ,  5.3170867 ,\n",
       "         5.464459  ,  5.611831  ,  5.759203  ,  5.906575  ,  6.0539474 ,\n",
       "         6.2013197 ,  6.348692  ,  6.496064  ,  6.6434364 ,  6.790808  ,\n",
       "         6.9381804 ,  7.0855527 ,  7.232925  ,  7.380297  ,  7.5276694 ,\n",
       "         7.675041  ,  7.8224134 ,  7.9697857 ,  8.117158  ,  8.26453   ,\n",
       "         8.411902  ,  8.559275  ,  8.706647  ,  8.854019  ,  9.00139   ,\n",
       "         9.148763  ,  9.296135  ,  9.443507  ,  9.590879  ,  9.738252  ,\n",
       "         9.885624  ], dtype=float32),\n",
       " <a list of 100 Patch objects>)"
      ]
     },
     "execution_count": 310,
     "metadata": {},
     "output_type": "execute_result"
    },
    {
     "data": {
      "image/png": "[encoded data removed]",
      "text/plain": [
       "<Figure size 432x288 with 1 Axes>"
      ]
     },
     "metadata": {
      "needs_background": "light"
     },
     "output_type": "display_data"
    }
   ],
   "source": [
    "plt.hist(untreated.detach().cpu().numpy(),bins=100)"
   ]
  },
  {
   "cell_type": "code",
   "execution_count": 311,
   "metadata": {},
   "outputs": [
    {
     "data": {
      "text/plain": [
       "(array([  1.,   0.,   1.,   0.,   0.,   0.,   2.,   0.,   2.,   0.,   4.,\n",
       "          1.,   2.,   1.,   1.,   5.,   2.,   7.,  12.,   7.,   9.,  18.,\n",
       "         12.,  22.,  21.,  42.,  34.,  44.,  52.,  57.,  70.,  88.,  83.,\n",
       "         98., 108., 107., 134., 156., 182., 211., 205., 244., 236., 251.,\n",
       "        283., 278., 277., 316., 294., 362., 315., 326., 354., 312., 336.,\n",
       "        341., 293., 291., 285., 267., 235., 252., 234., 258., 197., 159.,\n",
       "        169., 123., 127., 121., 104., 103.,  82.,  71.,  48.,  41.,  42.,\n",
       "         29.,  35.,  21.,  18.,  16.,  12.,   7.,   8.,   6.,   5.,   2.,\n",
       "          6.,   1.,   1.,   2.,   0.,   0.,   2.,   0.,   0.,   0.,   0.,\n",
       "          1.]),\n",
       " array([-3.1903186 , -3.040875  , -2.891431  , -2.7419872 , -2.5925436 ,\n",
       "        -2.4431    , -2.293656  , -2.1442122 , -1.9947686 , -1.8453249 ,\n",
       "        -1.6958811 , -1.5464374 , -1.3969936 , -1.2475499 , -1.0981061 ,\n",
       "        -0.9486624 , -0.79921865, -0.6497749 , -0.50033116, -0.35088742,\n",
       "        -0.20144367, -0.05199993,  0.09744382,  0.24688756,  0.3963313 ,\n",
       "         0.54577506,  0.6952188 ,  0.84466255,  0.9941063 ,  1.14355   ,\n",
       "         1.2929938 ,  1.4424375 ,  1.5918813 ,  1.741325  ,  1.8907688 ,\n",
       "         2.0402126 ,  2.1896563 ,  2.3391    ,  2.4885437 ,  2.6379876 ,\n",
       "         2.7874312 ,  2.9368749 ,  3.0863187 ,  3.2357626 ,  3.3852062 ,\n",
       "         3.5346498 ,  3.6840937 ,  3.8335376 ,  3.9829812 ,  4.132425  ,\n",
       "         4.281869  ,  4.4313126 ,  4.580756  ,  4.7302    ,  4.8796434 ,\n",
       "         5.0290875 ,  5.178531  ,  5.327975  ,  5.477419  ,  5.6268625 ,\n",
       "         5.776306  ,  5.92575   ,  6.0751934 ,  6.2246375 ,  6.374081  ,\n",
       "         6.5235248 ,  6.672969  ,  6.8224125 ,  6.971856  ,  7.1212997 ,\n",
       "         7.2707434 ,  7.4201875 ,  7.569631  ,  7.7190747 ,  7.868519  ,\n",
       "         8.017962  ,  8.167406  ,  8.31685   ,  8.466293  ,  8.615737  ,\n",
       "         8.765181  ,  8.914625  ,  9.064069  ,  9.213512  ,  9.362956  ,\n",
       "         9.5124    ,  9.661843  ,  9.811287  ,  9.9607315 , 10.110175  ,\n",
       "        10.259619  , 10.409062  , 10.558506  , 10.70795   , 10.857393  ,\n",
       "        11.006837  , 11.1562805 , 11.305725  , 11.455169  , 11.604612  ,\n",
       "        11.754056  ], dtype=float32),\n",
       " <a list of 100 Patch objects>)"
      ]
     },
     "execution_count": 311,
     "metadata": {},
     "output_type": "execute_result"
    },
    {
     "data": {
      "image/png": "[encoded data removed]",
      "text/plain": [
       "<Figure size 432x288 with 1 Axes>"
      ]
     },
     "metadata": {
      "needs_background": "light"
     },
     "output_type": "display_data"
    }
   ],
   "source": [
    "plt.hist(treated.detach().cpu().numpy(),bins=100)"
   ]
  },
  {
   "cell_type": "code",
   "execution_count": 312,
   "metadata": {},
   "outputs": [
    {
     "data": {
      "text/plain": [
       "1.8105102"
      ]
     },
     "execution_count": 312,
     "metadata": {},
     "output_type": "execute_result"
    },
    {
     "data": {
      "image/png": "[encoded data removed]",
      "text/plain": [
       "<Figure size 432x288 with 1 Axes>"
      ]
     },
     "metadata": {
      "needs_background": "light"
     },
     "output_type": "display_data"
    }
   ],
   "source": [
    "plt.hist(treated.detach().cpu().numpy()-untreated.detach().cpu().numpy(),bins=100)\n",
    "(treated.detach().cpu().numpy()-untreated.detach().cpu().numpy()).mean()"
   ]
  },
  {
   "cell_type": "code",
   "execution_count": 320,
   "metadata": {},
   "outputs": [
    {
     "data": {
      "text/plain": [
       "tensor([[1., 0.],\n",
       "        [1., 0.],\n",
       "        [1., 0.],\n",
       "        ...,\n",
       "        [1., 0.],\n",
       "        [1., 0.],\n",
       "        [1., 0.]], device='cuda:0')"
      ]
     },
     "execution_count": 320,
     "metadata": {},
     "output_type": "execute_result"
    }
   ],
   "source": [
    "uy_sample"
   ]
  },
  {
   "cell_type": "code",
   "execution_count": 308,
   "metadata": {},
   "outputs": [
    {
     "data": {
      "text/plain": [
       "(array([2.000e+00, 1.000e+00, 0.000e+00, 2.000e+00, 2.000e+00, 7.000e+00,\n",
       "        4.000e+00, 3.000e+00, 3.000e+00, 1.100e+01, 1.200e+01, 2.700e+01,\n",
       "        1.800e+01, 2.700e+01, 2.600e+01, 4.100e+01, 5.500e+01, 6.800e+01,\n",
       "        7.200e+01, 8.600e+01, 1.020e+02, 1.440e+02, 1.480e+02, 1.870e+02,\n",
       "        1.930e+02, 2.490e+02, 2.660e+02, 3.000e+02, 3.380e+02, 4.010e+02,\n",
       "        4.330e+02, 4.870e+02, 5.630e+02, 5.850e+02, 6.970e+02, 7.130e+02,\n",
       "        7.260e+02, 8.160e+02, 7.730e+02, 8.920e+02, 9.020e+02, 9.420e+02,\n",
       "        9.580e+02, 9.230e+02, 9.680e+02, 1.009e+03, 9.930e+02, 9.560e+02,\n",
       "        9.740e+02, 8.530e+02, 9.350e+02, 9.110e+02, 8.660e+02, 8.080e+02,\n",
       "        7.170e+02, 7.090e+02, 6.910e+02, 6.550e+02, 6.340e+02, 5.150e+02,\n",
       "        4.640e+02, 4.560e+02, 3.750e+02, 2.960e+02, 2.920e+02, 2.200e+02,\n",
       "        2.120e+02, 1.620e+02, 1.760e+02, 1.490e+02, 9.000e+01, 9.400e+01,\n",
       "        8.700e+01, 5.600e+01, 5.900e+01, 5.000e+01, 4.200e+01, 2.500e+01,\n",
       "        2.900e+01, 2.300e+01, 1.600e+01, 1.100e+01, 9.000e+00, 8.000e+00,\n",
       "        3.000e+00, 3.000e+00, 3.000e+00, 2.000e+00, 1.000e+00, 2.000e+00,\n",
       "        1.000e+00, 0.000e+00, 1.000e+00, 0.000e+00, 0.000e+00, 0.000e+00,\n",
       "        0.000e+00, 0.000e+00, 0.000e+00, 1.000e+00]),\n",
       " array([-22.46861863, -21.95379551, -21.43897239, -20.92414928,\n",
       "        -20.40932616, -19.89450305, -19.37967993, -18.86485682,\n",
       "        -18.3500337 , -17.83521058, -17.32038747, -16.80556435,\n",
       "        -16.29074124, -15.77591812, -15.26109501, -14.74627189,\n",
       "        -14.23144877, -13.71662566, -13.20180254, -12.68697943,\n",
       "        -12.17215631, -11.6573332 , -11.14251008, -10.62768696,\n",
       "        -10.11286385,  -9.59804073,  -9.08321762,  -8.5683945 ,\n",
       "         -8.05357139,  -7.53874827,  -7.02392515,  -6.50910204,\n",
       "         -5.99427892,  -5.47945581,  -4.96463269,  -4.44980958,\n",
       "         -3.93498646,  -3.42016334,  -2.90534023,  -2.39051711,\n",
       "         -1.875694  ,  -1.36087088,  -0.84604777,  -0.33122465,\n",
       "          0.18359847,   0.69842158,   1.2132447 ,   1.72806781,\n",
       "          2.24289093,   2.75771404,   3.27253716,   3.78736027,\n",
       "          4.30218339,   4.81700651,   5.33182962,   5.84665274,\n",
       "          6.36147585,   6.87629897,   7.39112208,   7.9059452 ,\n",
       "          8.42076832,   8.93559143,   9.45041455,   9.96523766,\n",
       "         10.48006078,  10.99488389,  11.50970701,  12.02453013,\n",
       "         12.53935324,  13.05417636,  13.56899947,  14.08382259,\n",
       "         14.5986457 ,  15.11346882,  15.62829194,  16.14311505,\n",
       "         16.65793817,  17.17276128,  17.6875844 ,  18.20240751,\n",
       "         18.71723063,  19.23205375,  19.74687686,  20.26169998,\n",
       "         20.77652309,  21.29134621,  21.80616932,  22.32099244,\n",
       "         22.83581556,  23.35063867,  23.86546179,  24.3802849 ,\n",
       "         24.89510802,  25.40993113,  25.92475425,  26.43957737,\n",
       "         26.95440048,  27.4692236 ,  27.98404671,  28.49886983,\n",
       "         29.01369294]),\n",
       " <a list of 100 Patch objects>)"
      ]
     },
     "execution_count": 308,
     "metadata": {},
     "output_type": "execute_result"
    },
    {
     "data": {
      "image/png": "[encoded data removed]",
      "text/plain": [
       "<Figure size 432x288 with 1 Axes>"
      ]
     },
     "metadata": {
      "needs_background": "light"
     },
     "output_type": "display_data"
    }
   ],
   "source": [
    "plt.hist(untreated,bins=100,alpha=0.5)\n",
    "plt.hist(treated,bins=100,alpha=0.5)\n",
    "\n",
    "plt.hist(trainpd[(trainpd[0]==1)][10],bins=100,alpha=0.5)\n",
    "plt.hist(trainpd[(trainpd[0]==0)][10],bins=100,alpha=0.5)"
   ]
  },
  {
   "cell_type": "code",
   "execution_count": null,
   "metadata": {},
   "outputs": [],
   "source": []
  },
  {
   "cell_type": "code",
   "execution_count": 307,
   "metadata": {},
   "outputs": [
    {
     "data": {
      "text/plain": [
       "(array([  3.,   0.,   3.,   0.,   3.,   5.,   4.,  14.,  12.,   7.,   9.,\n",
       "         18.,  12.,  27.,  29.,  33.,  42.,  40.,  44.,  64.,  72., 104.,\n",
       "        111., 138., 167., 160., 224., 278., 288., 291., 316., 387., 407.,\n",
       "        433., 471., 557., 563., 653., 623., 685., 733., 721., 792., 864.,\n",
       "        842., 904., 827., 914., 867., 886., 903., 870., 887., 883., 853.,\n",
       "        772., 802., 718., 661., 660., 640., 614., 555., 506., 490., 404.,\n",
       "        354., 335., 309., 287., 243., 206., 164., 175., 173., 104., 115.,\n",
       "         74.,  83.,  65.,  46.,  36.,  27.,  28.,  25.,  18.,  19.,  20.,\n",
       "          6.,   6.,   9.,   6.,   6.,   4.,   2.,   1.,   2.,   1.,   2.,\n",
       "          1.]),\n",
       " array([-7.08557848, -6.93332974, -6.78108101, -6.62883228, -6.47658355,\n",
       "        -6.32433482, -6.17208609, -6.01983735, -5.86758862, -5.71533989,\n",
       "        -5.56309116, -5.41084243, -5.2585937 , -5.10634497, -4.95409623,\n",
       "        -4.8018475 , -4.64959877, -4.49735004, -4.34510131, -4.19285258,\n",
       "        -4.04060384, -3.88835511, -3.73610638, -3.58385765, -3.43160892,\n",
       "        -3.27936019, -3.12711146, -2.97486272, -2.82261399, -2.67036526,\n",
       "        -2.51811653, -2.3658678 , -2.21361907, -2.06137033, -1.9091216 ,\n",
       "        -1.75687287, -1.60462414, -1.45237541, -1.30012668, -1.14787795,\n",
       "        -0.99562921, -0.84338048, -0.69113175, -0.53888302, -0.38663429,\n",
       "        -0.23438556, -0.08213682,  0.07011191,  0.22236064,  0.37460937,\n",
       "         0.5268581 ,  0.67910683,  0.83135556,  0.9836043 ,  1.13585303,\n",
       "         1.28810176,  1.44035049,  1.59259922,  1.74484795,  1.89709669,\n",
       "         2.04934542,  2.20159415,  2.35384288,  2.50609161,  2.65834034,\n",
       "         2.81058907,  2.96283781,  3.11508654,  3.26733527,  3.419584  ,\n",
       "         3.57183273,  3.72408146,  3.8763302 ,  4.02857893,  4.18082766,\n",
       "         4.33307639,  4.48532512,  4.63757385,  4.78982258,  4.94207132,\n",
       "         5.09432005,  5.24656878,  5.39881751,  5.55106624,  5.70331497,\n",
       "         5.85556371,  6.00781244,  6.16006117,  6.3123099 ,  6.46455863,\n",
       "         6.61680736,  6.76905609,  6.92130483,  7.07355356,  7.22580229,\n",
       "         7.37805102,  7.53029975,  7.68254848,  7.83479722,  7.98704595,\n",
       "         8.13929468]),\n",
       " <a list of 100 Patch objects>)"
      ]
     },
     "execution_count": 307,
     "metadata": {},
     "output_type": "execute_result"
    },
    {
     "data": {
      "image/png": "[encoded data removed]",
      "text/plain": [
       "<Figure size 432x288 with 1 Axes>"
      ]
     },
     "metadata": {
      "needs_background": "light"
     },
     "output_type": "display_data"
    }
   ],
   "source": [
    "plt.hist(trainpd[(trainpd[0]==1)][1],bins=100,alpha=0.5)\n",
    "plt.hist(trainpd[(trainpd[0]==0)][1],bins=100,alpha=0.5)"
   ]
  },
  {
   "cell_type": "code",
   "execution_count": null,
   "metadata": {},
   "outputs": [],
   "source": []
  },
  {
   "cell_type": "code",
   "execution_count": null,
   "metadata": {},
   "outputs": [],
   "source": []
  },
  {
   "cell_type": "code",
   "execution_count": null,
   "metadata": {},
   "outputs": [],
   "source": []
  },
  {
   "cell_type": "code",
   "execution_count": null,
   "metadata": {},
   "outputs": [],
   "source": []
  }
 ],
 "metadata": {
  "kernelspec": {
   "display_name": "Python 3",
   "language": "python",
   "name": "python3"
  },
  "language_info": {
   "codemirror_mode": {
    "name": "ipython",
    "version": 3
   },
   "file_extension": ".py",
   "mimetype": "text/x-python",
   "name": "python",
   "nbconvert_exporter": "python",
   "pygments_lexer": "ipython3",
   "version": "3.7.2"
  }
 },
 "nbformat": 4,
 "nbformat_minor": 2
}
